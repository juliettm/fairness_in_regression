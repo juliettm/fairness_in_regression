{
 "cells": [
  {
   "cell_type": "markdown",
   "metadata": {},
   "source": [
    "Datasets"
   ]
  },
  {
   "cell_type": "code",
   "execution_count": 1,
   "metadata": {
    "pycharm": {
     "name": "#%%\n"
    },
    "ExecuteTime": {
     "end_time": "2024-04-17T10:00:44.315103Z",
     "start_time": "2024-04-17T10:00:44.227771Z"
    }
   },
   "outputs": [],
   "source": [
    "import warnings\n",
    "warnings.filterwarnings(\"ignore\")\n",
    "import pandas as pd\n",
    "%matplotlib inline\n",
    "import numpy as np\n",
    "# seaborn histogram\n",
    "import seaborn as sns\n",
    "from sklearn.preprocessing import LabelBinarizer, OneHotEncoder"
   ]
  },
  {
   "cell_type": "code",
   "execution_count": 2,
   "metadata": {
    "pycharm": {
     "name": "#%%\n"
    },
    "ExecuteTime": {
     "end_time": "2024-04-17T10:00:45.397733Z",
     "start_time": "2024-04-17T10:00:45.370673Z"
    }
   },
   "outputs": [],
   "source": [
    "import sys\n",
    "import os\n",
    "to_insert = os.getcwd()\n",
    "# to import utils\n",
    "sys.path.append(to_insert)"
   ]
  },
  {
   "cell_type": "markdown",
   "metadata": {},
   "source": [
    "Comunities and Crime\n",
    "\n",
    "race -> racepctblack - 0, racePctWhite - 1, racePctAsian - 2, racePctHisp - 3"
   ]
  },
  {
   "cell_type": "code",
   "execution_count": 3,
   "metadata": {
    "pycharm": {
     "name": "#%%\n"
    },
    "ExecuteTime": {
     "end_time": "2024-04-17T10:00:50.837910Z",
     "start_time": "2024-04-17T10:00:50.750066Z"
    }
   },
   "outputs": [
    {
     "data": {
      "text/plain": "   population  householdsize  agePct12t21  agePct12t29  agePct16t24  \\\n0        0.19           0.33         0.34         0.47         0.29   \n1        0.00           0.16         0.26         0.59         0.35   \n2        0.00           0.42         0.39         0.47         0.28   \n3        0.04           0.77         0.51         0.50         0.34   \n4        0.01           0.55         0.38         0.38         0.23   \n5        0.02           0.28         0.31         0.48         0.27   \n6        0.01           0.39         0.30         0.37         0.23   \n7        0.01           0.74         0.52         0.55         0.36   \n8        0.03           0.34         0.38         0.45         0.28   \n9        0.01           0.40         0.90         0.82         0.80   \n\n   agePct65up  numbUrban  pctUrban  medIncome  pctWWage  ...  PctSameHouse85  \\\n0        0.32       0.20      1.00       0.37      0.72  ...            0.50   \n1        0.27       0.02      1.00       0.31      0.72  ...            0.34   \n2        0.32       0.00      0.00       0.30      0.58  ...            0.54   \n3        0.21       0.06      1.00       0.58      0.89  ...            0.73   \n4        0.36       0.02      0.90       0.50      0.72  ...            0.64   \n5        0.37       0.04      1.00       0.52      0.68  ...            0.49   \n6        0.60       0.02      0.81       0.42      0.50  ...            0.77   \n7        0.35       0.00      0.00       0.16      0.44  ...            0.52   \n8        0.48       0.04      1.00       0.17      0.47  ...            0.48   \n9        0.39       0.02      1.00       0.54      0.59  ...            0.34   \n\n   PctSameCity85  PctSameState85  LandArea  PopDens  PctUsePubTrans  \\\n0           0.51            0.64      0.12     0.26            0.20   \n1           0.60            0.52      0.02     0.12            0.45   \n2           0.67            0.56      0.01     0.21            0.02   \n3           0.64            0.65      0.02     0.39            0.28   \n4           0.61            0.53      0.04     0.09            0.02   \n5           0.73            0.64      0.01     0.58            0.10   \n6           0.91            0.84      0.05     0.08            0.06   \n7           0.79            0.78      0.01     0.33            0.00   \n8           0.79            0.75      0.04     0.17            0.04   \n9           0.23            0.09      0.00     0.47            0.11   \n\n   LemasPctOfficDrugUn  ViolentCrimesPerPop  race  ViolentCrimesPerPop_binary  \n0                 0.32                 0.20     1                           1  \n1                 0.00                 0.67     1                           1  \n2                 0.00                 0.43     1                           1  \n3                 0.00                 0.12     0                           0  \n4                 0.00                 0.03     1                           0  \n5                 0.00                 0.14     0                           0  \n6                 0.00                 0.03     1                           0  \n7                 0.00                 0.55     0                           1  \n8                 0.00                 0.53     1                           1  \n9                 0.00                 0.15     1                           1  \n\n[10 rows x 99 columns]",
      "text/html": "<div>\n<style scoped>\n    .dataframe tbody tr th:only-of-type {\n        vertical-align: middle;\n    }\n\n    .dataframe tbody tr th {\n        vertical-align: top;\n    }\n\n    .dataframe thead th {\n        text-align: right;\n    }\n</style>\n<table border=\"1\" class=\"dataframe\">\n  <thead>\n    <tr style=\"text-align: right;\">\n      <th></th>\n      <th>population</th>\n      <th>householdsize</th>\n      <th>agePct12t21</th>\n      <th>agePct12t29</th>\n      <th>agePct16t24</th>\n      <th>agePct65up</th>\n      <th>numbUrban</th>\n      <th>pctUrban</th>\n      <th>medIncome</th>\n      <th>pctWWage</th>\n      <th>...</th>\n      <th>PctSameHouse85</th>\n      <th>PctSameCity85</th>\n      <th>PctSameState85</th>\n      <th>LandArea</th>\n      <th>PopDens</th>\n      <th>PctUsePubTrans</th>\n      <th>LemasPctOfficDrugUn</th>\n      <th>ViolentCrimesPerPop</th>\n      <th>race</th>\n      <th>ViolentCrimesPerPop_binary</th>\n    </tr>\n  </thead>\n  <tbody>\n    <tr>\n      <th>0</th>\n      <td>0.19</td>\n      <td>0.33</td>\n      <td>0.34</td>\n      <td>0.47</td>\n      <td>0.29</td>\n      <td>0.32</td>\n      <td>0.20</td>\n      <td>1.00</td>\n      <td>0.37</td>\n      <td>0.72</td>\n      <td>...</td>\n      <td>0.50</td>\n      <td>0.51</td>\n      <td>0.64</td>\n      <td>0.12</td>\n      <td>0.26</td>\n      <td>0.20</td>\n      <td>0.32</td>\n      <td>0.20</td>\n      <td>1</td>\n      <td>1</td>\n    </tr>\n    <tr>\n      <th>1</th>\n      <td>0.00</td>\n      <td>0.16</td>\n      <td>0.26</td>\n      <td>0.59</td>\n      <td>0.35</td>\n      <td>0.27</td>\n      <td>0.02</td>\n      <td>1.00</td>\n      <td>0.31</td>\n      <td>0.72</td>\n      <td>...</td>\n      <td>0.34</td>\n      <td>0.60</td>\n      <td>0.52</td>\n      <td>0.02</td>\n      <td>0.12</td>\n      <td>0.45</td>\n      <td>0.00</td>\n      <td>0.67</td>\n      <td>1</td>\n      <td>1</td>\n    </tr>\n    <tr>\n      <th>2</th>\n      <td>0.00</td>\n      <td>0.42</td>\n      <td>0.39</td>\n      <td>0.47</td>\n      <td>0.28</td>\n      <td>0.32</td>\n      <td>0.00</td>\n      <td>0.00</td>\n      <td>0.30</td>\n      <td>0.58</td>\n      <td>...</td>\n      <td>0.54</td>\n      <td>0.67</td>\n      <td>0.56</td>\n      <td>0.01</td>\n      <td>0.21</td>\n      <td>0.02</td>\n      <td>0.00</td>\n      <td>0.43</td>\n      <td>1</td>\n      <td>1</td>\n    </tr>\n    <tr>\n      <th>3</th>\n      <td>0.04</td>\n      <td>0.77</td>\n      <td>0.51</td>\n      <td>0.50</td>\n      <td>0.34</td>\n      <td>0.21</td>\n      <td>0.06</td>\n      <td>1.00</td>\n      <td>0.58</td>\n      <td>0.89</td>\n      <td>...</td>\n      <td>0.73</td>\n      <td>0.64</td>\n      <td>0.65</td>\n      <td>0.02</td>\n      <td>0.39</td>\n      <td>0.28</td>\n      <td>0.00</td>\n      <td>0.12</td>\n      <td>0</td>\n      <td>0</td>\n    </tr>\n    <tr>\n      <th>4</th>\n      <td>0.01</td>\n      <td>0.55</td>\n      <td>0.38</td>\n      <td>0.38</td>\n      <td>0.23</td>\n      <td>0.36</td>\n      <td>0.02</td>\n      <td>0.90</td>\n      <td>0.50</td>\n      <td>0.72</td>\n      <td>...</td>\n      <td>0.64</td>\n      <td>0.61</td>\n      <td>0.53</td>\n      <td>0.04</td>\n      <td>0.09</td>\n      <td>0.02</td>\n      <td>0.00</td>\n      <td>0.03</td>\n      <td>1</td>\n      <td>0</td>\n    </tr>\n    <tr>\n      <th>5</th>\n      <td>0.02</td>\n      <td>0.28</td>\n      <td>0.31</td>\n      <td>0.48</td>\n      <td>0.27</td>\n      <td>0.37</td>\n      <td>0.04</td>\n      <td>1.00</td>\n      <td>0.52</td>\n      <td>0.68</td>\n      <td>...</td>\n      <td>0.49</td>\n      <td>0.73</td>\n      <td>0.64</td>\n      <td>0.01</td>\n      <td>0.58</td>\n      <td>0.10</td>\n      <td>0.00</td>\n      <td>0.14</td>\n      <td>0</td>\n      <td>0</td>\n    </tr>\n    <tr>\n      <th>6</th>\n      <td>0.01</td>\n      <td>0.39</td>\n      <td>0.30</td>\n      <td>0.37</td>\n      <td>0.23</td>\n      <td>0.60</td>\n      <td>0.02</td>\n      <td>0.81</td>\n      <td>0.42</td>\n      <td>0.50</td>\n      <td>...</td>\n      <td>0.77</td>\n      <td>0.91</td>\n      <td>0.84</td>\n      <td>0.05</td>\n      <td>0.08</td>\n      <td>0.06</td>\n      <td>0.00</td>\n      <td>0.03</td>\n      <td>1</td>\n      <td>0</td>\n    </tr>\n    <tr>\n      <th>7</th>\n      <td>0.01</td>\n      <td>0.74</td>\n      <td>0.52</td>\n      <td>0.55</td>\n      <td>0.36</td>\n      <td>0.35</td>\n      <td>0.00</td>\n      <td>0.00</td>\n      <td>0.16</td>\n      <td>0.44</td>\n      <td>...</td>\n      <td>0.52</td>\n      <td>0.79</td>\n      <td>0.78</td>\n      <td>0.01</td>\n      <td>0.33</td>\n      <td>0.00</td>\n      <td>0.00</td>\n      <td>0.55</td>\n      <td>0</td>\n      <td>1</td>\n    </tr>\n    <tr>\n      <th>8</th>\n      <td>0.03</td>\n      <td>0.34</td>\n      <td>0.38</td>\n      <td>0.45</td>\n      <td>0.28</td>\n      <td>0.48</td>\n      <td>0.04</td>\n      <td>1.00</td>\n      <td>0.17</td>\n      <td>0.47</td>\n      <td>...</td>\n      <td>0.48</td>\n      <td>0.79</td>\n      <td>0.75</td>\n      <td>0.04</td>\n      <td>0.17</td>\n      <td>0.04</td>\n      <td>0.00</td>\n      <td>0.53</td>\n      <td>1</td>\n      <td>1</td>\n    </tr>\n    <tr>\n      <th>9</th>\n      <td>0.01</td>\n      <td>0.40</td>\n      <td>0.90</td>\n      <td>0.82</td>\n      <td>0.80</td>\n      <td>0.39</td>\n      <td>0.02</td>\n      <td>1.00</td>\n      <td>0.54</td>\n      <td>0.59</td>\n      <td>...</td>\n      <td>0.34</td>\n      <td>0.23</td>\n      <td>0.09</td>\n      <td>0.00</td>\n      <td>0.47</td>\n      <td>0.11</td>\n      <td>0.00</td>\n      <td>0.15</td>\n      <td>1</td>\n      <td>1</td>\n    </tr>\n  </tbody>\n</table>\n<p>10 rows × 99 columns</p>\n</div>"
     },
     "execution_count": 3,
     "metadata": {},
     "output_type": "execute_result"
    }
   ],
   "source": [
    "\n",
    "column_name = [\"state\", \"county\", \"community\", \"communityname\", \"fold\", \"population\", \"householdsize\",\n",
    "               \"racepctblack\", \"racePctWhite\", \"racePctAsian\", \"racePctHisp\", \"agePct12t21\", \"agePct12t29\",\n",
    "               \"agePct16t24\", \"agePct65up\", \"numbUrban\", \"pctUrban\", \"medIncome\", \"pctWWage\", \"pctWFarmSelf\",\n",
    "               \"pctWInvInc\", \"pctWSocSec\", \"pctWPubAsst\", \"pctWRetire\", \"medFamInc\", \"perCapInc\", \"whitePerCap\",\n",
    "               \"blackPerCap\", \"indianPerCap\", \"AsianPerCap\", \"OtherPerCap\", \"HispPerCap\", \"NumUnderPov\",\n",
    "               \"PctPopUnderPov\", \"PctLess9thGrade\", \"PctNotHSGrad\", \"PctBSorMore\", \"PctUnemployed\", \"PctEmploy\",\n",
    "               \"PctEmplManu\", \"PctEmplProfServ\", \"PctOccupManu\", \"PctOccupMgmtProf\", \"MalePctDivorce\",\n",
    "               \"MalePctNevMarr\", \"FemalePctDiv\", \"TotalPctDiv\", \"PersPerFam\", \"PctFam2Par\", \"PctKids2Par\",\n",
    "               \"PctYoungKids2Par\", \"PctTeen2Par\", \"PctWorkMomYoungKids\", \"PctWorkMom\", \"NumIlleg\", \"PctIlleg\",\n",
    "               \"NumImmig\", \"PctImmigRecent\", \"PctImmigRec5\", \"PctImmigRec8\", \"PctImmigRec10\", \"PctRecentImmig\",\n",
    "               \"PctRecImmig5\", \"PctRecImmig8\", \"PctRecImmig10\", \"PctSpeakEnglOnly\", \"PctNotSpeakEnglWell\",\n",
    "               \"PctLargHouseFam\", \"PctLargHouseOccup\", \"PersPerOccupHous\", \"PersPerOwnOccHous\",\n",
    "               \"PersPerRentOccHous\", \"PctPersOwnOccup\", \"PctPersDenseHous\", \"PctHousLess3BR\", \"MedNumBR\",\n",
    "               \"HousVacant\", \"PctHousOccup\", \"PctHousOwnOcc\", \"PctVacantBoarded\", \"PctVacMore6Mos\",\n",
    "               \"MedYrHousBuilt\", \"PctHousNoPhone\", \"PctWOFullPlumb\", \"OwnOccLowQuart\", \"OwnOccMedVal\",\n",
    "               \"OwnOccHiQuart\", \"RentLowQ\", \"RentMedian\", \"RentHighQ\", \"MedRent\", \"MedRentPctHousInc\",\n",
    "               \"MedOwnCostPctInc\", \"MedOwnCostPctIncNoMtg\", \"NumInShelters\", \"NumStreet\", \"PctForeignBorn\",\n",
    "               \"PctBornSameState\", \"PctSameHouse85\", \"PctSameCity85\", \"PctSameState85\", \"LemasSwornFT\",\n",
    "               \"LemasSwFTPerPop\", \"LemasSwFTFieldOps\", \"LemasSwFTFieldPerPop\", \"LemasTotalReq\",\n",
    "               \"LemasTotReqPerPop\", \"PolicReqPerOffic\", \"PolicPerPop\", \"RacialMatchCommPol\", \"PctPolicWhite\",\n",
    "               \"PctPolicBlack\", \"PctPolicHisp\", \"PctPolicAsian\", \"PctPolicMinor\", \"OfficAssgnDrugUnits\",\n",
    "               \"NumKindsDrugsSeiz\", \"PolicAveOTWorked\", \"LandArea\", \"PopDens\", \"PctUsePubTrans\", \"PolicCars\",\n",
    "               \"PolicOperBudg\", \"LemasPctPolicOnPatr\", \"LemasGangUnitDeploy\", \"LemasPctOfficDrugUn\",\n",
    "               \"PolicBudgPerPop\", \"ViolentCrimesPerPop\"]\n",
    "\n",
    "df = pd.read_csv(\"../datasets/crime/communities.data\", sep=',', names=column_name)\n",
    "# remove the variables not used for prediction\n",
    "data = df.drop(['state', 'county', 'community', 'communityname', 'fold'], axis=1)\n",
    "\n",
    "# drop observations with missing values\n",
    "data = data.replace('?', np.nan)\n",
    "data = data[data.columns[data.isna().mean(0) < 0.1]]\n",
    "data = data.replace('?', np.nan).dropna(axis=0, how='any')\n",
    "dataset = data.astype(float)\n",
    "\n",
    "# race column\n",
    "# race -> racepctblack - 0, racePctWhite - 1, racePctAsian - 2, racePctHisp - 3\n",
    "race = np.argmax(data[['racepctblack', 'racePctWhite', 'racePctAsian', 'racePctHisp']].values, 1)\n",
    "dataset['race'] = race\n",
    "dataset['race'] = dataset['race'].apply(lambda x: 1 if x == 1 else 0)\n",
    "\n",
    "dataset.drop(['racepctblack', 'racePctWhite', 'racePctAsian', 'racePctHisp'], axis=1, inplace=True)\n",
    "\n",
    "# computing the binary outcome\n",
    "dataset['ViolentCrimesPerPop_binary'] = dataset['ViolentCrimesPerPop'] >= 0.15\n",
    "dataset['ViolentCrimesPerPop_binary'] = dataset['ViolentCrimesPerPop_binary'].astype(int)\n",
    "\n",
    "for e in ['racepctblack', 'racePctWhite', 'racePctAsian', 'racePctHisp', 'ViolentCrimesPerPop', 'state',\n",
    "          'county', 'community', 'communityname', 'fold']:\n",
    "    column_name.remove(e)\n",
    "\n",
    "column_name.append('race')\n",
    "dataset.reset_index(drop=True, inplace=True)\n",
    "\n",
    "dataset.head(10)"
   ]
  },
  {
   "cell_type": "code",
   "execution_count": 4,
   "metadata": {
    "pycharm": {
     "name": "#%%\n"
    },
    "ExecuteTime": {
     "end_time": "2024-04-17T10:00:54.373328Z",
     "start_time": "2024-04-17T10:00:54.340630Z"
    }
   },
   "outputs": [
    {
     "data": {
      "text/plain": "population                    0\nhouseholdsize                 0\nagePct12t21                   0\nagePct12t29                   0\nagePct16t24                   0\n                             ..\nPctUsePubTrans                0\nLemasPctOfficDrugUn           0\nViolentCrimesPerPop           0\nrace                          0\nViolentCrimesPerPop_binary    0\nLength: 99, dtype: int64"
     },
     "execution_count": 4,
     "metadata": {},
     "output_type": "execute_result"
    }
   ],
   "source": [
    "dataset.isna().sum()"
   ]
  },
  {
   "cell_type": "code",
   "execution_count": 5,
   "metadata": {
    "pycharm": {
     "name": "#%%\n"
    },
    "ExecuteTime": {
     "end_time": "2024-04-17T10:01:00.524305Z",
     "start_time": "2024-04-17T10:00:57.286693Z"
    }
   },
   "outputs": [
    {
     "ename": "FileNotFoundError",
     "evalue": "[Errno 2] No such file or directory: '..datasets_figures/crime.pdf'",
     "output_type": "error",
     "traceback": [
      "\u001B[0;31m---------------------------------------------------------------------------\u001B[0m",
      "\u001B[0;31mFileNotFoundError\u001B[0m                         Traceback (most recent call last)",
      "Input \u001B[0;32mIn [5]\u001B[0m, in \u001B[0;36m<module>\u001B[0;34m\u001B[0m\n\u001B[1;32m      2\u001B[0m sns_plot \u001B[38;5;241m=\u001B[39m sns\u001B[38;5;241m.\u001B[39mdisplot(data\u001B[38;5;241m=\u001B[39mdataset, x \u001B[38;5;241m=\u001B[39m \u001B[38;5;124m'\u001B[39m\u001B[38;5;124mViolentCrimesPerPop\u001B[39m\u001B[38;5;124m'\u001B[39m, hue\u001B[38;5;241m=\u001B[39m\u001B[38;5;124m'\u001B[39m\u001B[38;5;124mrace\u001B[39m\u001B[38;5;124m'\u001B[39m,\n\u001B[1;32m      3\u001B[0m             multiple \u001B[38;5;241m=\u001B[39m \u001B[38;5;124m'\u001B[39m\u001B[38;5;124mstack\u001B[39m\u001B[38;5;124m'\u001B[39m, palette\u001B[38;5;241m=\u001B[39m \u001B[38;5;124m'\u001B[39m\u001B[38;5;124mGreys\u001B[39m\u001B[38;5;124m'\u001B[39m, bins \u001B[38;5;241m=\u001B[39m \u001B[38;5;241m10\u001B[39m)\n\u001B[1;32m      4\u001B[0m sns\u001B[38;5;241m.\u001B[39mmove_legend(sns_plot, \u001B[38;5;124m\"\u001B[39m\u001B[38;5;124mupper right\u001B[39m\u001B[38;5;124m\"\u001B[39m, bbox_to_anchor\u001B[38;5;241m=\u001B[39m( \u001B[38;5;241m.8\u001B[39m, \u001B[38;5;241m1\u001B[39m))\n\u001B[0;32m----> 5\u001B[0m \u001B[43msns_plot\u001B[49m\u001B[38;5;241;43m.\u001B[39;49m\u001B[43mfigure\u001B[49m\u001B[38;5;241;43m.\u001B[39;49m\u001B[43msavefig\u001B[49m\u001B[43m(\u001B[49m\u001B[38;5;124;43m\"\u001B[39;49m\u001B[38;5;124;43m..datasets_figures/crime.pdf\u001B[39;49m\u001B[38;5;124;43m\"\u001B[39;49m\u001B[43m,\u001B[49m\u001B[43m \u001B[49m\u001B[43mbbox_inches\u001B[49m\u001B[38;5;241;43m=\u001B[39;49m\u001B[38;5;124;43m'\u001B[39;49m\u001B[38;5;124;43mtight\u001B[39;49m\u001B[38;5;124;43m'\u001B[39;49m\u001B[43m)\u001B[49m\n",
      "File \u001B[0;32m~/.virtualenvs/dfd/lib/python3.8/site-packages/matplotlib/figure.py:3015\u001B[0m, in \u001B[0;36mFigure.savefig\u001B[0;34m(self, fname, transparent, **kwargs)\u001B[0m\n\u001B[1;32m   3012\u001B[0m         patch\u001B[38;5;241m.\u001B[39mset_facecolor(\u001B[38;5;124m'\u001B[39m\u001B[38;5;124mnone\u001B[39m\u001B[38;5;124m'\u001B[39m)\n\u001B[1;32m   3013\u001B[0m         patch\u001B[38;5;241m.\u001B[39mset_edgecolor(\u001B[38;5;124m'\u001B[39m\u001B[38;5;124mnone\u001B[39m\u001B[38;5;124m'\u001B[39m)\n\u001B[0;32m-> 3015\u001B[0m \u001B[38;5;28;43mself\u001B[39;49m\u001B[38;5;241;43m.\u001B[39;49m\u001B[43mcanvas\u001B[49m\u001B[38;5;241;43m.\u001B[39;49m\u001B[43mprint_figure\u001B[49m\u001B[43m(\u001B[49m\u001B[43mfname\u001B[49m\u001B[43m,\u001B[49m\u001B[43m \u001B[49m\u001B[38;5;241;43m*\u001B[39;49m\u001B[38;5;241;43m*\u001B[39;49m\u001B[43mkwargs\u001B[49m\u001B[43m)\u001B[49m\n\u001B[1;32m   3017\u001B[0m \u001B[38;5;28;01mif\u001B[39;00m transparent:\n\u001B[1;32m   3018\u001B[0m     \u001B[38;5;28;01mfor\u001B[39;00m ax, cc \u001B[38;5;129;01min\u001B[39;00m \u001B[38;5;28mzip\u001B[39m(\u001B[38;5;28mself\u001B[39m\u001B[38;5;241m.\u001B[39maxes, original_axes_colors):\n",
      "File \u001B[0;32m~/.virtualenvs/dfd/lib/python3.8/site-packages/matplotlib/backend_bases.py:2255\u001B[0m, in \u001B[0;36mFigureCanvasBase.print_figure\u001B[0;34m(self, filename, dpi, facecolor, edgecolor, orientation, format, bbox_inches, pad_inches, bbox_extra_artists, backend, **kwargs)\u001B[0m\n\u001B[1;32m   2251\u001B[0m \u001B[38;5;28;01mtry\u001B[39;00m:\n\u001B[1;32m   2252\u001B[0m     \u001B[38;5;66;03m# _get_renderer may change the figure dpi (as vector formats\u001B[39;00m\n\u001B[1;32m   2253\u001B[0m     \u001B[38;5;66;03m# force the figure dpi to 72), so we need to set it again here.\u001B[39;00m\n\u001B[1;32m   2254\u001B[0m     \u001B[38;5;28;01mwith\u001B[39;00m cbook\u001B[38;5;241m.\u001B[39m_setattr_cm(\u001B[38;5;28mself\u001B[39m\u001B[38;5;241m.\u001B[39mfigure, dpi\u001B[38;5;241m=\u001B[39mdpi):\n\u001B[0;32m-> 2255\u001B[0m         result \u001B[38;5;241m=\u001B[39m \u001B[43mprint_method\u001B[49m\u001B[43m(\u001B[49m\n\u001B[1;32m   2256\u001B[0m \u001B[43m            \u001B[49m\u001B[43mfilename\u001B[49m\u001B[43m,\u001B[49m\n\u001B[1;32m   2257\u001B[0m \u001B[43m            \u001B[49m\u001B[43mfacecolor\u001B[49m\u001B[38;5;241;43m=\u001B[39;49m\u001B[43mfacecolor\u001B[49m\u001B[43m,\u001B[49m\n\u001B[1;32m   2258\u001B[0m \u001B[43m            \u001B[49m\u001B[43medgecolor\u001B[49m\u001B[38;5;241;43m=\u001B[39;49m\u001B[43medgecolor\u001B[49m\u001B[43m,\u001B[49m\n\u001B[1;32m   2259\u001B[0m \u001B[43m            \u001B[49m\u001B[43morientation\u001B[49m\u001B[38;5;241;43m=\u001B[39;49m\u001B[43morientation\u001B[49m\u001B[43m,\u001B[49m\n\u001B[1;32m   2260\u001B[0m \u001B[43m            \u001B[49m\u001B[43mbbox_inches_restore\u001B[49m\u001B[38;5;241;43m=\u001B[39;49m\u001B[43m_bbox_inches_restore\u001B[49m\u001B[43m,\u001B[49m\n\u001B[1;32m   2261\u001B[0m \u001B[43m            \u001B[49m\u001B[38;5;241;43m*\u001B[39;49m\u001B[38;5;241;43m*\u001B[39;49m\u001B[43mkwargs\u001B[49m\u001B[43m)\u001B[49m\n\u001B[1;32m   2262\u001B[0m \u001B[38;5;28;01mfinally\u001B[39;00m:\n\u001B[1;32m   2263\u001B[0m     \u001B[38;5;28;01mif\u001B[39;00m bbox_inches \u001B[38;5;129;01mand\u001B[39;00m restore_bbox:\n",
      "File \u001B[0;32m~/.virtualenvs/dfd/lib/python3.8/site-packages/matplotlib/backend_bases.py:1669\u001B[0m, in \u001B[0;36m_check_savefig_extra_args.<locals>.wrapper\u001B[0;34m(*args, **kwargs)\u001B[0m\n\u001B[1;32m   1661\u001B[0m     _api\u001B[38;5;241m.\u001B[39mwarn_deprecated(\n\u001B[1;32m   1662\u001B[0m         \u001B[38;5;124m'\u001B[39m\u001B[38;5;124m3.3\u001B[39m\u001B[38;5;124m'\u001B[39m, name\u001B[38;5;241m=\u001B[39mname,\n\u001B[1;32m   1663\u001B[0m         message\u001B[38;5;241m=\u001B[39m\u001B[38;5;124m'\u001B[39m\u001B[38;5;132;01m%(name)s\u001B[39;00m\u001B[38;5;124m() got unexpected keyword argument \u001B[39m\u001B[38;5;124m\"\u001B[39m\u001B[38;5;124m'\u001B[39m\n\u001B[1;32m   1664\u001B[0m                 \u001B[38;5;241m+\u001B[39m arg \u001B[38;5;241m+\u001B[39m \u001B[38;5;124m'\u001B[39m\u001B[38;5;124m\"\u001B[39m\u001B[38;5;124m which is no longer supported as of \u001B[39m\u001B[38;5;124m'\u001B[39m\n\u001B[1;32m   1665\u001B[0m                 \u001B[38;5;124m'\u001B[39m\u001B[38;5;132;01m%(since)s\u001B[39;00m\u001B[38;5;124m and will become an error \u001B[39m\u001B[38;5;124m'\u001B[39m\n\u001B[1;32m   1666\u001B[0m                 \u001B[38;5;124m'\u001B[39m\u001B[38;5;132;01m%(removal)s\u001B[39;00m\u001B[38;5;124m'\u001B[39m)\n\u001B[1;32m   1667\u001B[0m     kwargs\u001B[38;5;241m.\u001B[39mpop(arg)\n\u001B[0;32m-> 1669\u001B[0m \u001B[38;5;28;01mreturn\u001B[39;00m \u001B[43mfunc\u001B[49m\u001B[43m(\u001B[49m\u001B[38;5;241;43m*\u001B[39;49m\u001B[43margs\u001B[49m\u001B[43m,\u001B[49m\u001B[43m \u001B[49m\u001B[38;5;241;43m*\u001B[39;49m\u001B[38;5;241;43m*\u001B[39;49m\u001B[43mkwargs\u001B[49m\u001B[43m)\u001B[49m\n",
      "File \u001B[0;32m~/.virtualenvs/dfd/lib/python3.8/site-packages/matplotlib/_api/deprecation.py:431\u001B[0m, in \u001B[0;36mdelete_parameter.<locals>.wrapper\u001B[0;34m(*inner_args, **inner_kwargs)\u001B[0m\n\u001B[1;32m    421\u001B[0m     deprecation_addendum \u001B[38;5;241m=\u001B[39m (\n\u001B[1;32m    422\u001B[0m         \u001B[38;5;124mf\u001B[39m\u001B[38;5;124m\"\u001B[39m\u001B[38;5;124mIf any parameter follows \u001B[39m\u001B[38;5;132;01m{\u001B[39;00mname\u001B[38;5;132;01m!r}\u001B[39;00m\u001B[38;5;124m, they should be passed as \u001B[39m\u001B[38;5;124m\"\u001B[39m\n\u001B[1;32m    423\u001B[0m         \u001B[38;5;124mf\u001B[39m\u001B[38;5;124m\"\u001B[39m\u001B[38;5;124mkeyword, not positionally.\u001B[39m\u001B[38;5;124m\"\u001B[39m)\n\u001B[1;32m    424\u001B[0m     warn_deprecated(\n\u001B[1;32m    425\u001B[0m         since,\n\u001B[1;32m    426\u001B[0m         name\u001B[38;5;241m=\u001B[39m\u001B[38;5;28mrepr\u001B[39m(name),\n\u001B[0;32m   (...)\u001B[0m\n\u001B[1;32m    429\u001B[0m                  \u001B[38;5;28;01melse\u001B[39;00m deprecation_addendum,\n\u001B[1;32m    430\u001B[0m         \u001B[38;5;241m*\u001B[39m\u001B[38;5;241m*\u001B[39mkwargs)\n\u001B[0;32m--> 431\u001B[0m \u001B[38;5;28;01mreturn\u001B[39;00m \u001B[43mfunc\u001B[49m\u001B[43m(\u001B[49m\u001B[38;5;241;43m*\u001B[39;49m\u001B[43minner_args\u001B[49m\u001B[43m,\u001B[49m\u001B[43m \u001B[49m\u001B[38;5;241;43m*\u001B[39;49m\u001B[38;5;241;43m*\u001B[39;49m\u001B[43minner_kwargs\u001B[49m\u001B[43m)\u001B[49m\n",
      "File \u001B[0;32m~/.virtualenvs/dfd/lib/python3.8/site-packages/matplotlib/backends/backend_pdf.py:2718\u001B[0m, in \u001B[0;36mFigureCanvasPdf.print_pdf\u001B[0;34m(self, filename, dpi, bbox_inches_restore, metadata)\u001B[0m\n\u001B[1;32m   2716\u001B[0m     file \u001B[38;5;241m=\u001B[39m filename\u001B[38;5;241m.\u001B[39m_file\n\u001B[1;32m   2717\u001B[0m \u001B[38;5;28;01melse\u001B[39;00m:\n\u001B[0;32m-> 2718\u001B[0m     file \u001B[38;5;241m=\u001B[39m \u001B[43mPdfFile\u001B[49m\u001B[43m(\u001B[49m\u001B[43mfilename\u001B[49m\u001B[43m,\u001B[49m\u001B[43m \u001B[49m\u001B[43mmetadata\u001B[49m\u001B[38;5;241;43m=\u001B[39;49m\u001B[43mmetadata\u001B[49m\u001B[43m)\u001B[49m\n\u001B[1;32m   2719\u001B[0m \u001B[38;5;28;01mtry\u001B[39;00m:\n\u001B[1;32m   2720\u001B[0m     file\u001B[38;5;241m.\u001B[39mnewPage(width, height)\n",
      "File \u001B[0;32m~/.virtualenvs/dfd/lib/python3.8/site-packages/matplotlib/backends/backend_pdf.py:637\u001B[0m, in \u001B[0;36mPdfFile.__init__\u001B[0;34m(self, filename, metadata)\u001B[0m\n\u001B[1;32m    635\u001B[0m \u001B[38;5;28mself\u001B[39m\u001B[38;5;241m.\u001B[39moriginal_file_like \u001B[38;5;241m=\u001B[39m \u001B[38;5;28;01mNone\u001B[39;00m\n\u001B[1;32m    636\u001B[0m \u001B[38;5;28mself\u001B[39m\u001B[38;5;241m.\u001B[39mtell_base \u001B[38;5;241m=\u001B[39m \u001B[38;5;241m0\u001B[39m\n\u001B[0;32m--> 637\u001B[0m fh, opened \u001B[38;5;241m=\u001B[39m \u001B[43mcbook\u001B[49m\u001B[38;5;241;43m.\u001B[39;49m\u001B[43mto_filehandle\u001B[49m\u001B[43m(\u001B[49m\u001B[43mfilename\u001B[49m\u001B[43m,\u001B[49m\u001B[43m \u001B[49m\u001B[38;5;124;43m\"\u001B[39;49m\u001B[38;5;124;43mwb\u001B[39;49m\u001B[38;5;124;43m\"\u001B[39;49m\u001B[43m,\u001B[49m\u001B[43m \u001B[49m\u001B[43mreturn_opened\u001B[49m\u001B[38;5;241;43m=\u001B[39;49m\u001B[38;5;28;43;01mTrue\u001B[39;49;00m\u001B[43m)\u001B[49m\n\u001B[1;32m    638\u001B[0m \u001B[38;5;28;01mif\u001B[39;00m \u001B[38;5;129;01mnot\u001B[39;00m opened:\n\u001B[1;32m    639\u001B[0m     \u001B[38;5;28;01mtry\u001B[39;00m:\n",
      "File \u001B[0;32m~/.virtualenvs/dfd/lib/python3.8/site-packages/matplotlib/cbook/__init__.py:462\u001B[0m, in \u001B[0;36mto_filehandle\u001B[0;34m(fname, flag, return_opened, encoding)\u001B[0m\n\u001B[1;32m    460\u001B[0m         fh \u001B[38;5;241m=\u001B[39m bz2\u001B[38;5;241m.\u001B[39mBZ2File(fname, flag)\n\u001B[1;32m    461\u001B[0m     \u001B[38;5;28;01melse\u001B[39;00m:\n\u001B[0;32m--> 462\u001B[0m         fh \u001B[38;5;241m=\u001B[39m \u001B[38;5;28;43mopen\u001B[39;49m\u001B[43m(\u001B[49m\u001B[43mfname\u001B[49m\u001B[43m,\u001B[49m\u001B[43m \u001B[49m\u001B[43mflag\u001B[49m\u001B[43m,\u001B[49m\u001B[43m \u001B[49m\u001B[43mencoding\u001B[49m\u001B[38;5;241;43m=\u001B[39;49m\u001B[43mencoding\u001B[49m\u001B[43m)\u001B[49m\n\u001B[1;32m    463\u001B[0m     opened \u001B[38;5;241m=\u001B[39m \u001B[38;5;28;01mTrue\u001B[39;00m\n\u001B[1;32m    464\u001B[0m \u001B[38;5;28;01melif\u001B[39;00m \u001B[38;5;28mhasattr\u001B[39m(fname, \u001B[38;5;124m'\u001B[39m\u001B[38;5;124mseek\u001B[39m\u001B[38;5;124m'\u001B[39m):\n",
      "\u001B[0;31mFileNotFoundError\u001B[0m: [Errno 2] No such file or directory: '..datasets_figures/crime.pdf'"
     ]
    },
    {
     "data": {
      "text/plain": "<Figure size 421.625x360 with 1 Axes>",
      "image/png": "[encoded data removed]"
     },
     "metadata": {
      "needs_background": "light"
     },
     "output_type": "display_data"
    }
   ],
   "source": [
    "dataset['race'] = dataset['race'].apply(lambda x: 'White' if x == 1 else 'Other')\n",
    "sns_plot = sns.displot(data=dataset, x = 'ViolentCrimesPerPop', hue='race',\n",
    "            multiple = 'stack', palette= 'Greys', bins = 10)\n",
    "sns.move_legend(sns_plot, \"upper right\", bbox_to_anchor=( .8, 1))\n",
    "sns_plot.figure.savefig(\"..datasets_figures/crime.pdf\", bbox_inches='tight')"
   ]
  },
  {
   "cell_type": "code",
   "execution_count": 6,
   "metadata": {
    "pycharm": {
     "name": "#%%\n"
    },
    "ExecuteTime": {
     "end_time": "2024-04-17T10:01:03.545565Z",
     "start_time": "2024-04-17T10:01:03.496380Z"
    }
   },
   "outputs": [
    {
     "data": {
      "text/plain": "count      1993\nunique        2\ntop       White\nfreq       1572\nName: race, dtype: object"
     },
     "execution_count": 6,
     "metadata": {},
     "output_type": "execute_result"
    }
   ],
   "source": [
    "dataset['race'].describe()"
   ]
  },
  {
   "cell_type": "code",
   "execution_count": 8,
   "outputs": [
    {
     "data": {
      "text/plain": "count    1993.000000\nmean        0.237983\nstd         0.233043\nmin         0.000000\n25%         0.070000\n50%         0.150000\n75%         0.330000\nmax         1.000000\nName: ViolentCrimesPerPop, dtype: float64"
     },
     "execution_count": 8,
     "metadata": {},
     "output_type": "execute_result"
    }
   ],
   "source": [
    "dataset['ViolentCrimesPerPop'].describe()"
   ],
   "metadata": {
    "collapsed": false,
    "ExecuteTime": {
     "end_time": "2024-04-17T10:01:56.985326Z",
     "start_time": "2024-04-17T10:01:56.947473Z"
    }
   }
  },
  {
   "cell_type": "code",
   "execution_count": 7,
   "metadata": {
    "pycharm": {
     "name": "#%%\n"
    },
    "ExecuteTime": {
     "end_time": "2024-04-17T10:01:11.717679Z",
     "start_time": "2024-04-17T10:01:11.684871Z"
    }
   },
   "outputs": [
    {
     "data": {
      "text/plain": "    race  num_values    percent\n0  Other         421  21.123934\n1  White        1572  78.876066",
      "text/html": "<div>\n<style scoped>\n    .dataframe tbody tr th:only-of-type {\n        vertical-align: middle;\n    }\n\n    .dataframe tbody tr th {\n        vertical-align: top;\n    }\n\n    .dataframe thead th {\n        text-align: right;\n    }\n</style>\n<table border=\"1\" class=\"dataframe\">\n  <thead>\n    <tr style=\"text-align: right;\">\n      <th></th>\n      <th>race</th>\n      <th>num_values</th>\n      <th>percent</th>\n    </tr>\n  </thead>\n  <tbody>\n    <tr>\n      <th>0</th>\n      <td>Other</td>\n      <td>421</td>\n      <td>21.123934</td>\n    </tr>\n    <tr>\n      <th>1</th>\n      <td>White</td>\n      <td>1572</td>\n      <td>78.876066</td>\n    </tr>\n  </tbody>\n</table>\n</div>"
     },
     "execution_count": 7,
     "metadata": {},
     "output_type": "execute_result"
    }
   ],
   "source": [
    "df = pd.DataFrame(dataset['race'].groupby(dataset['race']).count())\n",
    "df.rename(columns={'race': 'num_values'}, inplace=True)\n",
    "df.reset_index(inplace=True)\n",
    "df['percent'] = 100 * df['num_values']/df['num_values'].sum()\n",
    "df"
   ]
  },
  {
   "cell_type": "code",
   "execution_count": null,
   "metadata": {
    "pycharm": {
     "name": "#%%\n"
    }
   },
   "outputs": [],
   "source": [
    "df = pd.DataFrame(dataset.groupby(['race', 'ViolentCrimesPerPop_binary']).count())\n",
    "df.rename(columns={'race': 'num_values'}, inplace=True)\n",
    "df.reset_index(inplace=True)\n",
    "df = df [['race', 'ViolentCrimesPerPop_binary', 'population']]\n",
    "df['percent'] = 100 * df['population']/df['population'].sum()\n",
    "df"
   ]
  },
  {
   "cell_type": "code",
   "execution_count": null,
   "metadata": {
    "pycharm": {
     "name": "#%%\n"
    }
   },
   "outputs": [],
   "source": [
    "explanatory_variables = ['population', 'householdsize', 'agePct12t21', 'agePct12t29',\n",
    "                                       'agePct16t24', 'agePct65up', 'numbUrban', 'pctUrban', 'medIncome',\n",
    "                                       'pctWWage', 'pctWFarmSelf', 'pctWInvInc', 'pctWSocSec', 'pctWPubAsst',\n",
    "                                       'pctWRetire', 'medFamInc', 'perCapInc', 'whitePerCap', 'blackPerCap',\n",
    "                                       'indianPerCap', 'AsianPerCap', 'OtherPerCap', 'HispPerCap',\n",
    "                                       'NumUnderPov', 'PctPopUnderPov', 'PctLess9thGrade', 'PctNotHSGrad',\n",
    "                                       'PctBSorMore', 'PctUnemployed', 'PctEmploy', 'PctEmplManu',\n",
    "                                       'PctEmplProfServ', 'PctOccupManu', 'PctOccupMgmtProf', 'MalePctDivorce',\n",
    "                                       'MalePctNevMarr', 'FemalePctDiv', 'TotalPctDiv', 'PersPerFam',\n",
    "                                       'PctFam2Par', 'PctKids2Par', 'PctYoungKids2Par', 'PctTeen2Par',\n",
    "                                       'PctWorkMomYoungKids', 'PctWorkMom', 'NumIlleg', 'PctIlleg', 'NumImmig',\n",
    "                                       'PctImmigRecent', 'PctImmigRec5', 'PctImmigRec8', 'PctImmigRec10',\n",
    "                                       'PctRecentImmig', 'PctRecImmig5', 'PctRecImmig8', 'PctRecImmig10',\n",
    "                                       'PctSpeakEnglOnly', 'PctNotSpeakEnglWell', 'PctLargHouseFam',\n",
    "                                       'PctLargHouseOccup', 'PersPerOccupHous', 'PersPerOwnOccHous',\n",
    "                                       'PersPerRentOccHous', 'PctPersOwnOccup', 'PctPersDenseHous',\n",
    "                                       'PctHousLess3BR', 'MedNumBR', 'HousVacant', 'PctHousOccup',\n",
    "                                       'PctHousOwnOcc', 'PctVacantBoarded', 'PctVacMore6Mos', 'MedYrHousBuilt',\n",
    "                                       'PctHousNoPhone', 'PctWOFullPlumb', 'OwnOccLowQuart', 'OwnOccMedVal',\n",
    "                                       'OwnOccHiQuart', 'RentLowQ', 'RentMedian', 'RentHighQ', 'MedRent',\n",
    "                                       'MedRentPctHousInc', 'MedOwnCostPctInc', 'MedOwnCostPctIncNoMtg',\n",
    "                                       'NumInShelters', 'NumStreet', 'PctForeignBorn', 'PctBornSameState',\n",
    "                                       'PctSameHouse85', 'PctSameCity85', 'PctSameState85', 'LandArea',\n",
    "                                       'PopDens', 'PctUsePubTrans', 'LemasPctOfficDrugUn', 'race']\n",
    "dataset[explanatory_variables].shape"
   ]
  },
  {
   "cell_type": "markdown",
   "metadata": {},
   "source": [
    "COMPAS"
   ]
  },
  {
   "cell_type": "code",
   "execution_count": null,
   "metadata": {
    "pycharm": {
     "name": "#%%\n"
    }
   },
   "outputs": [],
   "source": [
    "df = pd.read_csv(\"..datasets/compas/compas-scores-two-years.csv\", sep=',')\n",
    "\n",
    "columns = ['sex', 'age', 'age_cat', 'race',\n",
    "         'juv_fel_count', 'juv_misd_count', 'juv_other_count',\n",
    "         'priors_count', 'c_charge_degree', 'c_charge_desc',\n",
    "         'two_year_recid', 'is_recid', 'days_b_screening_arrest',\n",
    "         'decile_score', 'score_text']\n",
    "filtered_df = df[columns].loc[(df['days_b_screening_arrest'] <= 30)\n",
    "                              & (df['days_b_screening_arrest'] >= -30)\n",
    "                              & (df['is_recid'] != -1)\n",
    "                              & (df['c_charge_degree'] != \"O\")\n",
    "                              & (df['score_text'].notnull())]\n",
    "\n",
    "filtered_df.reset_index(inplace=True, drop=True)\n",
    "\n",
    "# sex\n",
    "gender = filtered_df['sex'].apply(lambda x: 1 if x == 'Female' else 0)\n",
    "df_gender = gender.to_frame()\n",
    "\n",
    "# misdemeanor\n",
    "charge = filtered_df['c_charge_degree'].apply(lambda x: 1 if x == 'M' else 0)\n",
    "df_charge = charge.to_frame()\n",
    "df_charge.rename(columns={'c_charge_degree': 'misdemeanor'}, inplace=True)\n",
    "\n",
    "# race\n",
    "race = filtered_df['race'].apply(lambda x: 1 if x == 'Caucasian'  else (0 if x == 'African-American' else 2))\n",
    "# race = filtered_df['race'].apply(lambda x: 0 if x == 'African-American'  else 1)\n",
    "df_race = race.to_frame()\n",
    "\n",
    "# Binarizing race and age_cat\n",
    "lb_style = LabelBinarizer()\n",
    "lb_age = lb_style.fit_transform(filtered_df['age_cat'])\n",
    "df_age = pd.DataFrame(lb_age, columns=lb_style.classes_)\n",
    "\n",
    "# For the binary score we are using Low versus Medium and High\n",
    "df_base = filtered_df[['two_year_recid', 'priors_count', 'decile_score', 'score_text']]\n",
    "df_base = df_base.join(df_age).join(df_race).join(df_gender).join(df_charge)\n",
    "# High >= 8\n",
    "df_base['binary_score'] = df_base['score_text'].apply(lambda x: 1 if x == 'High' or x == 'Medium' else 0)\n",
    "\n",
    "# We will take into consideration only Caucasian and African american values of the race attribute.\n",
    "df_base = df_base.drop(df_base[df_base.race == 2].index)\n",
    "df_base.reset_index(inplace=True, drop=True)\n",
    "\n",
    "df_base.head(10)"
   ]
  },
  {
   "cell_type": "code",
   "execution_count": null,
   "metadata": {
    "pycharm": {
     "name": "#%%\n"
    }
   },
   "outputs": [],
   "source": [
    "visual_p = df_base.groupby(['race','decile_score'])['decile_score'].count()\n",
    "visual_p_df = pd.DataFrame(visual_p)\n",
    "visual_p_df.rename({\"decile_score\": \"examples\"}, inplace=True, axis=1)\n",
    "visual_p_df.reset_index(inplace=True)\n",
    "visual_p_df['race'] = visual_p_df['race'].apply(lambda x: 'Caucasian' if x == 1 else 'African American')\n",
    "visual_p_df\n",
    "sns_plot = sns.catplot(x = \"decile_score\",       # x variable name\n",
    "            y = \"examples\",       # y variable name\n",
    "            hue = \"race\",  # group variable name\n",
    "            data = visual_p_df,     # dataframe to plot\n",
    "            kind = \"bar\",\n",
    "            palette= 'Greys',\n",
    "            legend=True)\n",
    "sns.move_legend(sns_plot, \"upper center\", bbox_to_anchor=( .6, 1), )\n",
    "sns_plot.figure.savefig(\"..datasets_figures/compas.pdf\", bbox_inches='tight')"
   ]
  },
  {
   "cell_type": "code",
   "execution_count": null,
   "metadata": {
    "pycharm": {
     "name": "#%%\n"
    }
   },
   "outputs": [],
   "source": [
    "df = pd.DataFrame(df_base['race'].groupby(df_base['race']).count())\n",
    "df.rename(columns={'race': 'num_values'}, inplace=True)\n",
    "df.reset_index(inplace=True)\n",
    "df['race'] = df['race'].apply(lambda x: 'Caucasian' if x == 1 else 'African American')\n",
    "df['percent'] = 100 * df['num_values']/df['num_values'].sum()\n",
    "df"
   ]
  },
  {
   "cell_type": "code",
   "execution_count": null,
   "metadata": {
    "pycharm": {
     "name": "#%%\n"
    }
   },
   "outputs": [],
   "source": [
    "df = pd.DataFrame(df_base.groupby(['race', 'binary_score']).count())\n",
    "df.rename(columns={'race': 'num_values'}, inplace=True)\n",
    "df.reset_index(inplace=True)\n",
    "df = df [['race', 'binary_score', 'two_year_recid']]\n",
    "df['percent'] = 100 * df['two_year_recid']/df['two_year_recid'].sum()\n",
    "df"
   ]
  },
  {
   "cell_type": "code",
   "execution_count": null,
   "metadata": {
    "pycharm": {
     "name": "#%%\n"
    }
   },
   "outputs": [],
   "source": [
    "df_base.isna().sum()"
   ]
  },
  {
   "cell_type": "code",
   "execution_count": null,
   "metadata": {
    "pycharm": {
     "name": "#%%\n"
    }
   },
   "outputs": [],
   "source": [
    "explanatory_variables = ['two_year_recid', 'priors_count', '25 - 45', 'Greater than 45',\n",
    "                                      'Less than 25', 'race', 'sex', 'misdemeanor']\n",
    "df_base[explanatory_variables].shape"
   ]
  },
  {
   "cell_type": "markdown",
   "metadata": {},
   "source": [
    "Drugs"
   ]
  },
  {
   "cell_type": "code",
   "execution_count": null,
   "metadata": {
    "pycharm": {
     "name": "#%%\n"
    }
   },
   "outputs": [],
   "source": [
    "Cat = 'cat'\n",
    "Num = 'num'\n",
    "\n",
    "VARIABLES = {'ID': Cat,  # not used for prediction\n",
    "             'Age': Num,\n",
    "             'Gender': Cat,\n",
    "             'Education': Cat,\n",
    "             'Country': Cat,\n",
    "             'Race': Cat,\n",
    "             'Nscore': Num,\n",
    "             'Escore': Num,\n",
    "             'Oscore': Num,\n",
    "             'Ascore': Num,\n",
    "             'Cscore': Num,\n",
    "             'Impulsive': Num,\n",
    "             'SS': Num,\n",
    "             # Drug usage outcomes\n",
    "             'Alcohol': Cat,\n",
    "             'Amphet': Cat,\n",
    "             'Amyl': Cat,\n",
    "             'Benzos': Cat,\n",
    "             'Caff': Cat,\n",
    "             'Cannabis': Cat,\n",
    "             'Choc': Cat,\n",
    "             'Coke': Cat,\n",
    "             'Crack': Cat,\n",
    "             'Ecstasy': Cat,\n",
    "             'Heroin': Cat,\n",
    "             'Ketamine': Cat,\n",
    "             'Legalh': Cat,\n",
    "             'LSD': Cat,\n",
    "             'Meth': Cat,\n",
    "             'Mushrooms': Cat,\n",
    "             'Nicotine': Cat,\n",
    "             'Semer': Cat,\n",
    "             'VSA': Cat\n",
    "             }\n",
    "\n",
    "df = pd.read_csv(\"..datasets/drugs/drug_consumption.data\", names=VARIABLES.keys(),\n",
    "                 sep=',', index_col=0)\n",
    "\n",
    "vars = {'Age': Num,\n",
    "        'Gender': Cat,\n",
    "        'Education': Cat,\n",
    "        'Country': Cat,\n",
    "        'Race': Cat,\n",
    "        'Nscore': Num,\n",
    "        'Escore': Num,\n",
    "        'Oscore': Num,\n",
    "        'Ascore': Num,\n",
    "        'Cscore': Num,\n",
    "        'Impulsive': Num,\n",
    "        'SS': Num,\n",
    "        'Coke': Cat}\n",
    "\n",
    "class_map = {\n",
    "    'CL0': 0,\n",
    "    'CL1': 1,\n",
    "    'CL2': 2,\n",
    "    'CL3': 3,\n",
    "    'CL4': 4,\n",
    "    'CL5': 5,\n",
    "    'CL6': 6\n",
    "}\n",
    "\n",
    "gender_tr = {\n",
    "    0.48246: 'Female',  # 49.97%\n",
    "    -0.48246: 'Male'}  # 50.03%\n",
    "\n",
    "dataset = df[list(vars.keys())]\n",
    "dataset.loc[:, 'Gender'] = (dataset['Gender'] == 0.48246).astype(float)\n",
    "dataset.loc[:, 'Coke'] = [class_map[item] for item in dataset['Coke']]\n",
    "\n",
    "# computing the binary outcome\n",
    "dataset['Coke_binary'] = dataset['Coke'] > 3\n",
    "dataset['Coke_binary'] = dataset['Coke_binary'].astype(int)\n",
    "\n",
    "dataset.head(10)"
   ]
  },
  {
   "cell_type": "code",
   "execution_count": null,
   "metadata": {
    "pycharm": {
     "name": "#%%\n"
    }
   },
   "outputs": [],
   "source": [
    "dataset.isna().sum()"
   ]
  },
  {
   "cell_type": "code",
   "execution_count": null,
   "metadata": {
    "pycharm": {
     "name": "#%%\n"
    }
   },
   "outputs": [],
   "source": [
    "visual_p = dataset.groupby(['Gender','Coke'])['Coke'].count()\n",
    "visual_p_df = pd.DataFrame(visual_p)\n",
    "visual_p_df.rename({\"Coke\": \"examples\"}, inplace=True, axis=1)\n",
    "visual_p_df.reset_index(inplace=True)\n",
    "visual_p_df['Gender'] = visual_p_df['Gender'].apply(lambda x: 'Female' if x == 1 else 'Male')\n",
    "visual_p_df\n",
    "sns_plot = sns.catplot(x = \"Coke\",       # x variable name\n",
    "            y = \"examples\",       # y variable name\n",
    "            hue = \"Gender\",  # group variable name\n",
    "            data = visual_p_df,     # dataframe to plot\n",
    "            kind = \"bar\",\n",
    "            palette= 'Greys',\n",
    "            legend=True)\n",
    "sns.move_legend(sns_plot, \"upper center\", bbox_to_anchor=( .6, 1), )\n",
    "sns_plot.figure.savefig(\"..datasets_figures/drugs.pdf\", bbox_inches='tight')"
   ]
  },
  {
   "cell_type": "code",
   "execution_count": null,
   "metadata": {
    "pycharm": {
     "name": "#%%\n"
    }
   },
   "outputs": [],
   "source": [
    "df = pd.DataFrame(dataset['Gender'].groupby(dataset['Gender']).count())\n",
    "df.rename(columns={'Gender': 'num_values'}, inplace=True)\n",
    "df.reset_index(inplace=True)\n",
    "df['Gender'] = df['Gender'].apply(lambda x: 'Female' if x == 1 else 'Male')\n",
    "df['percent'] = 100 * df['num_values']/df['num_values'].sum()\n",
    "df"
   ]
  },
  {
   "cell_type": "code",
   "execution_count": null,
   "metadata": {
    "pycharm": {
     "name": "#%%\n"
    }
   },
   "outputs": [],
   "source": [
    "df = pd.DataFrame(dataset.groupby(['Gender', 'Coke_binary']).count())\n",
    "df.rename(columns={'Gender': 'num_values'}, inplace=True)\n",
    "df.reset_index(inplace=True)\n",
    "df = df [['Gender', 'Coke_binary', 'Race']]\n",
    "df['percent'] = 100 * df['Race']/df['Race'].sum()\n",
    "df"
   ]
  },
  {
   "cell_type": "code",
   "execution_count": null,
   "metadata": {
    "pycharm": {
     "name": "#%%\n"
    }
   },
   "outputs": [],
   "source": [
    "explanatory_variables = ['Age', 'Gender', 'Education', 'Country', 'Race', 'Nscore', 'Escore', 'Oscore',\n",
    "                                       'Ascore', 'Cscore', 'Impulsive', 'SS']\n",
    "dataset[explanatory_variables].shape\n"
   ]
  },
  {
   "cell_type": "markdown",
   "metadata": {},
   "source": [
    "Insurance"
   ]
  },
  {
   "cell_type": "code",
   "execution_count": 10,
   "metadata": {
    "pycharm": {
     "name": "#%%\n"
    },
    "ExecuteTime": {
     "end_time": "2024-04-17T10:04:40.508830Z",
     "start_time": "2024-04-17T10:04:40.390395Z"
    }
   },
   "outputs": [
    {
     "data": {
      "text/plain": "   age  children     bmi      charges  sex  smoker  region_northwest  \\\n0   19         0  27.900  16884.92400  0.0     1.0               0.0   \n1   18         1  33.770   1725.55230  1.0     0.0               0.0   \n2   28         3  33.000   4449.46200  1.0     0.0               0.0   \n3   33         0  22.705  21984.47061  1.0     0.0               1.0   \n4   32         0  28.880   3866.85520  1.0     0.0               1.0   \n5   31         0  25.740   3756.62160  0.0     0.0               0.0   \n6   46         1  33.440   8240.58960  0.0     0.0               0.0   \n7   37         3  27.740   7281.50560  0.0     0.0               1.0   \n8   37         2  29.830   6406.41070  1.0     0.0               0.0   \n9   60         0  25.840  28923.13692  0.0     0.0               1.0   \n\n   region_southeast  region_southwest  charges_binary  \n0               0.0               1.0               0  \n1               1.0               0.0               0  \n2               1.0               0.0               0  \n3               0.0               0.0               0  \n4               0.0               0.0               0  \n5               1.0               0.0               0  \n6               1.0               0.0               0  \n7               0.0               0.0               0  \n8               0.0               0.0               0  \n9               0.0               0.0               0  ",
      "text/html": "<div>\n<style scoped>\n    .dataframe tbody tr th:only-of-type {\n        vertical-align: middle;\n    }\n\n    .dataframe tbody tr th {\n        vertical-align: top;\n    }\n\n    .dataframe thead th {\n        text-align: right;\n    }\n</style>\n<table border=\"1\" class=\"dataframe\">\n  <thead>\n    <tr style=\"text-align: right;\">\n      <th></th>\n      <th>age</th>\n      <th>children</th>\n      <th>bmi</th>\n      <th>charges</th>\n      <th>sex</th>\n      <th>smoker</th>\n      <th>region_northwest</th>\n      <th>region_southeast</th>\n      <th>region_southwest</th>\n      <th>charges_binary</th>\n    </tr>\n  </thead>\n  <tbody>\n    <tr>\n      <th>0</th>\n      <td>19</td>\n      <td>0</td>\n      <td>27.900</td>\n      <td>16884.92400</td>\n      <td>0.0</td>\n      <td>1.0</td>\n      <td>0.0</td>\n      <td>0.0</td>\n      <td>1.0</td>\n      <td>0</td>\n    </tr>\n    <tr>\n      <th>1</th>\n      <td>18</td>\n      <td>1</td>\n      <td>33.770</td>\n      <td>1725.55230</td>\n      <td>1.0</td>\n      <td>0.0</td>\n      <td>0.0</td>\n      <td>1.0</td>\n      <td>0.0</td>\n      <td>0</td>\n    </tr>\n    <tr>\n      <th>2</th>\n      <td>28</td>\n      <td>3</td>\n      <td>33.000</td>\n      <td>4449.46200</td>\n      <td>1.0</td>\n      <td>0.0</td>\n      <td>0.0</td>\n      <td>1.0</td>\n      <td>0.0</td>\n      <td>0</td>\n    </tr>\n    <tr>\n      <th>3</th>\n      <td>33</td>\n      <td>0</td>\n      <td>22.705</td>\n      <td>21984.47061</td>\n      <td>1.0</td>\n      <td>0.0</td>\n      <td>1.0</td>\n      <td>0.0</td>\n      <td>0.0</td>\n      <td>0</td>\n    </tr>\n    <tr>\n      <th>4</th>\n      <td>32</td>\n      <td>0</td>\n      <td>28.880</td>\n      <td>3866.85520</td>\n      <td>1.0</td>\n      <td>0.0</td>\n      <td>1.0</td>\n      <td>0.0</td>\n      <td>0.0</td>\n      <td>0</td>\n    </tr>\n    <tr>\n      <th>5</th>\n      <td>31</td>\n      <td>0</td>\n      <td>25.740</td>\n      <td>3756.62160</td>\n      <td>0.0</td>\n      <td>0.0</td>\n      <td>0.0</td>\n      <td>1.0</td>\n      <td>0.0</td>\n      <td>0</td>\n    </tr>\n    <tr>\n      <th>6</th>\n      <td>46</td>\n      <td>1</td>\n      <td>33.440</td>\n      <td>8240.58960</td>\n      <td>0.0</td>\n      <td>0.0</td>\n      <td>0.0</td>\n      <td>1.0</td>\n      <td>0.0</td>\n      <td>0</td>\n    </tr>\n    <tr>\n      <th>7</th>\n      <td>37</td>\n      <td>3</td>\n      <td>27.740</td>\n      <td>7281.50560</td>\n      <td>0.0</td>\n      <td>0.0</td>\n      <td>1.0</td>\n      <td>0.0</td>\n      <td>0.0</td>\n      <td>0</td>\n    </tr>\n    <tr>\n      <th>8</th>\n      <td>37</td>\n      <td>2</td>\n      <td>29.830</td>\n      <td>6406.41070</td>\n      <td>1.0</td>\n      <td>0.0</td>\n      <td>0.0</td>\n      <td>0.0</td>\n      <td>0.0</td>\n      <td>0</td>\n    </tr>\n    <tr>\n      <th>9</th>\n      <td>60</td>\n      <td>0</td>\n      <td>25.840</td>\n      <td>28923.13692</td>\n      <td>0.0</td>\n      <td>0.0</td>\n      <td>1.0</td>\n      <td>0.0</td>\n      <td>0.0</td>\n      <td>0</td>\n    </tr>\n  </tbody>\n</table>\n</div>"
     },
     "execution_count": 10,
     "metadata": {},
     "output_type": "execute_result"
    }
   ],
   "source": [
    "df = pd.read_csv(\"../datasets/insurance/insurance.csv\", sep=',')\n",
    "\n",
    "cat_vars = ['sex', 'smoker', 'region']\n",
    "num_vars = ['age', 'children', 'bmi', 'charges']\n",
    "\n",
    "cat_encoder = OneHotEncoder(sparse=False, drop='first')\n",
    "cat_data = cat_encoder.fit_transform(df[cat_vars])\n",
    "\n",
    "catnewcols = np.concatenate(\n",
    "    [[cat] if len(item) == 2 else [cat + '_' + cn for cn in item[1:]] for cat, item in\n",
    "     zip(cat_vars, cat_encoder.categories_)]).tolist()\n",
    "\n",
    "cat_df = pd.DataFrame(cat_data, columns=catnewcols)\n",
    "\n",
    "dataset = pd.concat([df[num_vars], cat_df], axis=1)\n",
    "\n",
    "# computing the binary outcome - 3rd percentile\n",
    "dataset['charges_binary'] = dataset['charges'] > 40000\n",
    "dataset['charges_binary'] = dataset['charges_binary'].astype(int)\n",
    "dataset.reset_index(drop=True, inplace=True)\n",
    "\n",
    "dataset.head(10)"
   ]
  },
  {
   "cell_type": "code",
   "execution_count": 11,
   "metadata": {
    "pycharm": {
     "name": "#%%\n"
    },
    "ExecuteTime": {
     "end_time": "2024-04-17T10:04:52.254529Z",
     "start_time": "2024-04-17T10:04:52.214181Z"
    }
   },
   "outputs": [
    {
     "data": {
      "text/plain": "age                 0\nchildren            0\nbmi                 0\ncharges             0\nsex                 0\nsmoker              0\nregion_northwest    0\nregion_southeast    0\nregion_southwest    0\ncharges_binary      0\ndtype: int64"
     },
     "execution_count": 11,
     "metadata": {},
     "output_type": "execute_result"
    }
   ],
   "source": [
    "dataset.isna().sum()"
   ]
  },
  {
   "cell_type": "code",
   "execution_count": 12,
   "metadata": {
    "pycharm": {
     "name": "#%%\n"
    },
    "ExecuteTime": {
     "end_time": "2024-04-17T10:04:53.914107Z",
     "start_time": "2024-04-17T10:04:53.496154Z"
    }
   },
   "outputs": [
    {
     "data": {
      "text/plain": "<AxesSubplot:xlabel='charges'>"
     },
     "execution_count": 12,
     "metadata": {},
     "output_type": "execute_result"
    },
    {
     "data": {
      "text/plain": "<Figure size 432x288 with 1 Axes>",
      "image/png": "[encoded data removed]"
     },
     "metadata": {
      "needs_background": "light"
     },
     "output_type": "display_data"
    }
   ],
   "source": [
    "sns.distplot(dataset['charges'], hist=True, kde=False,\n",
    "             bins=int(10), color = 'blue',\n",
    "             hist_kws={'edgecolor':'black'})"
   ]
  },
  {
   "cell_type": "code",
   "execution_count": 13,
   "metadata": {
    "pycharm": {
     "name": "#%%\n"
    },
    "ExecuteTime": {
     "end_time": "2024-04-17T10:04:59.617389Z",
     "start_time": "2024-04-17T10:04:59.254974Z"
    }
   },
   "outputs": [
    {
     "data": {
      "text/plain": "<Figure size 429.375x360 with 1 Axes>",
      "image/png": "[encoded data removed]"
     },
     "metadata": {
      "needs_background": "light"
     },
     "output_type": "display_data"
    }
   ],
   "source": [
    "dataset['sex'] = dataset['sex'].apply(lambda x: 'Male' if x == 1 else 'Female')\n",
    "sns_plot = sns.displot(data=dataset, x = 'charges', hue='sex',\n",
    "            multiple = 'stack', palette= 'Greys', bins = 10)\n",
    "sns.move_legend(sns_plot, \"upper right\", bbox_to_anchor=( .8, 1))\n",
    "#sns_plot.figure.savefig(\"..datasets_figures/insurance.pdf\", bbox_inches='tight')"
   ]
  },
  {
   "cell_type": "code",
   "execution_count": 14,
   "metadata": {
    "pycharm": {
     "name": "#%%\n"
    },
    "ExecuteTime": {
     "end_time": "2024-04-17T10:05:05.797634Z",
     "start_time": "2024-04-17T10:05:05.753428Z"
    }
   },
   "outputs": [
    {
     "data": {
      "text/plain": "count     1338\nunique       2\ntop       Male\nfreq       676\nName: sex, dtype: object"
     },
     "execution_count": 14,
     "metadata": {},
     "output_type": "execute_result"
    }
   ],
   "source": [
    "dataset['sex'].describe()"
   ]
  },
  {
   "cell_type": "code",
   "execution_count": 45,
   "metadata": {
    "pycharm": {
     "name": "#%%\n"
    }
   },
   "outputs": [
    {
     "data": {
      "text/html": [
       "<div>\n",
       "<style scoped>\n",
       "    .dataframe tbody tr th:only-of-type {\n",
       "        vertical-align: middle;\n",
       "    }\n",
       "\n",
       "    .dataframe tbody tr th {\n",
       "        vertical-align: top;\n",
       "    }\n",
       "\n",
       "    .dataframe thead th {\n",
       "        text-align: right;\n",
       "    }\n",
       "</style>\n",
       "<table border=\"1\" class=\"dataframe\">\n",
       "  <thead>\n",
       "    <tr style=\"text-align: right;\">\n",
       "      <th></th>\n",
       "      <th>sex</th>\n",
       "      <th>num_values</th>\n",
       "      <th>percent</th>\n",
       "    </tr>\n",
       "  </thead>\n",
       "  <tbody>\n",
       "    <tr>\n",
       "      <th>0</th>\n",
       "      <td>Female</td>\n",
       "      <td>662</td>\n",
       "      <td>49.476831</td>\n",
       "    </tr>\n",
       "    <tr>\n",
       "      <th>1</th>\n",
       "      <td>Male</td>\n",
       "      <td>676</td>\n",
       "      <td>50.523169</td>\n",
       "    </tr>\n",
       "  </tbody>\n",
       "</table>\n",
       "</div>"
      ],
      "text/plain": [
       "      sex  num_values    percent\n",
       "0  Female         662  49.476831\n",
       "1    Male         676  50.523169"
      ]
     },
     "execution_count": 45,
     "metadata": {},
     "output_type": "execute_result"
    }
   ],
   "source": [
    "df = pd.DataFrame(dataset['sex'].groupby(dataset['sex']).count())\n",
    "df.rename(columns={'sex': 'num_values'}, inplace=True)\n",
    "df.reset_index(inplace=True)\n",
    "df['percent'] = 100 * df['num_values']/df['num_values'].sum()\n",
    "df"
   ]
  },
  {
   "cell_type": "code",
   "execution_count": 15,
   "outputs": [
    {
     "data": {
      "text/plain": "count     1338.000000\nmean     13270.422265\nstd      12110.011237\nmin       1121.873900\n25%       4740.287150\n50%       9382.033000\n75%      16639.912515\nmax      63770.428010\nName: charges, dtype: float64"
     },
     "execution_count": 15,
     "metadata": {},
     "output_type": "execute_result"
    }
   ],
   "source": [
    "dataset['charges'].describe()"
   ],
   "metadata": {
    "collapsed": false,
    "ExecuteTime": {
     "end_time": "2024-04-17T10:10:19.906870Z",
     "start_time": "2024-04-17T10:10:19.706689Z"
    }
   }
  },
  {
   "cell_type": "code",
   "execution_count": 46,
   "metadata": {
    "pycharm": {
     "name": "#%%\n"
    }
   },
   "outputs": [
    {
     "data": {
      "text/html": [
       "<div>\n",
       "<style scoped>\n",
       "    .dataframe tbody tr th:only-of-type {\n",
       "        vertical-align: middle;\n",
       "    }\n",
       "\n",
       "    .dataframe tbody tr th {\n",
       "        vertical-align: top;\n",
       "    }\n",
       "\n",
       "    .dataframe thead th {\n",
       "        text-align: right;\n",
       "    }\n",
       "</style>\n",
       "<table border=\"1\" class=\"dataframe\">\n",
       "  <thead>\n",
       "    <tr style=\"text-align: right;\">\n",
       "      <th></th>\n",
       "      <th>sex</th>\n",
       "      <th>charges_binary</th>\n",
       "      <th>children</th>\n",
       "      <th>percent</th>\n",
       "    </tr>\n",
       "  </thead>\n",
       "  <tbody>\n",
       "    <tr>\n",
       "      <th>0</th>\n",
       "      <td>Female</td>\n",
       "      <td>0</td>\n",
       "      <td>630</td>\n",
       "      <td>47.085202</td>\n",
       "    </tr>\n",
       "    <tr>\n",
       "      <th>1</th>\n",
       "      <td>Female</td>\n",
       "      <td>1</td>\n",
       "      <td>32</td>\n",
       "      <td>2.391629</td>\n",
       "    </tr>\n",
       "    <tr>\n",
       "      <th>2</th>\n",
       "      <td>Male</td>\n",
       "      <td>0</td>\n",
       "      <td>629</td>\n",
       "      <td>47.010463</td>\n",
       "    </tr>\n",
       "    <tr>\n",
       "      <th>3</th>\n",
       "      <td>Male</td>\n",
       "      <td>1</td>\n",
       "      <td>47</td>\n",
       "      <td>3.512706</td>\n",
       "    </tr>\n",
       "  </tbody>\n",
       "</table>\n",
       "</div>"
      ],
      "text/plain": [
       "      sex  charges_binary  children    percent\n",
       "0  Female               0       630  47.085202\n",
       "1  Female               1        32   2.391629\n",
       "2    Male               0       629  47.010463\n",
       "3    Male               1        47   3.512706"
      ]
     },
     "execution_count": 46,
     "metadata": {},
     "output_type": "execute_result"
    }
   ],
   "source": [
    "df = pd.DataFrame(dataset.groupby(['sex', 'charges_binary']).count())\n",
    "df.rename(columns={'sex': 'num_values'}, inplace=True)\n",
    "df.reset_index(inplace=True)\n",
    "df = df [['sex', 'charges_binary', 'children']]\n",
    "df['percent'] = 100 * df['children']/df['children'].sum()\n",
    "df"
   ]
  },
  {
   "cell_type": "code",
   "execution_count": 47,
   "metadata": {
    "pycharm": {
     "name": "#%%\n"
    }
   },
   "outputs": [
    {
     "data": {
      "text/plain": [
       "(1338, 8)"
      ]
     },
     "execution_count": 47,
     "metadata": {},
     "output_type": "execute_result"
    }
   ],
   "source": [
    "explanatory_variables = ['age', 'children', 'bmi', 'sex', 'smoker',\n",
    "                         'region_northwest', 'region_southeast', 'region_southwest']\n",
    "dataset[explanatory_variables].shape"
   ]
  },
  {
   "cell_type": "markdown",
   "metadata": {},
   "source": [
    "TIC NL insurance"
   ]
  },
  {
   "cell_type": "code",
   "execution_count": 11,
   "metadata": {
    "pycharm": {
     "name": "#%%\n"
    },
    "ExecuteTime": {
     "end_time": "2024-03-05T16:28:10.607419Z",
     "start_time": "2024-03-05T16:28:10.463323Z"
    }
   },
   "outputs": [
    {
     "name": "stdout",
     "output_type": "stream",
     "text": [
      "   MINKM30  MINK3045  MINK4575  MINK7512  MINK123M\n",
      "0        0         4         5         0         0\n",
      "1        2         0         5         2         0\n",
      "2        4         5         0         0         0\n",
      "3        1         5         3         0         0\n",
      "4        0         0         9         0         0\n",
      "5        5         2         3         0         0\n",
      "6        4         3         3         0         0\n",
      "7        2         5         3         0         0\n",
      "8        7         2         1         0         0\n",
      "9        2         3         3         1         0\n",
      "0    5\n",
      "1    5\n",
      "2    5\n",
      "3    5\n",
      "4    9\n",
      "5    5\n",
      "6    4\n",
      "7    5\n",
      "8    7\n",
      "9    3\n",
      "Name: income, dtype: int64\n"
     ]
    }
   ],
   "source": [
    "variable_names = ['MOSTYPE', 'MAANTHUI', 'MGEMOMV', 'MGEMLEEF', 'MOSHOOFD', 'MGODRK', 'MGODPR', 'MGODOV',\n",
    "                          'MGODGE', 'MRELGE', 'MRELSA', 'MRELOV', 'MFALLEEN', 'MFGEKIND', 'MFWEKIND', 'MOPLHOOG',\n",
    "                          'MOPLMIDD', 'MOPLLAAG', 'MBERHOOG', 'MBERZELF', 'MBERBOER', 'MBERMIDD', 'MBERARBG',\n",
    "                          'MBERARBO', 'MSKA', 'MSKB1', 'MSKB2', 'MSKC', 'MSKD', 'MHHUUR', 'MHKOOP', 'MAUT1', 'MAUT2',\n",
    "                          'MAUT0', 'MZFONDS', 'MZPART', 'MINKM30', 'MINK3045', 'MINK4575', 'MINK7512', 'MINK123M',\n",
    "                          'MINKGEM', 'MKOOPKLA', 'PWAPART', 'PWABEDR', 'PWALAND', 'PPERSAUT', 'PBESAUT', 'PMOTSCO',\n",
    "                          'PVRAAUT', 'PAANHANG', 'PTRACTOR', 'PWERKT', 'PBROM', 'PLEVEN', 'PPERSONG', 'PGEZONG',\n",
    "                          'PWAOREG', 'PBRAND', 'PZEILPL', 'PPLEZIER', 'PFIETS', 'PINBOED', 'PBYSTAND', 'AWAPART',\n",
    "                          'AWABEDR', 'AWALAND', 'APERSAUT', 'ABESAUT', 'AMOTSCO', 'AVRAAUT', 'AAANHANG', 'ATRACTOR',\n",
    "                          'AWERKT', 'ABROM', 'ALEVEN', 'APERSONG', 'AGEZONG', 'AWAOREG', 'ABRAND', 'AZEILPL',\n",
    "                          'APLEZIER', 'AFIETS', 'AINBOED', 'ABYSTAND', 'CARAVAN']\n",
    "\n",
    "df = pd.read_csv(\"/Users/juls/Documents/Repositories/fairness_in_regression/datasets/tic/ticdata2000.txt\", sep='\\t',\n",
    "                 names=variable_names)\n",
    "\n",
    "variable_names_tst = ['MOSTYPE', 'MAANTHUI', 'MGEMOMV', 'MGEMLEEF', 'MOSHOOFD', 'MGODRK', 'MGODPR', 'MGODOV',\n",
    "                      'MGODGE', 'MRELGE', 'MRELSA', 'MRELOV', 'MFALLEEN', 'MFGEKIND', 'MFWEKIND', 'MOPLHOOG',\n",
    "                      'MOPLMIDD', 'MOPLLAAG', 'MBERHOOG', 'MBERZELF', 'MBERBOER', 'MBERMIDD', 'MBERARBG',\n",
    "                      'MBERARBO', 'MSKA', 'MSKB1', 'MSKB2', 'MSKC', 'MSKD', 'MHHUUR', 'MHKOOP', 'MAUT1',\n",
    "                      'MAUT2', 'MAUT0', 'MZFONDS', 'MZPART', 'MINKM30', 'MINK3045', 'MINK4575', 'MINK7512',\n",
    "                      'MINK123M', 'MINKGEM', 'MKOOPKLA', 'PWAPART', 'PWABEDR', 'PWALAND', 'PPERSAUT', 'PBESAUT',\n",
    "                      'PMOTSCO', 'PVRAAUT', 'PAANHANG', 'PTRACTOR', 'PWERKT', 'PBROM', 'PLEVEN', 'PPERSONG',\n",
    "                      'PGEZONG', 'PWAOREG', 'PBRAND', 'PZEILPL', 'PPLEZIER', 'PFIETS', 'PINBOED', 'PBYSTAND',\n",
    "                      'AWAPART', 'AWABEDR', 'AWALAND', 'APERSAUT', 'ABESAUT', 'AMOTSCO', 'AVRAAUT', 'AAANHANG',\n",
    "                      'ATRACTOR', 'AWERKT', 'ABROM', 'ALEVEN', 'APERSONG', 'AGEZONG', 'AWAOREG', 'ABRAND',\n",
    "                      'AZEILPL', 'APLEZIER', 'AFIETS', 'AINBOED', 'ABYSTAND']\n",
    "df_tst = pd.read_csv(\"/Users/juls/Documents/Repositories/fairness_in_regression/datasets/tic/ticeval2000.txt\", sep='\\t',\n",
    "                     names=variable_names_tst)\n",
    "\n",
    "var_obj = ['CARAVAN']\n",
    "df_obj = pd.read_csv(\"/Users/juls/Documents/Repositories/fairness_in_regression/datasets/tic/tictgts2000.txt\", sep='\\t', names=var_obj)\n",
    "\n",
    "df_tst_all = pd.concat([df_tst, df_obj], axis=1)\n",
    "dataset = pd.concat([df, df_tst_all])\n",
    "dataset.reset_index(inplace=True)\n",
    "dataset.drop('index', axis=1, inplace=True)\n",
    "\n",
    "variable_names_data = ['MOSTYPE', 'MAANTHUI', 'MGEMOMV', 'MGEMLEEF', 'MOSHOOFD', 'MGODRK', 'MGODPR', 'MGODOV',\n",
    "                       'MGODGE', 'MRELGE', 'MRELSA', 'MRELOV', 'MFALLEEN', 'MFGEKIND', 'MFWEKIND', 'MOPLHOOG',\n",
    "                       'MOPLMIDD', 'MOPLLAAG', 'MBERHOOG', 'MBERZELF', 'MBERBOER', 'MBERMIDD', 'MBERARBG',\n",
    "                       'MBERARBO', 'MSKA', 'MSKB1', 'MSKB2', 'MSKC', 'MSKD', 'MHHUUR', 'MHKOOP', 'MAUT1',\n",
    "                       'MAUT2', 'MAUT0', 'MZFONDS', 'MZPART', 'MINKM30', 'MINK3045', 'MINK4575', 'MINK7512',\n",
    "                       'MINK123M', 'MINKGEM', 'MKOOPKLA']\n",
    "dataset = dataset[variable_names_data]\n",
    "\n",
    "# religion\n",
    "# 6 MGODRK Roman catholic see L3\n",
    "# 7 MGODPR Protestant ...\n",
    "# 8 MGODOV Other religion\n",
    "# 9 MGODGE No religion\n",
    "max_religion = dataset[['MGODRK', 'MGODPR', 'MGODOV', 'MGODGE']].idxmax(axis=1)\n",
    "dataset['religion'] = max_religion\n",
    "dataset['religion'] = dataset['religion'].apply(lambda x: 0 if x == 'MGODGE' else 1)\n",
    "dataset.drop(['MGODRK', 'MGODPR', 'MGODOV', 'MGODGE'], axis=1, inplace=True)\n",
    "\n",
    "# income\n",
    "# 37 MINKM30 Income < 30.000\n",
    "# 38 MINK3045 Income 30-45.000\n",
    "# 39 MINK4575 Income 45-75.000\n",
    "# 40 MINK7512 Income 75-122.000\n",
    "# 41 MINK123M Income >123.000\n",
    "# 42 MINKGEM Average income\n",
    "# 43 MKOOPKLA Purchasing power class\n",
    "\n",
    "# data range\n",
    "# 0 - 0 %\n",
    "# 1 - 1 - 10 %\n",
    "# 2 - 11 - 23 %\n",
    "# 3 - 24 - 36 %\n",
    "# 4 - 37 - 49 %\n",
    "# 5 - 50 - 62 %\n",
    "# 6 - 63 - 75 %\n",
    "# 7 - 76 - 88 %\n",
    "# 8 - 89 - 99 %\n",
    "# 9 - 100 %\n",
    "print(dataset[['MINKM30', 'MINK3045', 'MINK4575', 'MINK7512', 'MINK123M']].head(10))\n",
    "dataset['income'] = dataset[['MINKM30', 'MINK3045', 'MINK4575', 'MINK7512', 'MINK123M']].max(axis=1)\n",
    "dataset.drop(['MINKM30', 'MINK3045', 'MINK4575', 'MINK7512', 'MINK123M', 'MINKGEM', 'MKOOPKLA'], axis=1, inplace=True)\n",
    "\n",
    "print(dataset['income'].head(10))\n",
    "\n",
    "# computing the binary outcome\n",
    "dataset['income_binary'] = dataset['income'] > 6\n",
    "dataset['income_binary'] = dataset['income_binary'].astype(int)\n",
    "\n",
    "# delete income 2 case there is only one case\n",
    "dataset = dataset.loc[dataset['income'] > 2]\n",
    "\n",
    "dataset.reset_index(drop=True, inplace=True)"
   ]
  },
  {
   "cell_type": "code",
   "execution_count": 7,
   "metadata": {
    "pycharm": {
     "name": "#%%\n"
    },
    "ExecuteTime": {
     "end_time": "2024-03-05T16:22:33.546712Z",
     "start_time": "2024-03-05T16:22:33.478840Z"
    }
   },
   "outputs": [
    {
     "data": {
      "text/plain": "   MOSTYPE  MAANTHUI  MGEMOMV  MGEMLEEF  MOSHOOFD  MRELGE  MRELSA  MRELOV  \\\n0       33         1        3         2         8       7       0       2   \n1       37         1        2         2         8       6       2       2   \n2       37         1        2         2         8       3       2       4   \n3        9         1        3         3         3       5       2       2   \n4       40         1        4         2        10       7       1       2   \n5       23         1        2         1         5       0       6       3   \n6       39         2        3         2         9       7       2       0   \n7       33         1        2         3         8       7       2       0   \n8       33         1        2         4         8       6       0       3   \n9       11         2        3         3         3       7       0       2   \n\n   MFALLEEN  MFGEKIND  ...  MHHUUR  MHKOOP  MAUT1  MAUT2  MAUT0  MZFONDS  \\\n0         1         2  ...       1       8      8      0      1        8   \n1         0         4  ...       2       7      7      1      2        6   \n2         4         4  ...       7       2      7      0      2        9   \n3         2         3  ...       5       4      9      0      0        7   \n4         2         4  ...       4       5      6      2      1        5   \n5         3         5  ...       9       0      5      3      3        9   \n6         0         3  ...       6       3      8      0      1        9   \n7         0         5  ...       0       9      4      4      2        6   \n8         3         3  ...       9       0      5      2      3        7   \n9         2         2  ...       0       9      6      1      2        6   \n\n   MZPART  religion  income  income_binary  \n0       1         1       5              0  \n1       3         1       5              0  \n2       0         1       5              0  \n3       2         0       5              0  \n4       4         1       9              1  \n5       0         1       5              0  \n6       0         0       4              0  \n7       3         1       5              0  \n8       2         0       7              1  \n9       3         1       3              0  \n\n[10 rows x 35 columns]",
      "text/html": "<div>\n<style scoped>\n    .dataframe tbody tr th:only-of-type {\n        vertical-align: middle;\n    }\n\n    .dataframe tbody tr th {\n        vertical-align: top;\n    }\n\n    .dataframe thead th {\n        text-align: right;\n    }\n</style>\n<table border=\"1\" class=\"dataframe\">\n  <thead>\n    <tr style=\"text-align: right;\">\n      <th></th>\n      <th>MOSTYPE</th>\n      <th>MAANTHUI</th>\n      <th>MGEMOMV</th>\n      <th>MGEMLEEF</th>\n      <th>MOSHOOFD</th>\n      <th>MRELGE</th>\n      <th>MRELSA</th>\n      <th>MRELOV</th>\n      <th>MFALLEEN</th>\n      <th>MFGEKIND</th>\n      <th>...</th>\n      <th>MHHUUR</th>\n      <th>MHKOOP</th>\n      <th>MAUT1</th>\n      <th>MAUT2</th>\n      <th>MAUT0</th>\n      <th>MZFONDS</th>\n      <th>MZPART</th>\n      <th>religion</th>\n      <th>income</th>\n      <th>income_binary</th>\n    </tr>\n  </thead>\n  <tbody>\n    <tr>\n      <th>0</th>\n      <td>33</td>\n      <td>1</td>\n      <td>3</td>\n      <td>2</td>\n      <td>8</td>\n      <td>7</td>\n      <td>0</td>\n      <td>2</td>\n      <td>1</td>\n      <td>2</td>\n      <td>...</td>\n      <td>1</td>\n      <td>8</td>\n      <td>8</td>\n      <td>0</td>\n      <td>1</td>\n      <td>8</td>\n      <td>1</td>\n      <td>1</td>\n      <td>5</td>\n      <td>0</td>\n    </tr>\n    <tr>\n      <th>1</th>\n      <td>37</td>\n      <td>1</td>\n      <td>2</td>\n      <td>2</td>\n      <td>8</td>\n      <td>6</td>\n      <td>2</td>\n      <td>2</td>\n      <td>0</td>\n      <td>4</td>\n      <td>...</td>\n      <td>2</td>\n      <td>7</td>\n      <td>7</td>\n      <td>1</td>\n      <td>2</td>\n      <td>6</td>\n      <td>3</td>\n      <td>1</td>\n      <td>5</td>\n      <td>0</td>\n    </tr>\n    <tr>\n      <th>2</th>\n      <td>37</td>\n      <td>1</td>\n      <td>2</td>\n      <td>2</td>\n      <td>8</td>\n      <td>3</td>\n      <td>2</td>\n      <td>4</td>\n      <td>4</td>\n      <td>4</td>\n      <td>...</td>\n      <td>7</td>\n      <td>2</td>\n      <td>7</td>\n      <td>0</td>\n      <td>2</td>\n      <td>9</td>\n      <td>0</td>\n      <td>1</td>\n      <td>5</td>\n      <td>0</td>\n    </tr>\n    <tr>\n      <th>3</th>\n      <td>9</td>\n      <td>1</td>\n      <td>3</td>\n      <td>3</td>\n      <td>3</td>\n      <td>5</td>\n      <td>2</td>\n      <td>2</td>\n      <td>2</td>\n      <td>3</td>\n      <td>...</td>\n      <td>5</td>\n      <td>4</td>\n      <td>9</td>\n      <td>0</td>\n      <td>0</td>\n      <td>7</td>\n      <td>2</td>\n      <td>0</td>\n      <td>5</td>\n      <td>0</td>\n    </tr>\n    <tr>\n      <th>4</th>\n      <td>40</td>\n      <td>1</td>\n      <td>4</td>\n      <td>2</td>\n      <td>10</td>\n      <td>7</td>\n      <td>1</td>\n      <td>2</td>\n      <td>2</td>\n      <td>4</td>\n      <td>...</td>\n      <td>4</td>\n      <td>5</td>\n      <td>6</td>\n      <td>2</td>\n      <td>1</td>\n      <td>5</td>\n      <td>4</td>\n      <td>1</td>\n      <td>9</td>\n      <td>1</td>\n    </tr>\n    <tr>\n      <th>5</th>\n      <td>23</td>\n      <td>1</td>\n      <td>2</td>\n      <td>1</td>\n      <td>5</td>\n      <td>0</td>\n      <td>6</td>\n      <td>3</td>\n      <td>3</td>\n      <td>5</td>\n      <td>...</td>\n      <td>9</td>\n      <td>0</td>\n      <td>5</td>\n      <td>3</td>\n      <td>3</td>\n      <td>9</td>\n      <td>0</td>\n      <td>1</td>\n      <td>5</td>\n      <td>0</td>\n    </tr>\n    <tr>\n      <th>6</th>\n      <td>39</td>\n      <td>2</td>\n      <td>3</td>\n      <td>2</td>\n      <td>9</td>\n      <td>7</td>\n      <td>2</td>\n      <td>0</td>\n      <td>0</td>\n      <td>3</td>\n      <td>...</td>\n      <td>6</td>\n      <td>3</td>\n      <td>8</td>\n      <td>0</td>\n      <td>1</td>\n      <td>9</td>\n      <td>0</td>\n      <td>0</td>\n      <td>4</td>\n      <td>0</td>\n    </tr>\n    <tr>\n      <th>7</th>\n      <td>33</td>\n      <td>1</td>\n      <td>2</td>\n      <td>3</td>\n      <td>8</td>\n      <td>7</td>\n      <td>2</td>\n      <td>0</td>\n      <td>0</td>\n      <td>5</td>\n      <td>...</td>\n      <td>0</td>\n      <td>9</td>\n      <td>4</td>\n      <td>4</td>\n      <td>2</td>\n      <td>6</td>\n      <td>3</td>\n      <td>1</td>\n      <td>5</td>\n      <td>0</td>\n    </tr>\n    <tr>\n      <th>8</th>\n      <td>33</td>\n      <td>1</td>\n      <td>2</td>\n      <td>4</td>\n      <td>8</td>\n      <td>6</td>\n      <td>0</td>\n      <td>3</td>\n      <td>3</td>\n      <td>3</td>\n      <td>...</td>\n      <td>9</td>\n      <td>0</td>\n      <td>5</td>\n      <td>2</td>\n      <td>3</td>\n      <td>7</td>\n      <td>2</td>\n      <td>0</td>\n      <td>7</td>\n      <td>1</td>\n    </tr>\n    <tr>\n      <th>9</th>\n      <td>11</td>\n      <td>2</td>\n      <td>3</td>\n      <td>3</td>\n      <td>3</td>\n      <td>7</td>\n      <td>0</td>\n      <td>2</td>\n      <td>2</td>\n      <td>2</td>\n      <td>...</td>\n      <td>0</td>\n      <td>9</td>\n      <td>6</td>\n      <td>1</td>\n      <td>2</td>\n      <td>6</td>\n      <td>3</td>\n      <td>1</td>\n      <td>3</td>\n      <td>0</td>\n    </tr>\n  </tbody>\n</table>\n<p>10 rows × 35 columns</p>\n</div>"
     },
     "execution_count": 7,
     "metadata": {},
     "output_type": "execute_result"
    }
   ],
   "source": [
    "dataset.head(10)"
   ]
  },
  {
   "cell_type": "code",
   "execution_count": 9,
   "metadata": {
    "pycharm": {
     "name": "#%%\n"
    },
    "ExecuteTime": {
     "end_time": "2024-03-05T16:22:58.434122Z",
     "start_time": "2024-03-05T16:22:57.411367Z"
    }
   },
   "outputs": [
    {
     "data": {
      "text/plain": "<Figure size 453x360 with 1 Axes>",
      "image/png": "[encoded data removed]"
     },
     "metadata": {
      "needs_background": "light"
     },
     "output_type": "display_data"
    }
   ],
   "source": [
    "visual_p = dataset.groupby(['religion','income'])['income'].count()\n",
    "visual_p_df = pd.DataFrame(visual_p)\n",
    "visual_p_df.rename({\"income\": \"examples\"}, inplace=True, axis=1)\n",
    "visual_p_df.reset_index(inplace=True)\n",
    "visual_p_df['religion'] = visual_p_df['religion'].apply(lambda x: 'No Religious' if x == 0 else 'Religious')\n",
    "visual_p_df\n",
    "sns_plot = sns.catplot(x = \"income\",       # x variable name\n",
    "            y = \"examples\",       # y variable name\n",
    "            hue = \"religion\",  # group variable name\n",
    "            data = visual_p_df,     # dataframe to plot\n",
    "            kind = \"bar\",\n",
    "            palette= 'Greys',\n",
    "            legend=True)\n",
    "sns.move_legend(sns_plot, \"upper center\", bbox_to_anchor=( .6, 1), )\n",
    "# sns_plot.figure.savefig(\"..datasets_figures/tic.pdf\", bbox_inches='tight')"
   ]
  },
  {
   "cell_type": "code",
   "execution_count": null,
   "metadata": {
    "pycharm": {
     "name": "#%%\n"
    }
   },
   "outputs": [],
   "source": [
    "df = pd.DataFrame(dataset['religion'].groupby(dataset['religion']).count())\n",
    "df.rename(columns={'religion': 'num_values'}, inplace=True)\n",
    "df.reset_index(inplace=True)\n",
    "df['religion'] = df['religion'].apply(lambda x: 'No Religious' if x == 0 else 'Religious')\n",
    "df['percent'] = 100 * df['num_values']/df['num_values'].sum()\n",
    "df"
   ]
  },
  {
   "cell_type": "code",
   "execution_count": null,
   "metadata": {
    "pycharm": {
     "name": "#%%\n"
    }
   },
   "outputs": [],
   "source": [
    "df = pd.DataFrame(dataset.groupby(['religion', 'income_binary']).count())\n",
    "df.rename(columns={'religion': 'num_values'}, inplace=True)\n",
    "df.reset_index(inplace=True)\n",
    "df = df [['religion', 'income_binary', 'MOSTYPE']]\n",
    "df['percent'] = 100 * df['MOSTYPE']/df['MOSTYPE'].sum()\n",
    "df"
   ]
  },
  {
   "cell_type": "code",
   "execution_count": null,
   "metadata": {
    "pycharm": {
     "name": "#%%\n"
    }
   },
   "outputs": [],
   "source": [
    "dataset.isna().sum()"
   ]
  },
  {
   "cell_type": "code",
   "execution_count": null,
   "metadata": {
    "pycharm": {
     "name": "#%%\n"
    }
   },
   "outputs": [],
   "source": [
    "explanatory_variables = ['MOSTYPE', 'MAANTHUI', 'MGEMOMV', 'MGEMLEEF', 'MOSHOOFD',\n",
    "                               'MRELGE', 'MRELSA', 'MRELOV', 'MFALLEEN', 'MFGEKIND', 'MFWEKIND', 'MOPLHOOG',\n",
    "                               'MOPLMIDD', 'MOPLLAAG', 'MBERHOOG', 'MBERZELF', 'MBERBOER', 'MBERMIDD', 'MBERARBG',\n",
    "                               'MBERARBO', 'MSKA', 'MSKB1', 'MSKB2', 'MSKC', 'MSKD', 'MHHUUR', 'MHKOOP', 'MAUT1',\n",
    "                               'MAUT2', 'MAUT0', 'MZFONDS', 'MZPART', 'religion']\n",
    "dataset[explanatory_variables].shape"
   ]
  },
  {
   "cell_type": "code",
   "execution_count": null,
   "metadata": {
    "pycharm": {
     "name": "#%%\n"
    }
   },
   "outputs": [],
   "source": [
    "dataset['income'].groupby(dataset.income).count()\n"
   ]
  },
  {
   "cell_type": "markdown",
   "metadata": {},
   "source": [
    "LSAT"
   ]
  },
  {
   "cell_type": "code",
   "execution_count": 28,
   "metadata": {
    "pycharm": {
     "name": "#%%\n"
    },
    "ExecuteTime": {
     "end_time": "2024-04-17T10:17:11.958243Z",
     "start_time": "2024-04-17T10:17:11.733125Z"
    }
   },
   "outputs": [
    {
     "data": {
      "text/plain": "    age  fam_inc  zgpa  ugpa  lsat  gender  fulltime  race  lsat_binary\n0 -62.0      5.0  1.88   3.5  44.0     0.0       0.0     1            1\n1 -62.0      4.0 -0.57   3.5  29.0     0.0       0.0     1            1\n2 -58.0      1.0 -1.12   3.5  36.0     1.0       0.0     1            1\n3 -51.0      4.0 -0.49   3.5  39.0     1.0       0.0     1            1\n4 -61.0      4.0  0.76   3.5  48.0     1.0       0.0     1            1\n5 -61.0      4.0 -0.12   3.5  40.0     0.0       0.0     1            1\n6 -62.0      3.0  0.45   3.5  34.0     0.0       0.0     1            1\n7 -48.0      2.0  1.41   3.5  40.0     1.0       1.0     1            1\n8 -61.0      4.0 -1.01   3.5  40.0     1.0       0.0     1            1\n9 -62.0      2.0 -0.04   3.5  28.0     0.0       0.0     0            1",
      "text/html": "<div>\n<style scoped>\n    .dataframe tbody tr th:only-of-type {\n        vertical-align: middle;\n    }\n\n    .dataframe tbody tr th {\n        vertical-align: top;\n    }\n\n    .dataframe thead th {\n        text-align: right;\n    }\n</style>\n<table border=\"1\" class=\"dataframe\">\n  <thead>\n    <tr style=\"text-align: right;\">\n      <th></th>\n      <th>age</th>\n      <th>fam_inc</th>\n      <th>zgpa</th>\n      <th>ugpa</th>\n      <th>lsat</th>\n      <th>gender</th>\n      <th>fulltime</th>\n      <th>race</th>\n      <th>lsat_binary</th>\n    </tr>\n  </thead>\n  <tbody>\n    <tr>\n      <th>0</th>\n      <td>-62.0</td>\n      <td>5.0</td>\n      <td>1.88</td>\n      <td>3.5</td>\n      <td>44.0</td>\n      <td>0.0</td>\n      <td>0.0</td>\n      <td>1</td>\n      <td>1</td>\n    </tr>\n    <tr>\n      <th>1</th>\n      <td>-62.0</td>\n      <td>4.0</td>\n      <td>-0.57</td>\n      <td>3.5</td>\n      <td>29.0</td>\n      <td>0.0</td>\n      <td>0.0</td>\n      <td>1</td>\n      <td>1</td>\n    </tr>\n    <tr>\n      <th>2</th>\n      <td>-58.0</td>\n      <td>1.0</td>\n      <td>-1.12</td>\n      <td>3.5</td>\n      <td>36.0</td>\n      <td>1.0</td>\n      <td>0.0</td>\n      <td>1</td>\n      <td>1</td>\n    </tr>\n    <tr>\n      <th>3</th>\n      <td>-51.0</td>\n      <td>4.0</td>\n      <td>-0.49</td>\n      <td>3.5</td>\n      <td>39.0</td>\n      <td>1.0</td>\n      <td>0.0</td>\n      <td>1</td>\n      <td>1</td>\n    </tr>\n    <tr>\n      <th>4</th>\n      <td>-61.0</td>\n      <td>4.0</td>\n      <td>0.76</td>\n      <td>3.5</td>\n      <td>48.0</td>\n      <td>1.0</td>\n      <td>0.0</td>\n      <td>1</td>\n      <td>1</td>\n    </tr>\n    <tr>\n      <th>5</th>\n      <td>-61.0</td>\n      <td>4.0</td>\n      <td>-0.12</td>\n      <td>3.5</td>\n      <td>40.0</td>\n      <td>0.0</td>\n      <td>0.0</td>\n      <td>1</td>\n      <td>1</td>\n    </tr>\n    <tr>\n      <th>6</th>\n      <td>-62.0</td>\n      <td>3.0</td>\n      <td>0.45</td>\n      <td>3.5</td>\n      <td>34.0</td>\n      <td>0.0</td>\n      <td>0.0</td>\n      <td>1</td>\n      <td>1</td>\n    </tr>\n    <tr>\n      <th>7</th>\n      <td>-48.0</td>\n      <td>2.0</td>\n      <td>1.41</td>\n      <td>3.5</td>\n      <td>40.0</td>\n      <td>1.0</td>\n      <td>1.0</td>\n      <td>1</td>\n      <td>1</td>\n    </tr>\n    <tr>\n      <th>8</th>\n      <td>-61.0</td>\n      <td>4.0</td>\n      <td>-1.01</td>\n      <td>3.5</td>\n      <td>40.0</td>\n      <td>1.0</td>\n      <td>0.0</td>\n      <td>1</td>\n      <td>1</td>\n    </tr>\n    <tr>\n      <th>9</th>\n      <td>-62.0</td>\n      <td>2.0</td>\n      <td>-0.04</td>\n      <td>3.5</td>\n      <td>28.0</td>\n      <td>0.0</td>\n      <td>0.0</td>\n      <td>0</td>\n      <td>1</td>\n    </tr>\n  </tbody>\n</table>\n</div>"
     },
     "execution_count": 28,
     "metadata": {},
     "output_type": "execute_result"
    }
   ],
   "source": [
    "df = pd.read_csv(\"../datasets/lsat/bar_pass_prediction.csv\", sep=',')\n",
    "data = df[['race1', 'gender', 'age', 'fam_inc', 'fulltime', 'zgpa', 'ugpa', 'lsat']]\n",
    "data = data.dropna(axis=0).reset_index()\n",
    "\n",
    "race_map = {'asian': 0,\n",
    "            'black': 1,\n",
    "            'hisp': 2,\n",
    "            'other': 3,\n",
    "            'white': 4}\n",
    "race = [race_map[r] for r in data['race1']]\n",
    "\n",
    "cat_vars = ['gender', 'fulltime']\n",
    "num_vars = ['age', 'fam_inc', 'zgpa', 'ugpa', 'lsat']\n",
    "\n",
    "cat_encoder = OneHotEncoder(sparse=False, drop='first')\n",
    "\n",
    "cat_data = cat_encoder.fit_transform(data[cat_vars])\n",
    "\n",
    "catnewcols = np.concatenate(\n",
    "    [[cat] if len(item) == 2 else [cat + '_' + cn for cn in item[1:]] for cat, item in\n",
    "     zip(cat_vars, cat_encoder.categories_)]).tolist()\n",
    "\n",
    "cat_df = pd.DataFrame(cat_data, columns=catnewcols)\n",
    "\n",
    "dataset = pd.concat([data[num_vars], cat_df], axis=1)\n",
    "dataset['race'] = race\n",
    "dataset['race'] = dataset['race'].apply(lambda x: 1 if x == 4 else 0)\n",
    "\n",
    "\n",
    "# computing the binary outcome\n",
    "# TODO qué es un lsat bueno? 37 is the mean 2nd quartile\n",
    "# dataset['lsat_binary'] = dataset['lsat'] >= 37\n",
    "# dataset['lsat_binary'] = dataset['lsat_binary'].astype(int)\n",
    "\n",
    "dataset['lsat_binary'] = dataset['ugpa'] >= 3.2\n",
    "dataset['lsat_binary'] = dataset['lsat_binary'].astype(int)\n",
    "\n",
    "dataset.reset_index(drop=True, inplace=True)\n",
    "dataset.head(10)\n"
   ]
  },
  {
   "cell_type": "code",
   "execution_count": 29,
   "metadata": {
    "pycharm": {
     "name": "#%%\n"
    },
    "ExecuteTime": {
     "end_time": "2024-04-17T10:17:17.108406Z",
     "start_time": "2024-04-17T10:17:17.027870Z"
    }
   },
   "outputs": [
    {
     "data": {
      "text/plain": "age            0\nfam_inc        0\nzgpa           0\nugpa           0\nlsat           0\ngender         0\nfulltime       0\nrace           0\nlsat_binary    0\ndtype: int64"
     },
     "execution_count": 29,
     "metadata": {},
     "output_type": "execute_result"
    }
   ],
   "source": [
    "dataset.isna().sum()"
   ]
  },
  {
   "cell_type": "code",
   "execution_count": 30,
   "metadata": {
    "pycharm": {
     "name": "#%%\n"
    },
    "ExecuteTime": {
     "end_time": "2024-04-17T10:17:19.649317Z",
     "start_time": "2024-04-17T10:17:19.429322Z"
    }
   },
   "outputs": [
    {
     "data": {
      "text/plain": "<AxesSubplot:xlabel='ugpa'>"
     },
     "execution_count": 30,
     "metadata": {},
     "output_type": "execute_result"
    },
    {
     "data": {
      "text/plain": "<Figure size 432x288 with 1 Axes>",
      "image/png": "[encoded data removed]"
     },
     "metadata": {
      "needs_background": "light"
     },
     "output_type": "display_data"
    }
   ],
   "source": [
    "sns.distplot(dataset['ugpa'], hist=True, kde=False,\n",
    "             bins=int(10), color = 'blue',\n",
    "             hist_kws={'edgecolor':'black'})"
   ]
  },
  {
   "cell_type": "code",
   "execution_count": 31,
   "metadata": {
    "pycharm": {
     "name": "#%%\n"
    },
    "ExecuteTime": {
     "end_time": "2024-04-17T10:17:21.663856Z",
     "start_time": "2024-04-17T10:17:21.630262Z"
    }
   },
   "outputs": [
    {
     "data": {
      "text/plain": "count    20715.000000\nmean         3.213724\nstd          0.403093\nmin          1.500000\n25%          3.000000\n50%          3.200000\n75%          3.500000\nmax          3.900000\nName: ugpa, dtype: float64"
     },
     "execution_count": 31,
     "metadata": {},
     "output_type": "execute_result"
    }
   ],
   "source": [
    "dataset['ugpa'].describe()"
   ]
  },
  {
   "cell_type": "code",
   "execution_count": null,
   "metadata": {
    "pycharm": {
     "name": "#%%\n"
    }
   },
   "outputs": [],
   "source": [
    "dataset['race'] = dataset['race'].apply(lambda x: 'White' if x == 1 else 'Other')\n",
    "sns_plot = sns.displot(data=dataset, x = 'ugpa', hue='race',\n",
    "            multiple = 'stack', palette= 'Greys', bins = 10)\n",
    "sns.move_legend(sns_plot, \"upper right\", bbox_to_anchor=( .8, 1))\n",
    "sns_plot.figure.savefig(\"..datasets_figures/lsat.pdf\", bbox_inches='tight')"
   ]
  },
  {
   "cell_type": "code",
   "execution_count": null,
   "metadata": {
    "pycharm": {
     "name": "#%%\n"
    }
   },
   "outputs": [],
   "source": [
    "dataset['race'].describe()"
   ]
  },
  {
   "cell_type": "code",
   "execution_count": null,
   "metadata": {
    "pycharm": {
     "name": "#%%\n"
    }
   },
   "outputs": [],
   "source": [
    "df = pd.DataFrame(dataset['race'].groupby(dataset['race']).count())\n",
    "df.rename(columns={'race': 'num_values'}, inplace=True)\n",
    "df.reset_index(inplace=True)\n",
    "df['percent'] = 100 * df['num_values']/df['num_values'].sum()\n",
    "df"
   ]
  },
  {
   "cell_type": "code",
   "execution_count": null,
   "metadata": {
    "pycharm": {
     "name": "#%%\n"
    }
   },
   "outputs": [],
   "source": [
    "df = pd.DataFrame(dataset.groupby(['race', 'lsat_binary']).count())\n",
    "df.rename(columns={'race': 'num_values'}, inplace=True)\n",
    "df.reset_index(inplace=True)\n",
    "df = df [['race', 'lsat_binary', 'age']]\n",
    "df['percent'] = 100 * df['age']/df['age'].sum()\n",
    "df"
   ]
  },
  {
   "cell_type": "code",
   "execution_count": null,
   "metadata": {
    "pycharm": {
     "name": "#%%\n"
    }
   },
   "outputs": [],
   "source": [
    "explanatory_variables = ['age', 'fam_inc', 'zgpa', 'gender', 'fulltime', 'race']\n",
    "dataset[explanatory_variables].shape"
   ]
  },
  {
   "cell_type": "markdown",
   "metadata": {},
   "source": [
    "Obesity"
   ]
  },
  {
   "cell_type": "code",
   "execution_count": null,
   "metadata": {
    "pycharm": {
     "name": "#%%\n"
    }
   },
   "outputs": [],
   "source": [
    "df = pd.read_csv(\"..datasets/obesity/ObesityDataSet_raw_and_data_sinthetic.csv\", sep=',')\n",
    "\n",
    "# We categorized as 5 the obesity types 2 and 3.\n",
    "label_map = {\n",
    "    'Insufficient_Weight': 0,\n",
    "    'Normal_Weight': 1,\n",
    "    'Overweight_Level_I': 2,\n",
    "    'Overweight_Level_II': 3,\n",
    "    'Obesity_Type_I': 4,\n",
    "    'Obesity_Type_II': 5,\n",
    "    'Obesity_Type_III': 5}\n",
    "\n",
    "cat = 'categorical'\n",
    "num = 'numeric'\n",
    "unique_counter = df.apply(lambda col: len(set(col)), axis=0)\n",
    "variables = {}\n",
    "for key, val in unique_counter.iteritems():\n",
    "    variables[key] = (cat, val) if val < 20 else (num, None)\n",
    "\n",
    "target = np.array([label_map[t] for t in df['NObeyesdad']])\n",
    "gender = (df['Gender'] != 'Female').astype(float)\n",
    "\n",
    "df_ = df.drop(['NObeyesdad', 'Gender'], axis=1)\n",
    "df_.loc[df_['CALC'] == 'Always', 'CALC'] = 'Frequently'\n",
    "\n",
    "# categorical columns\n",
    "catcols = [var for var in variables if variables[var][0] == cat if var in df_]\n",
    "cat_encoder = OneHotEncoder(sparse=False, drop='first')\n",
    "df_cat = cat_encoder.fit_transform(df_[catcols])\n",
    "cat_new_cols = np.concatenate(\n",
    "    [[cat] if len(item) == 2 else [cat + '_' + cn for cn in item[1:]] for cat, item in\n",
    "     zip(catcols, cat_encoder.categories_)]).tolist()\n",
    "cat_df = pd.DataFrame(df_cat, columns=cat_new_cols)\n",
    "\n",
    "# numerical columns\n",
    "numcols = [var for var in variables if variables[var][0] == num if var in df_]\n",
    "\n",
    "dataset = pd.concat([df_[numcols], cat_df], axis=1)\n",
    "\n",
    "dataset['Gender'] = gender\n",
    "dataset['NObeyesdad'] = target\n",
    "\n",
    "# computing the binary outcome\n",
    "dataset['NObeyesdad_binary'] = dataset['NObeyesdad'] > 3\n",
    "dataset['NObeyesdad_binary'] = dataset['NObeyesdad_binary'].astype(int)\n",
    "\n",
    "dataset.reset_index(drop=True, inplace=True)\n",
    "\n",
    "dataset.head(10)"
   ]
  },
  {
   "cell_type": "code",
   "execution_count": null,
   "metadata": {
    "pycharm": {
     "name": "#%%\n"
    }
   },
   "outputs": [],
   "source": [
    "dataset.shape"
   ]
  },
  {
   "cell_type": "code",
   "execution_count": null,
   "metadata": {
    "pycharm": {
     "name": "#%%\n"
    }
   },
   "outputs": [],
   "source": [
    "dataset.isna().sum()"
   ]
  },
  {
   "cell_type": "code",
   "execution_count": null,
   "metadata": {
    "pycharm": {
     "name": "#%%\n"
    }
   },
   "outputs": [],
   "source": [
    "dataset['NObeyesdad'].groupby(dataset.NObeyesdad).count()"
   ]
  },
  {
   "cell_type": "code",
   "execution_count": null,
   "metadata": {
    "pycharm": {
     "name": "#%%\n"
    }
   },
   "outputs": [],
   "source": [
    "visual_p = dataset.groupby(['Gender','NObeyesdad'])['NObeyesdad'].count()\n",
    "visual_p_df = pd.DataFrame(visual_p)\n",
    "visual_p_df.rename({\"NObeyesdad\": \"examples\"}, inplace=True, axis=1)\n",
    "visual_p_df.reset_index(inplace=True)\n",
    "visual_p_df['Gender'] = visual_p_df['Gender'].apply(lambda x: 'Male' if x == 1 else 'Female')\n",
    "visual_p_df\n",
    "sns_plot = sns.catplot(x = \"NObeyesdad\",       # x variable name\n",
    "            y = \"examples\",       # y variable name\n",
    "            hue = \"Gender\",  # group variable name\n",
    "            data = visual_p_df,     # dataframe to plot\n",
    "            kind = \"bar\",\n",
    "            palette= 'Greys',\n",
    "            legend=True)\n",
    "sns.move_legend(sns_plot, \"upper center\", bbox_to_anchor=( .6, 1), )\n",
    "sns_plot.figure.savefig(\"..datasets_figures/obesity.pdf\", bbox_inches='tight')"
   ]
  },
  {
   "cell_type": "code",
   "execution_count": null,
   "metadata": {
    "pycharm": {
     "name": "#%%\n"
    }
   },
   "outputs": [],
   "source": [
    "df = pd.DataFrame(dataset['Gender'].groupby(dataset['Gender']).count())\n",
    "df.rename(columns={'Gender': 'num_values'}, inplace=True)\n",
    "df.reset_index(inplace=True)\n",
    "df['Gender'] = df['Gender'].apply(lambda x: 'Male' if x == 1 else 'Female')\n",
    "df['percent'] = 100 * df['num_values']/df['num_values'].sum()\n",
    "df"
   ]
  },
  {
   "cell_type": "code",
   "execution_count": null,
   "metadata": {
    "pycharm": {
     "name": "#%%\n"
    }
   },
   "outputs": [],
   "source": [
    "df = pd.DataFrame(dataset.groupby(['Gender', 'NObeyesdad_binary']).count())\n",
    "df.rename(columns={'Gender': 'num_values'}, inplace=True)\n",
    "df.reset_index(inplace=True)\n",
    "df = df [['Gender', 'NObeyesdad_binary', 'Age']]\n",
    "df['percent'] = 100 * df['Age']/df['Age'].sum()\n",
    "df"
   ]
  },
  {
   "cell_type": "code",
   "execution_count": null,
   "metadata": {
    "pycharm": {
     "name": "#%%\n"
    }
   },
   "outputs": [],
   "source": [
    "explanatory_variables = ['family_history_with_overweight', 'FAVC', 'CAEC_Frequently', 'CAEC_Sometimes',\n",
    "                                       'CAEC_no', 'SMOKE', 'SCC', 'CALC_Sometimes', 'CALC_no', 'MTRANS_Bike',\n",
    "                                       'MTRANS_Motorbike', 'MTRANS_Public_Transportation', 'MTRANS_Walking',\n",
    "                                       'Age', 'Height', 'Weight', 'FCVC', 'NCP', 'CH2O', 'FAF', 'TUE', 'Gender']\n",
    "dataset[explanatory_variables].shape\n",
    "\n"
   ]
  },
  {
   "cell_type": "markdown",
   "metadata": {},
   "source": [
    "Older adults"
   ]
  },
  {
   "cell_type": "code",
   "execution_count": 24,
   "metadata": {
    "pycharm": {
     "name": "#%%\n"
    },
    "ExecuteTime": {
     "end_time": "2024-04-17T10:15:40.416389Z",
     "start_time": "2024-04-17T10:15:40.326509Z"
    }
   },
   "outputs": [
    {
     "data": {
      "text/plain": "   HEIGHT  WEIGHT  B-CURLS  6MInWk  6STEPS  10METRE  TIMEDUP&GO  5SittoStands  \\\n0   180.0    71.8       22   785.0     6.0     24.6        7.50           8.0   \n1   180.0   100.4       22   445.0     4.0     20.7       11.70          11.0   \n2   170.0    59.0       10   530.0     7.0     40.0        8.80          15.0   \n3   176.0    85.0       22   700.0     6.2     26.0        6.90          13.0   \n4   178.0    90.5       24   745.0     6.2     21.8        7.10           9.0   \n5   166.0    89.3       17   610.0     6.7     50.0        7.20          12.0   \n6   162.0    73.0       14   495.0     5.0     26.3        8.90          13.3   \n7   169.0    67.2       17   520.0     4.2     20.3        9.70          12.8   \n8   160.0    66.7       17   610.0     5.4     31.5        7.63          12.6   \n9   156.0    63.7       18   676.0     8.6     43.2        7.41          10.2   \n\n   SITTOSTAND  GRIPLEFT  GRIPRIGHT   FR1   FR2   FR3  SEX  mistakes  \\\n0          16     28.95      28.75  90.0  93.0  91.0    1         7   \n1          13     29.40      34.05  86.0  87.0  87.0    1         9   \n2          10     18.35      21.60  89.0  90.0  90.0    2         7   \n3          12     30.00      33.55  92.0  91.0  93.0    1         5   \n4          18     26.50      26.50  89.0  90.0  90.0    1         4   \n5          12     34.45      30.20  84.0  85.0  87.0    1         6   \n6          10     19.65      20.35  76.0  78.0  80.0    2         2   \n7          13     30.40      33.20  80.0  80.0  81.0    1        20   \n8          12     24.85      27.70  84.0  84.0  85.0    2         2   \n9          13     19.25      21.00  76.0  77.0  77.0    2        12   \n\n   mistakes_binary  \n0                0  \n1                1  \n2                0  \n3                0  \n4                0  \n5                0  \n6                0  \n7                1  \n8                0  \n9                1  ",
      "text/html": "<div>\n<style scoped>\n    .dataframe tbody tr th:only-of-type {\n        vertical-align: middle;\n    }\n\n    .dataframe tbody tr th {\n        vertical-align: top;\n    }\n\n    .dataframe thead th {\n        text-align: right;\n    }\n</style>\n<table border=\"1\" class=\"dataframe\">\n  <thead>\n    <tr style=\"text-align: right;\">\n      <th></th>\n      <th>HEIGHT</th>\n      <th>WEIGHT</th>\n      <th>B-CURLS</th>\n      <th>6MInWk</th>\n      <th>6STEPS</th>\n      <th>10METRE</th>\n      <th>TIMEDUP&amp;GO</th>\n      <th>5SittoStands</th>\n      <th>SITTOSTAND</th>\n      <th>GRIPLEFT</th>\n      <th>GRIPRIGHT</th>\n      <th>FR1</th>\n      <th>FR2</th>\n      <th>FR3</th>\n      <th>SEX</th>\n      <th>mistakes</th>\n      <th>mistakes_binary</th>\n    </tr>\n  </thead>\n  <tbody>\n    <tr>\n      <th>0</th>\n      <td>180.0</td>\n      <td>71.8</td>\n      <td>22</td>\n      <td>785.0</td>\n      <td>6.0</td>\n      <td>24.6</td>\n      <td>7.50</td>\n      <td>8.0</td>\n      <td>16</td>\n      <td>28.95</td>\n      <td>28.75</td>\n      <td>90.0</td>\n      <td>93.0</td>\n      <td>91.0</td>\n      <td>1</td>\n      <td>7</td>\n      <td>0</td>\n    </tr>\n    <tr>\n      <th>1</th>\n      <td>180.0</td>\n      <td>100.4</td>\n      <td>22</td>\n      <td>445.0</td>\n      <td>4.0</td>\n      <td>20.7</td>\n      <td>11.70</td>\n      <td>11.0</td>\n      <td>13</td>\n      <td>29.40</td>\n      <td>34.05</td>\n      <td>86.0</td>\n      <td>87.0</td>\n      <td>87.0</td>\n      <td>1</td>\n      <td>9</td>\n      <td>1</td>\n    </tr>\n    <tr>\n      <th>2</th>\n      <td>170.0</td>\n      <td>59.0</td>\n      <td>10</td>\n      <td>530.0</td>\n      <td>7.0</td>\n      <td>40.0</td>\n      <td>8.80</td>\n      <td>15.0</td>\n      <td>10</td>\n      <td>18.35</td>\n      <td>21.60</td>\n      <td>89.0</td>\n      <td>90.0</td>\n      <td>90.0</td>\n      <td>2</td>\n      <td>7</td>\n      <td>0</td>\n    </tr>\n    <tr>\n      <th>3</th>\n      <td>176.0</td>\n      <td>85.0</td>\n      <td>22</td>\n      <td>700.0</td>\n      <td>6.2</td>\n      <td>26.0</td>\n      <td>6.90</td>\n      <td>13.0</td>\n      <td>12</td>\n      <td>30.00</td>\n      <td>33.55</td>\n      <td>92.0</td>\n      <td>91.0</td>\n      <td>93.0</td>\n      <td>1</td>\n      <td>5</td>\n      <td>0</td>\n    </tr>\n    <tr>\n      <th>4</th>\n      <td>178.0</td>\n      <td>90.5</td>\n      <td>24</td>\n      <td>745.0</td>\n      <td>6.2</td>\n      <td>21.8</td>\n      <td>7.10</td>\n      <td>9.0</td>\n      <td>18</td>\n      <td>26.50</td>\n      <td>26.50</td>\n      <td>89.0</td>\n      <td>90.0</td>\n      <td>90.0</td>\n      <td>1</td>\n      <td>4</td>\n      <td>0</td>\n    </tr>\n    <tr>\n      <th>5</th>\n      <td>166.0</td>\n      <td>89.3</td>\n      <td>17</td>\n      <td>610.0</td>\n      <td>6.7</td>\n      <td>50.0</td>\n      <td>7.20</td>\n      <td>12.0</td>\n      <td>12</td>\n      <td>34.45</td>\n      <td>30.20</td>\n      <td>84.0</td>\n      <td>85.0</td>\n      <td>87.0</td>\n      <td>1</td>\n      <td>6</td>\n      <td>0</td>\n    </tr>\n    <tr>\n      <th>6</th>\n      <td>162.0</td>\n      <td>73.0</td>\n      <td>14</td>\n      <td>495.0</td>\n      <td>5.0</td>\n      <td>26.3</td>\n      <td>8.90</td>\n      <td>13.3</td>\n      <td>10</td>\n      <td>19.65</td>\n      <td>20.35</td>\n      <td>76.0</td>\n      <td>78.0</td>\n      <td>80.0</td>\n      <td>2</td>\n      <td>2</td>\n      <td>0</td>\n    </tr>\n    <tr>\n      <th>7</th>\n      <td>169.0</td>\n      <td>67.2</td>\n      <td>17</td>\n      <td>520.0</td>\n      <td>4.2</td>\n      <td>20.3</td>\n      <td>9.70</td>\n      <td>12.8</td>\n      <td>13</td>\n      <td>30.40</td>\n      <td>33.20</td>\n      <td>80.0</td>\n      <td>80.0</td>\n      <td>81.0</td>\n      <td>1</td>\n      <td>20</td>\n      <td>1</td>\n    </tr>\n    <tr>\n      <th>8</th>\n      <td>160.0</td>\n      <td>66.7</td>\n      <td>17</td>\n      <td>610.0</td>\n      <td>5.4</td>\n      <td>31.5</td>\n      <td>7.63</td>\n      <td>12.6</td>\n      <td>12</td>\n      <td>24.85</td>\n      <td>27.70</td>\n      <td>84.0</td>\n      <td>84.0</td>\n      <td>85.0</td>\n      <td>2</td>\n      <td>2</td>\n      <td>0</td>\n    </tr>\n    <tr>\n      <th>9</th>\n      <td>156.0</td>\n      <td>63.7</td>\n      <td>18</td>\n      <td>676.0</td>\n      <td>8.6</td>\n      <td>43.2</td>\n      <td>7.41</td>\n      <td>10.2</td>\n      <td>13</td>\n      <td>19.25</td>\n      <td>21.00</td>\n      <td>76.0</td>\n      <td>77.0</td>\n      <td>77.0</td>\n      <td>2</td>\n      <td>12</td>\n      <td>1</td>\n    </tr>\n  </tbody>\n</table>\n</div>"
     },
     "execution_count": 24,
     "metadata": {},
     "output_type": "execute_result"
    }
   ],
   "source": [
    "df = pd.read_csv(\"../datasets/olderadults/older_adults.csv\", sep=';')\n",
    "\n",
    "columns = ['HEIGHT', 'WEIGHT', 'B-CURLS', '6MInWk', '6STEPS', '10METRE', 'TIMEDUP&GO', '5SittoStands',\n",
    "                   'SITTOSTAND', 'GRIPLEFT', 'GRIPRIGHT', 'FR1', 'FR2', 'FR3', 'SEX', 'TOTALMISTAKES']\n",
    "\n",
    "data = df[columns]\n",
    "\n",
    "dataset = pd.DataFrame()\n",
    "for c in columns:\n",
    "    if data[c].dtypes == 'O':\n",
    "        new_col = data[c].apply(lambda x: float(x.replace(',', '.')))\n",
    "        dataset[c] = new_col\n",
    "    else:\n",
    "        dataset[c] = data[c]\n",
    "\n",
    "dataset.rename(columns={'TOTALMISTAKES': 'mistakes'}, inplace=True)\n",
    "dataset.rename(columns={'SEX ': 'sex'}, inplace=True)\n",
    "\n",
    "\n",
    "# computing the binary outcome\n",
    "dataset['mistakes_binary'] = dataset['mistakes'] >= 8\n",
    "dataset['mistakes_binary'] = dataset['mistakes_binary'].astype(int)\n",
    "\n",
    "dataset.reset_index(drop=True, inplace=True)\n",
    "dataset.head(10)"
   ]
  },
  {
   "cell_type": "code",
   "execution_count": 25,
   "metadata": {
    "pycharm": {
     "name": "#%%\n"
    },
    "ExecuteTime": {
     "end_time": "2024-04-17T10:15:46.530805Z",
     "start_time": "2024-04-17T10:15:46.488036Z"
    }
   },
   "outputs": [
    {
     "data": {
      "text/plain": "HEIGHT             0\nWEIGHT             0\nB-CURLS            0\n6MInWk             0\n6STEPS             0\n10METRE            0\nTIMEDUP&GO         0\n5SittoStands       0\nSITTOSTAND         0\nGRIPLEFT           0\nGRIPRIGHT          0\nFR1                0\nFR2                0\nFR3                0\nSEX                0\nmistakes           0\nmistakes_binary    0\ndtype: int64"
     },
     "execution_count": 25,
     "metadata": {},
     "output_type": "execute_result"
    }
   ],
   "source": [
    "dataset.isna().sum()"
   ]
  },
  {
   "cell_type": "code",
   "execution_count": 26,
   "metadata": {
    "pycharm": {
     "name": "#%%\n"
    },
    "ExecuteTime": {
     "end_time": "2024-04-17T10:15:48.471096Z",
     "start_time": "2024-04-17T10:15:48.133762Z"
    }
   },
   "outputs": [
    {
     "data": {
      "text/plain": "<AxesSubplot:xlabel='mistakes'>"
     },
     "execution_count": 26,
     "metadata": {},
     "output_type": "execute_result"
    },
    {
     "data": {
      "text/plain": "<Figure size 432x288 with 1 Axes>",
      "image/png": "[encoded data removed]"
     },
     "metadata": {
      "needs_background": "light"
     },
     "output_type": "display_data"
    }
   ],
   "source": [
    "sns.distplot(dataset['mistakes'], hist=True, kde=False,\n",
    "             bins=int(10), color = 'blue',\n",
    "             hist_kws={'edgecolor':'black'})"
   ]
  },
  {
   "cell_type": "code",
   "execution_count": 27,
   "metadata": {
    "pycharm": {
     "name": "#%%\n"
    },
    "ExecuteTime": {
     "end_time": "2024-04-17T10:15:51.197214Z",
     "start_time": "2024-04-17T10:15:51.160514Z"
    }
   },
   "outputs": [
    {
     "data": {
      "text/plain": "count    70.000000\nmean     10.300000\nstd       7.435422\nmin       1.000000\n25%       4.250000\n50%       8.000000\n75%      15.750000\nmax      27.000000\nName: mistakes, dtype: float64"
     },
     "execution_count": 27,
     "metadata": {},
     "output_type": "execute_result"
    }
   ],
   "source": [
    "dataset['mistakes'].describe()"
   ]
  },
  {
   "cell_type": "code",
   "execution_count": null,
   "metadata": {
    "pycharm": {
     "name": "#%%\n"
    }
   },
   "outputs": [],
   "source": [
    "dataset['sex'] = dataset['sex'].apply(lambda x: 'Male' if x == 1 else 'Female')\n",
    "sns_plot = sns.displot(data=dataset, x = 'mistakes', hue='sex',\n",
    "            multiple = 'stack', palette= 'Greys', bins = 10)\n",
    "sns.move_legend(sns_plot, \"upper right\", bbox_to_anchor=( .8, 1))\n",
    "sns_plot.figure.savefig(\"..datasets_figures/older-adults.pdf\", bbox_inches='tight')"
   ]
  },
  {
   "cell_type": "code",
   "execution_count": null,
   "metadata": {
    "pycharm": {
     "name": "#%%\n"
    }
   },
   "outputs": [],
   "source": [
    "dataset['sex'].describe()"
   ]
  },
  {
   "cell_type": "code",
   "execution_count": null,
   "metadata": {
    "pycharm": {
     "name": "#%%\n"
    }
   },
   "outputs": [],
   "source": [
    "df = pd.DataFrame(dataset['sex'].groupby(dataset['sex']).count())\n",
    "df.rename(columns={'sex': 'num_values'}, inplace=True)\n",
    "df.reset_index(inplace=True)\n",
    "df['percent'] = 100 * df['num_values']/df['num_values'].sum()\n",
    "df"
   ]
  },
  {
   "cell_type": "code",
   "execution_count": null,
   "metadata": {
    "pycharm": {
     "name": "#%%\n"
    }
   },
   "outputs": [],
   "source": [
    "df = pd.DataFrame(dataset.groupby(['sex', 'mistakes_binary']).count())\n",
    "df.rename(columns={'sex': 'num_values'}, inplace=True)\n",
    "df.reset_index(inplace=True)\n",
    "df = df [['sex', 'mistakes_binary', 'WEIGHT']]\n",
    "df['percent'] = 100 * df['WEIGHT']/df['WEIGHT'].sum()\n",
    "df"
   ]
  },
  {
   "cell_type": "code",
   "execution_count": null,
   "metadata": {
    "pycharm": {
     "name": "#%%\n"
    }
   },
   "outputs": [],
   "source": [
    "explanatory_variables = ['HEIGHT', 'WEIGHT', 'B-CURLS', '6 MInWk', '6 STEPS', '10 METRE',\n",
    "                                       'TIMED UP&GO', '5 Sit to Stands', 'SIT TO STAND', 'GRIP LEFT',\n",
    "                                       'GRIP RIGHT', 'FR1', 'FR2', 'FR3', 'sex']\n",
    "dataset[explanatory_variables].shape"
   ]
  },
  {
   "cell_type": "markdown",
   "metadata": {},
   "source": [
    "Parkinson"
   ]
  },
  {
   "cell_type": "code",
   "execution_count": 16,
   "metadata": {
    "pycharm": {
     "name": "#%%\n"
    },
    "ExecuteTime": {
     "end_time": "2024-04-17T10:12:01.773164Z",
     "start_time": "2024-04-17T10:12:01.648014Z"
    }
   },
   "outputs": [
    {
     "data": {
      "text/plain": "   age  sex  total_UPDRS  Jitter(%)  Jitter(Abs)  Jitter:RAP  Jitter:PPQ5  \\\n0   72    0       34.398    0.00662     0.000034     0.00401      0.00317   \n1   72    0       34.894    0.00300     0.000017     0.00132      0.00150   \n2   72    0       35.389    0.00481     0.000025     0.00205      0.00208   \n3   72    0       35.810    0.00528     0.000027     0.00191      0.00264   \n4   72    0       36.375    0.00335     0.000020     0.00093      0.00130   \n5   72    0       36.870    0.00353     0.000023     0.00119      0.00159   \n6   72    0       37.363    0.00422     0.000024     0.00212      0.00221   \n7   72    0       37.857    0.00476     0.000025     0.00226      0.00259   \n8   72    0       38.353    0.00432     0.000029     0.00156      0.00207   \n9   72    0       38.849    0.00496     0.000027     0.00258      0.00253   \n\n   Jitter:DDP  Shimmer  Shimmer(dB)  Shimmer:APQ3  Shimmer:APQ5  \\\n0     0.01204  0.02565        0.230       0.01438       0.01309   \n1     0.00395  0.02024        0.179       0.00994       0.01072   \n2     0.00616  0.01675        0.181       0.00734       0.00844   \n3     0.00573  0.02309        0.327       0.01106       0.01265   \n4     0.00278  0.01703        0.176       0.00679       0.00929   \n5     0.00357  0.02227        0.214       0.01006       0.01337   \n6     0.00637  0.04352        0.445       0.02376       0.02621   \n7     0.00678  0.02191        0.212       0.00979       0.01462   \n8     0.00468  0.04296        0.371       0.01774       0.02134   \n9     0.00773  0.03610        0.310       0.02030       0.01970   \n\n   Shimmer:APQ11  Shimmer:DDA       NHR     HNR     RPDE      DFA      PPE  \\\n0        0.01662      0.04314  0.014290  21.640  0.41888  0.54842  0.16006   \n1        0.01689      0.02982  0.011112  27.183  0.43493  0.56477  0.10810   \n2        0.01458      0.02202  0.020220  23.047  0.46222  0.54405  0.21014   \n3        0.01963      0.03317  0.027837  24.445  0.48730  0.57794  0.33277   \n4        0.01819      0.02036  0.011625  26.126  0.47188  0.56122  0.19361   \n5        0.02263      0.03019  0.009438  22.946  0.53949  0.57243  0.19500   \n6        0.03488      0.07128  0.013260  22.506  0.49250  0.54779  0.17563   \n7        0.01911      0.02937  0.027969  22.929  0.47712  0.54234  0.23844   \n8        0.03451      0.05323  0.013381  22.078  0.51563  0.61864  0.20037   \n9        0.02569      0.06089  0.018021  22.606  0.50032  0.58673  0.20117   \n\n   total_UPDRS_binary  \n0                   1  \n1                   1  \n2                   1  \n3                   1  \n4                   1  \n5                   1  \n6                   1  \n7                   1  \n8                   1  \n9                   1  ",
      "text/html": "<div>\n<style scoped>\n    .dataframe tbody tr th:only-of-type {\n        vertical-align: middle;\n    }\n\n    .dataframe tbody tr th {\n        vertical-align: top;\n    }\n\n    .dataframe thead th {\n        text-align: right;\n    }\n</style>\n<table border=\"1\" class=\"dataframe\">\n  <thead>\n    <tr style=\"text-align: right;\">\n      <th></th>\n      <th>age</th>\n      <th>sex</th>\n      <th>total_UPDRS</th>\n      <th>Jitter(%)</th>\n      <th>Jitter(Abs)</th>\n      <th>Jitter:RAP</th>\n      <th>Jitter:PPQ5</th>\n      <th>Jitter:DDP</th>\n      <th>Shimmer</th>\n      <th>Shimmer(dB)</th>\n      <th>Shimmer:APQ3</th>\n      <th>Shimmer:APQ5</th>\n      <th>Shimmer:APQ11</th>\n      <th>Shimmer:DDA</th>\n      <th>NHR</th>\n      <th>HNR</th>\n      <th>RPDE</th>\n      <th>DFA</th>\n      <th>PPE</th>\n      <th>total_UPDRS_binary</th>\n    </tr>\n  </thead>\n  <tbody>\n    <tr>\n      <th>0</th>\n      <td>72</td>\n      <td>0</td>\n      <td>34.398</td>\n      <td>0.00662</td>\n      <td>0.000034</td>\n      <td>0.00401</td>\n      <td>0.00317</td>\n      <td>0.01204</td>\n      <td>0.02565</td>\n      <td>0.230</td>\n      <td>0.01438</td>\n      <td>0.01309</td>\n      <td>0.01662</td>\n      <td>0.04314</td>\n      <td>0.014290</td>\n      <td>21.640</td>\n      <td>0.41888</td>\n      <td>0.54842</td>\n      <td>0.16006</td>\n      <td>1</td>\n    </tr>\n    <tr>\n      <th>1</th>\n      <td>72</td>\n      <td>0</td>\n      <td>34.894</td>\n      <td>0.00300</td>\n      <td>0.000017</td>\n      <td>0.00132</td>\n      <td>0.00150</td>\n      <td>0.00395</td>\n      <td>0.02024</td>\n      <td>0.179</td>\n      <td>0.00994</td>\n      <td>0.01072</td>\n      <td>0.01689</td>\n      <td>0.02982</td>\n      <td>0.011112</td>\n      <td>27.183</td>\n      <td>0.43493</td>\n      <td>0.56477</td>\n      <td>0.10810</td>\n      <td>1</td>\n    </tr>\n    <tr>\n      <th>2</th>\n      <td>72</td>\n      <td>0</td>\n      <td>35.389</td>\n      <td>0.00481</td>\n      <td>0.000025</td>\n      <td>0.00205</td>\n      <td>0.00208</td>\n      <td>0.00616</td>\n      <td>0.01675</td>\n      <td>0.181</td>\n      <td>0.00734</td>\n      <td>0.00844</td>\n      <td>0.01458</td>\n      <td>0.02202</td>\n      <td>0.020220</td>\n      <td>23.047</td>\n      <td>0.46222</td>\n      <td>0.54405</td>\n      <td>0.21014</td>\n      <td>1</td>\n    </tr>\n    <tr>\n      <th>3</th>\n      <td>72</td>\n      <td>0</td>\n      <td>35.810</td>\n      <td>0.00528</td>\n      <td>0.000027</td>\n      <td>0.00191</td>\n      <td>0.00264</td>\n      <td>0.00573</td>\n      <td>0.02309</td>\n      <td>0.327</td>\n      <td>0.01106</td>\n      <td>0.01265</td>\n      <td>0.01963</td>\n      <td>0.03317</td>\n      <td>0.027837</td>\n      <td>24.445</td>\n      <td>0.48730</td>\n      <td>0.57794</td>\n      <td>0.33277</td>\n      <td>1</td>\n    </tr>\n    <tr>\n      <th>4</th>\n      <td>72</td>\n      <td>0</td>\n      <td>36.375</td>\n      <td>0.00335</td>\n      <td>0.000020</td>\n      <td>0.00093</td>\n      <td>0.00130</td>\n      <td>0.00278</td>\n      <td>0.01703</td>\n      <td>0.176</td>\n      <td>0.00679</td>\n      <td>0.00929</td>\n      <td>0.01819</td>\n      <td>0.02036</td>\n      <td>0.011625</td>\n      <td>26.126</td>\n      <td>0.47188</td>\n      <td>0.56122</td>\n      <td>0.19361</td>\n      <td>1</td>\n    </tr>\n    <tr>\n      <th>5</th>\n      <td>72</td>\n      <td>0</td>\n      <td>36.870</td>\n      <td>0.00353</td>\n      <td>0.000023</td>\n      <td>0.00119</td>\n      <td>0.00159</td>\n      <td>0.00357</td>\n      <td>0.02227</td>\n      <td>0.214</td>\n      <td>0.01006</td>\n      <td>0.01337</td>\n      <td>0.02263</td>\n      <td>0.03019</td>\n      <td>0.009438</td>\n      <td>22.946</td>\n      <td>0.53949</td>\n      <td>0.57243</td>\n      <td>0.19500</td>\n      <td>1</td>\n    </tr>\n    <tr>\n      <th>6</th>\n      <td>72</td>\n      <td>0</td>\n      <td>37.363</td>\n      <td>0.00422</td>\n      <td>0.000024</td>\n      <td>0.00212</td>\n      <td>0.00221</td>\n      <td>0.00637</td>\n      <td>0.04352</td>\n      <td>0.445</td>\n      <td>0.02376</td>\n      <td>0.02621</td>\n      <td>0.03488</td>\n      <td>0.07128</td>\n      <td>0.013260</td>\n      <td>22.506</td>\n      <td>0.49250</td>\n      <td>0.54779</td>\n      <td>0.17563</td>\n      <td>1</td>\n    </tr>\n    <tr>\n      <th>7</th>\n      <td>72</td>\n      <td>0</td>\n      <td>37.857</td>\n      <td>0.00476</td>\n      <td>0.000025</td>\n      <td>0.00226</td>\n      <td>0.00259</td>\n      <td>0.00678</td>\n      <td>0.02191</td>\n      <td>0.212</td>\n      <td>0.00979</td>\n      <td>0.01462</td>\n      <td>0.01911</td>\n      <td>0.02937</td>\n      <td>0.027969</td>\n      <td>22.929</td>\n      <td>0.47712</td>\n      <td>0.54234</td>\n      <td>0.23844</td>\n      <td>1</td>\n    </tr>\n    <tr>\n      <th>8</th>\n      <td>72</td>\n      <td>0</td>\n      <td>38.353</td>\n      <td>0.00432</td>\n      <td>0.000029</td>\n      <td>0.00156</td>\n      <td>0.00207</td>\n      <td>0.00468</td>\n      <td>0.04296</td>\n      <td>0.371</td>\n      <td>0.01774</td>\n      <td>0.02134</td>\n      <td>0.03451</td>\n      <td>0.05323</td>\n      <td>0.013381</td>\n      <td>22.078</td>\n      <td>0.51563</td>\n      <td>0.61864</td>\n      <td>0.20037</td>\n      <td>1</td>\n    </tr>\n    <tr>\n      <th>9</th>\n      <td>72</td>\n      <td>0</td>\n      <td>38.849</td>\n      <td>0.00496</td>\n      <td>0.000027</td>\n      <td>0.00258</td>\n      <td>0.00253</td>\n      <td>0.00773</td>\n      <td>0.03610</td>\n      <td>0.310</td>\n      <td>0.02030</td>\n      <td>0.01970</td>\n      <td>0.02569</td>\n      <td>0.06089</td>\n      <td>0.018021</td>\n      <td>22.606</td>\n      <td>0.50032</td>\n      <td>0.58673</td>\n      <td>0.20117</td>\n      <td>1</td>\n    </tr>\n  </tbody>\n</table>\n</div>"
     },
     "execution_count": 16,
     "metadata": {},
     "output_type": "execute_result"
    }
   ],
   "source": [
    "df = pd.read_csv(\"../datasets/parkinson/parkinsons_updrs.data\", sep=',')\n",
    "\n",
    "dataset = df.drop(['subject#', 'motor_UPDRS', 'test_time'], axis=1)\n",
    "\n",
    "\n",
    "# computing the binary outcome\n",
    "dataset['total_UPDRS_binary'] = dataset['total_UPDRS'] >= 17.1\n",
    "dataset['total_UPDRS_binary'] = dataset['total_UPDRS_binary'].astype(int)\n",
    "\n",
    "dataset.reset_index(drop=True, inplace=True)\n",
    "dataset.head(10)"
   ]
  },
  {
   "cell_type": "code",
   "execution_count": null,
   "metadata": {
    "pycharm": {
     "name": "#%%\n"
    }
   },
   "outputs": [],
   "source": [
    "dataset.isna().sum()"
   ]
  },
  {
   "cell_type": "code",
   "execution_count": 17,
   "metadata": {
    "pycharm": {
     "name": "#%%\n"
    },
    "ExecuteTime": {
     "end_time": "2024-04-17T10:12:07.394286Z",
     "start_time": "2024-04-17T10:12:07.121776Z"
    }
   },
   "outputs": [
    {
     "data": {
      "text/plain": "<AxesSubplot:xlabel='total_UPDRS'>"
     },
     "execution_count": 17,
     "metadata": {},
     "output_type": "execute_result"
    },
    {
     "data": {
      "text/plain": "<Figure size 432x288 with 1 Axes>",
      "image/png": "[encoded data removed]"
     },
     "metadata": {
      "needs_background": "light"
     },
     "output_type": "display_data"
    }
   ],
   "source": [
    "sns.distplot(dataset['total_UPDRS'], hist=True, kde=False,\n",
    "             bins=int(10), color = 'blue',\n",
    "             hist_kws={'edgecolor':'black'})"
   ]
  },
  {
   "cell_type": "code",
   "execution_count": 18,
   "metadata": {
    "pycharm": {
     "name": "#%%\n"
    },
    "ExecuteTime": {
     "end_time": "2024-04-17T10:12:08.411588Z",
     "start_time": "2024-04-17T10:12:08.376276Z"
    }
   },
   "outputs": [
    {
     "data": {
      "text/plain": "count    5875.000000\nmean       29.018942\nstd        10.700283\nmin         7.000000\n25%        21.371000\n50%        27.576000\n75%        36.399000\nmax        54.992000\nName: total_UPDRS, dtype: float64"
     },
     "execution_count": 18,
     "metadata": {},
     "output_type": "execute_result"
    }
   ],
   "source": [
    "dataset['total_UPDRS'].describe()"
   ]
  },
  {
   "cell_type": "code",
   "execution_count": 19,
   "metadata": {
    "pycharm": {
     "name": "#%%\n"
    },
    "ExecuteTime": {
     "end_time": "2024-04-17T10:12:13.408687Z",
     "start_time": "2024-04-17T10:12:12.788017Z"
    }
   },
   "outputs": [
    {
     "ename": "FileNotFoundError",
     "evalue": "[Errno 2] No such file or directory: '..datasets_figures/parkinson.pdf'",
     "output_type": "error",
     "traceback": [
      "\u001B[0;31m---------------------------------------------------------------------------\u001B[0m",
      "\u001B[0;31mFileNotFoundError\u001B[0m                         Traceback (most recent call last)",
      "Input \u001B[0;32mIn [19]\u001B[0m, in \u001B[0;36m<module>\u001B[0;34m\u001B[0m\n\u001B[1;32m      2\u001B[0m sns_plot \u001B[38;5;241m=\u001B[39m sns\u001B[38;5;241m.\u001B[39mdisplot(data\u001B[38;5;241m=\u001B[39mdataset, x \u001B[38;5;241m=\u001B[39m \u001B[38;5;124m'\u001B[39m\u001B[38;5;124mtotal_UPDRS\u001B[39m\u001B[38;5;124m'\u001B[39m, hue\u001B[38;5;241m=\u001B[39m\u001B[38;5;124m'\u001B[39m\u001B[38;5;124msex\u001B[39m\u001B[38;5;124m'\u001B[39m,\n\u001B[1;32m      3\u001B[0m             multiple \u001B[38;5;241m=\u001B[39m \u001B[38;5;124m'\u001B[39m\u001B[38;5;124mstack\u001B[39m\u001B[38;5;124m'\u001B[39m, palette\u001B[38;5;241m=\u001B[39m \u001B[38;5;124m'\u001B[39m\u001B[38;5;124mGreys\u001B[39m\u001B[38;5;124m'\u001B[39m, bins \u001B[38;5;241m=\u001B[39m \u001B[38;5;241m10\u001B[39m)\n\u001B[1;32m      4\u001B[0m sns\u001B[38;5;241m.\u001B[39mmove_legend(sns_plot, \u001B[38;5;124m\"\u001B[39m\u001B[38;5;124mupper right\u001B[39m\u001B[38;5;124m\"\u001B[39m, bbox_to_anchor\u001B[38;5;241m=\u001B[39m( \u001B[38;5;241m.8\u001B[39m, \u001B[38;5;241m1\u001B[39m))\n\u001B[0;32m----> 5\u001B[0m \u001B[43msns_plot\u001B[49m\u001B[38;5;241;43m.\u001B[39;49m\u001B[43mfigure\u001B[49m\u001B[38;5;241;43m.\u001B[39;49m\u001B[43msavefig\u001B[49m\u001B[43m(\u001B[49m\u001B[38;5;124;43m\"\u001B[39;49m\u001B[38;5;124;43m..datasets_figures/parkinson.pdf\u001B[39;49m\u001B[38;5;124;43m\"\u001B[39;49m\u001B[43m,\u001B[49m\u001B[43m \u001B[49m\u001B[43mbbox_inches\u001B[49m\u001B[38;5;241;43m=\u001B[39;49m\u001B[38;5;124;43m'\u001B[39;49m\u001B[38;5;124;43mtight\u001B[39;49m\u001B[38;5;124;43m'\u001B[39;49m\u001B[43m)\u001B[49m\n",
      "File \u001B[0;32m~/.virtualenvs/dfd/lib/python3.8/site-packages/matplotlib/figure.py:3015\u001B[0m, in \u001B[0;36mFigure.savefig\u001B[0;34m(self, fname, transparent, **kwargs)\u001B[0m\n\u001B[1;32m   3012\u001B[0m         patch\u001B[38;5;241m.\u001B[39mset_facecolor(\u001B[38;5;124m'\u001B[39m\u001B[38;5;124mnone\u001B[39m\u001B[38;5;124m'\u001B[39m)\n\u001B[1;32m   3013\u001B[0m         patch\u001B[38;5;241m.\u001B[39mset_edgecolor(\u001B[38;5;124m'\u001B[39m\u001B[38;5;124mnone\u001B[39m\u001B[38;5;124m'\u001B[39m)\n\u001B[0;32m-> 3015\u001B[0m \u001B[38;5;28;43mself\u001B[39;49m\u001B[38;5;241;43m.\u001B[39;49m\u001B[43mcanvas\u001B[49m\u001B[38;5;241;43m.\u001B[39;49m\u001B[43mprint_figure\u001B[49m\u001B[43m(\u001B[49m\u001B[43mfname\u001B[49m\u001B[43m,\u001B[49m\u001B[43m \u001B[49m\u001B[38;5;241;43m*\u001B[39;49m\u001B[38;5;241;43m*\u001B[39;49m\u001B[43mkwargs\u001B[49m\u001B[43m)\u001B[49m\n\u001B[1;32m   3017\u001B[0m \u001B[38;5;28;01mif\u001B[39;00m transparent:\n\u001B[1;32m   3018\u001B[0m     \u001B[38;5;28;01mfor\u001B[39;00m ax, cc \u001B[38;5;129;01min\u001B[39;00m \u001B[38;5;28mzip\u001B[39m(\u001B[38;5;28mself\u001B[39m\u001B[38;5;241m.\u001B[39maxes, original_axes_colors):\n",
      "File \u001B[0;32m~/.virtualenvs/dfd/lib/python3.8/site-packages/matplotlib/backend_bases.py:2255\u001B[0m, in \u001B[0;36mFigureCanvasBase.print_figure\u001B[0;34m(self, filename, dpi, facecolor, edgecolor, orientation, format, bbox_inches, pad_inches, bbox_extra_artists, backend, **kwargs)\u001B[0m\n\u001B[1;32m   2251\u001B[0m \u001B[38;5;28;01mtry\u001B[39;00m:\n\u001B[1;32m   2252\u001B[0m     \u001B[38;5;66;03m# _get_renderer may change the figure dpi (as vector formats\u001B[39;00m\n\u001B[1;32m   2253\u001B[0m     \u001B[38;5;66;03m# force the figure dpi to 72), so we need to set it again here.\u001B[39;00m\n\u001B[1;32m   2254\u001B[0m     \u001B[38;5;28;01mwith\u001B[39;00m cbook\u001B[38;5;241m.\u001B[39m_setattr_cm(\u001B[38;5;28mself\u001B[39m\u001B[38;5;241m.\u001B[39mfigure, dpi\u001B[38;5;241m=\u001B[39mdpi):\n\u001B[0;32m-> 2255\u001B[0m         result \u001B[38;5;241m=\u001B[39m \u001B[43mprint_method\u001B[49m\u001B[43m(\u001B[49m\n\u001B[1;32m   2256\u001B[0m \u001B[43m            \u001B[49m\u001B[43mfilename\u001B[49m\u001B[43m,\u001B[49m\n\u001B[1;32m   2257\u001B[0m \u001B[43m            \u001B[49m\u001B[43mfacecolor\u001B[49m\u001B[38;5;241;43m=\u001B[39;49m\u001B[43mfacecolor\u001B[49m\u001B[43m,\u001B[49m\n\u001B[1;32m   2258\u001B[0m \u001B[43m            \u001B[49m\u001B[43medgecolor\u001B[49m\u001B[38;5;241;43m=\u001B[39;49m\u001B[43medgecolor\u001B[49m\u001B[43m,\u001B[49m\n\u001B[1;32m   2259\u001B[0m \u001B[43m            \u001B[49m\u001B[43morientation\u001B[49m\u001B[38;5;241;43m=\u001B[39;49m\u001B[43morientation\u001B[49m\u001B[43m,\u001B[49m\n\u001B[1;32m   2260\u001B[0m \u001B[43m            \u001B[49m\u001B[43mbbox_inches_restore\u001B[49m\u001B[38;5;241;43m=\u001B[39;49m\u001B[43m_bbox_inches_restore\u001B[49m\u001B[43m,\u001B[49m\n\u001B[1;32m   2261\u001B[0m \u001B[43m            \u001B[49m\u001B[38;5;241;43m*\u001B[39;49m\u001B[38;5;241;43m*\u001B[39;49m\u001B[43mkwargs\u001B[49m\u001B[43m)\u001B[49m\n\u001B[1;32m   2262\u001B[0m \u001B[38;5;28;01mfinally\u001B[39;00m:\n\u001B[1;32m   2263\u001B[0m     \u001B[38;5;28;01mif\u001B[39;00m bbox_inches \u001B[38;5;129;01mand\u001B[39;00m restore_bbox:\n",
      "File \u001B[0;32m~/.virtualenvs/dfd/lib/python3.8/site-packages/matplotlib/backend_bases.py:1669\u001B[0m, in \u001B[0;36m_check_savefig_extra_args.<locals>.wrapper\u001B[0;34m(*args, **kwargs)\u001B[0m\n\u001B[1;32m   1661\u001B[0m     _api\u001B[38;5;241m.\u001B[39mwarn_deprecated(\n\u001B[1;32m   1662\u001B[0m         \u001B[38;5;124m'\u001B[39m\u001B[38;5;124m3.3\u001B[39m\u001B[38;5;124m'\u001B[39m, name\u001B[38;5;241m=\u001B[39mname,\n\u001B[1;32m   1663\u001B[0m         message\u001B[38;5;241m=\u001B[39m\u001B[38;5;124m'\u001B[39m\u001B[38;5;132;01m%(name)s\u001B[39;00m\u001B[38;5;124m() got unexpected keyword argument \u001B[39m\u001B[38;5;124m\"\u001B[39m\u001B[38;5;124m'\u001B[39m\n\u001B[1;32m   1664\u001B[0m                 \u001B[38;5;241m+\u001B[39m arg \u001B[38;5;241m+\u001B[39m \u001B[38;5;124m'\u001B[39m\u001B[38;5;124m\"\u001B[39m\u001B[38;5;124m which is no longer supported as of \u001B[39m\u001B[38;5;124m'\u001B[39m\n\u001B[1;32m   1665\u001B[0m                 \u001B[38;5;124m'\u001B[39m\u001B[38;5;132;01m%(since)s\u001B[39;00m\u001B[38;5;124m and will become an error \u001B[39m\u001B[38;5;124m'\u001B[39m\n\u001B[1;32m   1666\u001B[0m                 \u001B[38;5;124m'\u001B[39m\u001B[38;5;132;01m%(removal)s\u001B[39;00m\u001B[38;5;124m'\u001B[39m)\n\u001B[1;32m   1667\u001B[0m     kwargs\u001B[38;5;241m.\u001B[39mpop(arg)\n\u001B[0;32m-> 1669\u001B[0m \u001B[38;5;28;01mreturn\u001B[39;00m \u001B[43mfunc\u001B[49m\u001B[43m(\u001B[49m\u001B[38;5;241;43m*\u001B[39;49m\u001B[43margs\u001B[49m\u001B[43m,\u001B[49m\u001B[43m \u001B[49m\u001B[38;5;241;43m*\u001B[39;49m\u001B[38;5;241;43m*\u001B[39;49m\u001B[43mkwargs\u001B[49m\u001B[43m)\u001B[49m\n",
      "File \u001B[0;32m~/.virtualenvs/dfd/lib/python3.8/site-packages/matplotlib/_api/deprecation.py:431\u001B[0m, in \u001B[0;36mdelete_parameter.<locals>.wrapper\u001B[0;34m(*inner_args, **inner_kwargs)\u001B[0m\n\u001B[1;32m    421\u001B[0m     deprecation_addendum \u001B[38;5;241m=\u001B[39m (\n\u001B[1;32m    422\u001B[0m         \u001B[38;5;124mf\u001B[39m\u001B[38;5;124m\"\u001B[39m\u001B[38;5;124mIf any parameter follows \u001B[39m\u001B[38;5;132;01m{\u001B[39;00mname\u001B[38;5;132;01m!r}\u001B[39;00m\u001B[38;5;124m, they should be passed as \u001B[39m\u001B[38;5;124m\"\u001B[39m\n\u001B[1;32m    423\u001B[0m         \u001B[38;5;124mf\u001B[39m\u001B[38;5;124m\"\u001B[39m\u001B[38;5;124mkeyword, not positionally.\u001B[39m\u001B[38;5;124m\"\u001B[39m)\n\u001B[1;32m    424\u001B[0m     warn_deprecated(\n\u001B[1;32m    425\u001B[0m         since,\n\u001B[1;32m    426\u001B[0m         name\u001B[38;5;241m=\u001B[39m\u001B[38;5;28mrepr\u001B[39m(name),\n\u001B[0;32m   (...)\u001B[0m\n\u001B[1;32m    429\u001B[0m                  \u001B[38;5;28;01melse\u001B[39;00m deprecation_addendum,\n\u001B[1;32m    430\u001B[0m         \u001B[38;5;241m*\u001B[39m\u001B[38;5;241m*\u001B[39mkwargs)\n\u001B[0;32m--> 431\u001B[0m \u001B[38;5;28;01mreturn\u001B[39;00m \u001B[43mfunc\u001B[49m\u001B[43m(\u001B[49m\u001B[38;5;241;43m*\u001B[39;49m\u001B[43minner_args\u001B[49m\u001B[43m,\u001B[49m\u001B[43m \u001B[49m\u001B[38;5;241;43m*\u001B[39;49m\u001B[38;5;241;43m*\u001B[39;49m\u001B[43minner_kwargs\u001B[49m\u001B[43m)\u001B[49m\n",
      "File \u001B[0;32m~/.virtualenvs/dfd/lib/python3.8/site-packages/matplotlib/backends/backend_pdf.py:2718\u001B[0m, in \u001B[0;36mFigureCanvasPdf.print_pdf\u001B[0;34m(self, filename, dpi, bbox_inches_restore, metadata)\u001B[0m\n\u001B[1;32m   2716\u001B[0m     file \u001B[38;5;241m=\u001B[39m filename\u001B[38;5;241m.\u001B[39m_file\n\u001B[1;32m   2717\u001B[0m \u001B[38;5;28;01melse\u001B[39;00m:\n\u001B[0;32m-> 2718\u001B[0m     file \u001B[38;5;241m=\u001B[39m \u001B[43mPdfFile\u001B[49m\u001B[43m(\u001B[49m\u001B[43mfilename\u001B[49m\u001B[43m,\u001B[49m\u001B[43m \u001B[49m\u001B[43mmetadata\u001B[49m\u001B[38;5;241;43m=\u001B[39;49m\u001B[43mmetadata\u001B[49m\u001B[43m)\u001B[49m\n\u001B[1;32m   2719\u001B[0m \u001B[38;5;28;01mtry\u001B[39;00m:\n\u001B[1;32m   2720\u001B[0m     file\u001B[38;5;241m.\u001B[39mnewPage(width, height)\n",
      "File \u001B[0;32m~/.virtualenvs/dfd/lib/python3.8/site-packages/matplotlib/backends/backend_pdf.py:637\u001B[0m, in \u001B[0;36mPdfFile.__init__\u001B[0;34m(self, filename, metadata)\u001B[0m\n\u001B[1;32m    635\u001B[0m \u001B[38;5;28mself\u001B[39m\u001B[38;5;241m.\u001B[39moriginal_file_like \u001B[38;5;241m=\u001B[39m \u001B[38;5;28;01mNone\u001B[39;00m\n\u001B[1;32m    636\u001B[0m \u001B[38;5;28mself\u001B[39m\u001B[38;5;241m.\u001B[39mtell_base \u001B[38;5;241m=\u001B[39m \u001B[38;5;241m0\u001B[39m\n\u001B[0;32m--> 637\u001B[0m fh, opened \u001B[38;5;241m=\u001B[39m \u001B[43mcbook\u001B[49m\u001B[38;5;241;43m.\u001B[39;49m\u001B[43mto_filehandle\u001B[49m\u001B[43m(\u001B[49m\u001B[43mfilename\u001B[49m\u001B[43m,\u001B[49m\u001B[43m \u001B[49m\u001B[38;5;124;43m\"\u001B[39;49m\u001B[38;5;124;43mwb\u001B[39;49m\u001B[38;5;124;43m\"\u001B[39;49m\u001B[43m,\u001B[49m\u001B[43m \u001B[49m\u001B[43mreturn_opened\u001B[49m\u001B[38;5;241;43m=\u001B[39;49m\u001B[38;5;28;43;01mTrue\u001B[39;49;00m\u001B[43m)\u001B[49m\n\u001B[1;32m    638\u001B[0m \u001B[38;5;28;01mif\u001B[39;00m \u001B[38;5;129;01mnot\u001B[39;00m opened:\n\u001B[1;32m    639\u001B[0m     \u001B[38;5;28;01mtry\u001B[39;00m:\n",
      "File \u001B[0;32m~/.virtualenvs/dfd/lib/python3.8/site-packages/matplotlib/cbook/__init__.py:462\u001B[0m, in \u001B[0;36mto_filehandle\u001B[0;34m(fname, flag, return_opened, encoding)\u001B[0m\n\u001B[1;32m    460\u001B[0m         fh \u001B[38;5;241m=\u001B[39m bz2\u001B[38;5;241m.\u001B[39mBZ2File(fname, flag)\n\u001B[1;32m    461\u001B[0m     \u001B[38;5;28;01melse\u001B[39;00m:\n\u001B[0;32m--> 462\u001B[0m         fh \u001B[38;5;241m=\u001B[39m \u001B[38;5;28;43mopen\u001B[39;49m\u001B[43m(\u001B[49m\u001B[43mfname\u001B[49m\u001B[43m,\u001B[49m\u001B[43m \u001B[49m\u001B[43mflag\u001B[49m\u001B[43m,\u001B[49m\u001B[43m \u001B[49m\u001B[43mencoding\u001B[49m\u001B[38;5;241;43m=\u001B[39;49m\u001B[43mencoding\u001B[49m\u001B[43m)\u001B[49m\n\u001B[1;32m    463\u001B[0m     opened \u001B[38;5;241m=\u001B[39m \u001B[38;5;28;01mTrue\u001B[39;00m\n\u001B[1;32m    464\u001B[0m \u001B[38;5;28;01melif\u001B[39;00m \u001B[38;5;28mhasattr\u001B[39m(fname, \u001B[38;5;124m'\u001B[39m\u001B[38;5;124mseek\u001B[39m\u001B[38;5;124m'\u001B[39m):\n",
      "\u001B[0;31mFileNotFoundError\u001B[0m: [Errno 2] No such file or directory: '..datasets_figures/parkinson.pdf'"
     ]
    },
    {
     "data": {
      "text/plain": "<Figure size 429.375x360 with 1 Axes>",
      "image/png": "[encoded data removed]"
     },
     "metadata": {
      "needs_background": "light"
     },
     "output_type": "display_data"
    }
   ],
   "source": [
    "dataset['sex'] = dataset['sex'].apply(lambda x: 'Male' if x == 1 else 'Female')\n",
    "sns_plot = sns.displot(data=dataset, x = 'total_UPDRS', hue='sex',\n",
    "            multiple = 'stack', palette= 'Greys', bins = 10)\n",
    "sns.move_legend(sns_plot, \"upper right\", bbox_to_anchor=( .8, 1))\n",
    "sns_plot.figure.savefig(\"..datasets_figures/parkinson.pdf\", bbox_inches='tight')"
   ]
  },
  {
   "cell_type": "code",
   "execution_count": null,
   "metadata": {
    "pycharm": {
     "name": "#%%\n"
    }
   },
   "outputs": [],
   "source": [
    "dataset['sex'].describe()"
   ]
  },
  {
   "cell_type": "code",
   "execution_count": null,
   "metadata": {
    "pycharm": {
     "name": "#%%\n"
    }
   },
   "outputs": [],
   "source": [
    "df = pd.DataFrame(dataset['sex'].groupby(dataset['sex']).count())\n",
    "df.rename(columns={'sex': 'num_values'}, inplace=True)\n",
    "df.reset_index(inplace=True)\n",
    "df['percent'] = 100 * df['num_values']/df['num_values'].sum()\n",
    "df"
   ]
  },
  {
   "cell_type": "code",
   "execution_count": null,
   "metadata": {
    "pycharm": {
     "name": "#%%\n"
    }
   },
   "outputs": [],
   "source": [
    "df = pd.DataFrame(dataset.groupby(['sex', 'total_UPDRS_binary']).count())\n",
    "df.rename(columns={'sex': 'num_values'}, inplace=True)\n",
    "df.reset_index(inplace=True)\n",
    "df = df [['sex', 'total_UPDRS_binary', 'age']]\n",
    "df['percent'] = 100 * df['age']/df['age'].sum()\n",
    "df"
   ]
  },
  {
   "cell_type": "code",
   "execution_count": null,
   "metadata": {
    "pycharm": {
     "name": "#%%\n"
    }
   },
   "outputs": [],
   "source": [
    "explanatory_variables = ['age', 'sex', 'Jitter(%)', 'Jitter(Abs)', 'Jitter:RAP',\n",
    "                                       'Jitter:PPQ5', 'Jitter:DDP', 'Shimmer', 'Shimmer(dB)', 'Shimmer:APQ3',\n",
    "                                       'Shimmer:APQ5', 'Shimmer:APQ11', 'Shimmer:DDA', 'NHR', 'HNR', 'RPDE',\n",
    "                                       'DFA', 'PPE']\n",
    "dataset[explanatory_variables].shape\n"
   ]
  },
  {
   "cell_type": "markdown",
   "metadata": {},
   "source": [
    "singles"
   ]
  },
  {
   "cell_type": "code",
   "execution_count": null,
   "metadata": {
    "pycharm": {
     "name": "#%%\n"
    }
   },
   "outputs": [],
   "source": [
    "columns = ['income', 'sex', 'marital', 'age', 'educ', 'occup', 'resid', 'dualInc', 'perInHou',\n",
    "                   'under18', 'homeStatus', 'homeType', 'ethnic', 'language']\n",
    "df_s = pd.read_csv(\"..datasets/singlesincome/data.csv\", sep=',', names=columns)\n",
    "\n",
    "# Keep only the singles\n",
    "dataset = df_s.loc[df_s.marital == 5]\n",
    "dataset.drop(['marital'], axis=1, inplace=True)\n",
    "\n",
    "# Change codification for sex:\n",
    "gender = (df_s['sex'] == 1).astype(float) # Male = 1\n",
    "dataset.drop(['sex'], axis=1, inplace=True)\n",
    "dataset['sex'] = gender\n",
    "\n",
    "# Remove nan values\n",
    "dataset.dropna(inplace=True)\n",
    "\n",
    "# annual income\n",
    "# 1.Less than $10, 000\n",
    "# 2. $10, 000to $14, 999\n",
    "# 3. $15, 000to $19, 999\n",
    "# 4. $20, 000to $24, 999\n",
    "# 5. $25, 000to $29, 999\n",
    "# 6. $30, 000to $39, 999\n",
    "# 7. $40, 000 to $49, 999\n",
    "# 8. $50, 000 to $74, 999\n",
    "# 9. $75, 000 or more\n",
    "# computing the binary outcome\n",
    "dataset['income_binary'] = dataset['income'] > 4\n",
    "dataset['income_binary'] = dataset['income_binary'].astype(int)\n",
    "\n",
    "dataset.reset_index(drop=True, inplace=True)\n",
    "\n",
    "dataset.head(10)"
   ]
  },
  {
   "cell_type": "code",
   "execution_count": null,
   "metadata": {
    "pycharm": {
     "name": "#%%\n"
    }
   },
   "outputs": [],
   "source": [
    "dataset['income'].groupby(dataset.income).count()"
   ]
  },
  {
   "cell_type": "code",
   "execution_count": null,
   "metadata": {
    "pycharm": {
     "name": "#%%\n"
    }
   },
   "outputs": [],
   "source": [
    "visual_p = dataset.groupby(['sex','income'])['income'].count()\n",
    "visual_p_df = pd.DataFrame(visual_p)\n",
    "visual_p_df.rename({\"income\": \"examples\"}, inplace=True, axis=1)\n",
    "visual_p_df.reset_index(inplace=True)\n",
    "visual_p_df['race'] = visual_p_df['sex'].apply(lambda x: 'Male' if x == 1 else 'Female')\n",
    "visual_p_df\n",
    "sns_plot = sns.catplot(x = \"income\",       # x variable name\n",
    "            y = \"examples\",       # y variable name\n",
    "            hue = \"sex\",  # group variable name\n",
    "            data = visual_p_df,     # dataframe to plot\n",
    "            kind = \"bar\",\n",
    "            palette= 'Greys',\n",
    "            legend=True)\n",
    "sns.move_legend(sns_plot, \"upper center\", bbox_to_anchor=( .6, 1), )\n",
    "sns_plot.figure.savefig(\"..datasets_figures/singles.pdf\", bbox_inches='tight')"
   ]
  },
  {
   "cell_type": "code",
   "execution_count": null,
   "metadata": {
    "pycharm": {
     "name": "#%%\n"
    }
   },
   "outputs": [],
   "source": [
    "df = pd.DataFrame(dataset['sex'].groupby(dataset['sex']).count())\n",
    "df.rename(columns={'sex': 'num_values'}, inplace=True)\n",
    "df.reset_index(inplace=True)\n",
    "df['sex'] = df['sex'].apply(lambda x: 'Male' if x == 1 else 'Female')\n",
    "df['percent'] = 100 * df['num_values']/df['num_values'].sum()\n",
    "df"
   ]
  },
  {
   "cell_type": "code",
   "execution_count": null,
   "metadata": {
    "pycharm": {
     "name": "#%%\n"
    }
   },
   "outputs": [],
   "source": [
    "df = pd.DataFrame(dataset.groupby(['sex', 'income_binary']).count())\n",
    "df.rename(columns={'sex': 'num_values'}, inplace=True)\n",
    "df.reset_index(inplace=True)\n",
    "df = df [['sex', 'income_binary', 'age']]\n",
    "df['percent'] = 100 * df['age']/df['age'].sum()\n",
    "df"
   ]
  },
  {
   "cell_type": "code",
   "execution_count": null,
   "metadata": {
    "pycharm": {
     "name": "#%%\n"
    }
   },
   "outputs": [],
   "source": [
    "dataset.isna().sum()"
   ]
  },
  {
   "cell_type": "code",
   "execution_count": null,
   "metadata": {
    "pycharm": {
     "name": "#%%\n"
    }
   },
   "outputs": [],
   "source": [
    "explanatory_variables = ['sex', 'age', 'educ', 'occup', 'resid', 'dualInc', 'perInHou',\n",
    "                         'under18', 'homeStatus', 'homeType', 'ethnic', 'language']\n",
    "dataset[explanatory_variables].shape\n"
   ]
  },
  {
   "cell_type": "markdown",
   "metadata": {},
   "source": [
    "Student"
   ]
  },
  {
   "cell_type": "code",
   "execution_count": 32,
   "metadata": {
    "pycharm": {
     "name": "#%%\n"
    },
    "ExecuteTime": {
     "end_time": "2024-04-17T10:19:02.902996Z",
     "start_time": "2024-04-17T10:19:02.833198Z"
    }
   },
   "outputs": [
    {
     "data": {
      "text/plain": "   age  Medu  Fedu  traveltime  studytime  failures  famrel  freetime  goout  \\\n0   18     4     4           2          2         0       4         3      4   \n1   17     1     1           1          2         0       5         3      3   \n2   15     1     1           1          2         0       4         3      2   \n3   15     4     2           1          3         0       3         2      2   \n4   16     3     3           1          2         0       4         3      2   \n5   16     4     3           1          2         0       5         4      2   \n6   16     2     2           1          2         0       4         4      4   \n7   17     4     4           2          2         0       4         1      4   \n8   15     3     2           1          2         0       4         2      2   \n9   15     3     4           1          2         0       5         5      1   \n\n   Dalc  ...  guardian_other  schoolsup  famsup  paid  activities  nursery  \\\n0     1  ...             0.0        1.0     0.0   0.0         0.0      1.0   \n1     1  ...             0.0        0.0     1.0   0.0         0.0      0.0   \n2     2  ...             0.0        1.0     0.0   0.0         0.0      1.0   \n3     1  ...             0.0        0.0     1.0   0.0         1.0      1.0   \n4     1  ...             0.0        0.0     1.0   0.0         0.0      1.0   \n5     1  ...             0.0        0.0     1.0   0.0         1.0      1.0   \n6     1  ...             0.0        0.0     0.0   0.0         0.0      1.0   \n7     1  ...             0.0        1.0     1.0   0.0         0.0      1.0   \n8     1  ...             0.0        0.0     1.0   0.0         0.0      1.0   \n9     1  ...             0.0        0.0     1.0   0.0         1.0      1.0   \n\n   higher  internet  romantic  G3_binary  \n0     1.0       0.0       0.0          0  \n1     1.0       1.0       0.0          0  \n2     1.0       1.0       0.0          1  \n3     1.0       1.0       1.0          1  \n4     1.0       0.0       0.0          1  \n5     1.0       1.0       0.0          1  \n6     1.0       1.0       0.0          1  \n7     1.0       0.0       0.0          1  \n8     1.0       1.0       0.0          1  \n9     1.0       1.0       0.0          1  \n\n[10 rows x 40 columns]",
      "text/html": "<div>\n<style scoped>\n    .dataframe tbody tr th:only-of-type {\n        vertical-align: middle;\n    }\n\n    .dataframe tbody tr th {\n        vertical-align: top;\n    }\n\n    .dataframe thead th {\n        text-align: right;\n    }\n</style>\n<table border=\"1\" class=\"dataframe\">\n  <thead>\n    <tr style=\"text-align: right;\">\n      <th></th>\n      <th>age</th>\n      <th>Medu</th>\n      <th>Fedu</th>\n      <th>traveltime</th>\n      <th>studytime</th>\n      <th>failures</th>\n      <th>famrel</th>\n      <th>freetime</th>\n      <th>goout</th>\n      <th>Dalc</th>\n      <th>...</th>\n      <th>guardian_other</th>\n      <th>schoolsup</th>\n      <th>famsup</th>\n      <th>paid</th>\n      <th>activities</th>\n      <th>nursery</th>\n      <th>higher</th>\n      <th>internet</th>\n      <th>romantic</th>\n      <th>G3_binary</th>\n    </tr>\n  </thead>\n  <tbody>\n    <tr>\n      <th>0</th>\n      <td>18</td>\n      <td>4</td>\n      <td>4</td>\n      <td>2</td>\n      <td>2</td>\n      <td>0</td>\n      <td>4</td>\n      <td>3</td>\n      <td>4</td>\n      <td>1</td>\n      <td>...</td>\n      <td>0.0</td>\n      <td>1.0</td>\n      <td>0.0</td>\n      <td>0.0</td>\n      <td>0.0</td>\n      <td>1.0</td>\n      <td>1.0</td>\n      <td>0.0</td>\n      <td>0.0</td>\n      <td>0</td>\n    </tr>\n    <tr>\n      <th>1</th>\n      <td>17</td>\n      <td>1</td>\n      <td>1</td>\n      <td>1</td>\n      <td>2</td>\n      <td>0</td>\n      <td>5</td>\n      <td>3</td>\n      <td>3</td>\n      <td>1</td>\n      <td>...</td>\n      <td>0.0</td>\n      <td>0.0</td>\n      <td>1.0</td>\n      <td>0.0</td>\n      <td>0.0</td>\n      <td>0.0</td>\n      <td>1.0</td>\n      <td>1.0</td>\n      <td>0.0</td>\n      <td>0</td>\n    </tr>\n    <tr>\n      <th>2</th>\n      <td>15</td>\n      <td>1</td>\n      <td>1</td>\n      <td>1</td>\n      <td>2</td>\n      <td>0</td>\n      <td>4</td>\n      <td>3</td>\n      <td>2</td>\n      <td>2</td>\n      <td>...</td>\n      <td>0.0</td>\n      <td>1.0</td>\n      <td>0.0</td>\n      <td>0.0</td>\n      <td>0.0</td>\n      <td>1.0</td>\n      <td>1.0</td>\n      <td>1.0</td>\n      <td>0.0</td>\n      <td>1</td>\n    </tr>\n    <tr>\n      <th>3</th>\n      <td>15</td>\n      <td>4</td>\n      <td>2</td>\n      <td>1</td>\n      <td>3</td>\n      <td>0</td>\n      <td>3</td>\n      <td>2</td>\n      <td>2</td>\n      <td>1</td>\n      <td>...</td>\n      <td>0.0</td>\n      <td>0.0</td>\n      <td>1.0</td>\n      <td>0.0</td>\n      <td>1.0</td>\n      <td>1.0</td>\n      <td>1.0</td>\n      <td>1.0</td>\n      <td>1.0</td>\n      <td>1</td>\n    </tr>\n    <tr>\n      <th>4</th>\n      <td>16</td>\n      <td>3</td>\n      <td>3</td>\n      <td>1</td>\n      <td>2</td>\n      <td>0</td>\n      <td>4</td>\n      <td>3</td>\n      <td>2</td>\n      <td>1</td>\n      <td>...</td>\n      <td>0.0</td>\n      <td>0.0</td>\n      <td>1.0</td>\n      <td>0.0</td>\n      <td>0.0</td>\n      <td>1.0</td>\n      <td>1.0</td>\n      <td>0.0</td>\n      <td>0.0</td>\n      <td>1</td>\n    </tr>\n    <tr>\n      <th>5</th>\n      <td>16</td>\n      <td>4</td>\n      <td>3</td>\n      <td>1</td>\n      <td>2</td>\n      <td>0</td>\n      <td>5</td>\n      <td>4</td>\n      <td>2</td>\n      <td>1</td>\n      <td>...</td>\n      <td>0.0</td>\n      <td>0.0</td>\n      <td>1.0</td>\n      <td>0.0</td>\n      <td>1.0</td>\n      <td>1.0</td>\n      <td>1.0</td>\n      <td>1.0</td>\n      <td>0.0</td>\n      <td>1</td>\n    </tr>\n    <tr>\n      <th>6</th>\n      <td>16</td>\n      <td>2</td>\n      <td>2</td>\n      <td>1</td>\n      <td>2</td>\n      <td>0</td>\n      <td>4</td>\n      <td>4</td>\n      <td>4</td>\n      <td>1</td>\n      <td>...</td>\n      <td>0.0</td>\n      <td>0.0</td>\n      <td>0.0</td>\n      <td>0.0</td>\n      <td>0.0</td>\n      <td>1.0</td>\n      <td>1.0</td>\n      <td>1.0</td>\n      <td>0.0</td>\n      <td>1</td>\n    </tr>\n    <tr>\n      <th>7</th>\n      <td>17</td>\n      <td>4</td>\n      <td>4</td>\n      <td>2</td>\n      <td>2</td>\n      <td>0</td>\n      <td>4</td>\n      <td>1</td>\n      <td>4</td>\n      <td>1</td>\n      <td>...</td>\n      <td>0.0</td>\n      <td>1.0</td>\n      <td>1.0</td>\n      <td>0.0</td>\n      <td>0.0</td>\n      <td>1.0</td>\n      <td>1.0</td>\n      <td>0.0</td>\n      <td>0.0</td>\n      <td>1</td>\n    </tr>\n    <tr>\n      <th>8</th>\n      <td>15</td>\n      <td>3</td>\n      <td>2</td>\n      <td>1</td>\n      <td>2</td>\n      <td>0</td>\n      <td>4</td>\n      <td>2</td>\n      <td>2</td>\n      <td>1</td>\n      <td>...</td>\n      <td>0.0</td>\n      <td>0.0</td>\n      <td>1.0</td>\n      <td>0.0</td>\n      <td>0.0</td>\n      <td>1.0</td>\n      <td>1.0</td>\n      <td>1.0</td>\n      <td>0.0</td>\n      <td>1</td>\n    </tr>\n    <tr>\n      <th>9</th>\n      <td>15</td>\n      <td>3</td>\n      <td>4</td>\n      <td>1</td>\n      <td>2</td>\n      <td>0</td>\n      <td>5</td>\n      <td>5</td>\n      <td>1</td>\n      <td>1</td>\n      <td>...</td>\n      <td>0.0</td>\n      <td>0.0</td>\n      <td>1.0</td>\n      <td>0.0</td>\n      <td>1.0</td>\n      <td>1.0</td>\n      <td>1.0</td>\n      <td>1.0</td>\n      <td>0.0</td>\n      <td>1</td>\n    </tr>\n  </tbody>\n</table>\n<p>10 rows × 40 columns</p>\n</div>"
     },
     "execution_count": 32,
     "metadata": {},
     "output_type": "execute_result"
    }
   ],
   "source": [
    "df = pd.read_csv(\"../datasets/student/student-por.csv\", sep=';')\n",
    "\n",
    "drop_col = ['school', 'G1', 'G2']\n",
    "df.drop(drop_col, axis=1, inplace=True)\n",
    "\n",
    "numeric_columns = [\"age\", \"Medu\", \"Fedu\", \"traveltime\", \"studytime\", \"failures\", \"famrel\", \"freetime\", \"goout\",\n",
    "                   \"Dalc\", \"Walc\", \"health\", \"absences\", \"G3\"]\n",
    "categorical_columns = [\"sex\", \"address\", \"famsize\", \"Pstatus\", \"Mjob\", \"Fjob\", \"reason\", \"guardian\",\n",
    "                       \"schoolsup\", \"famsup\", \"paid\", \"activities\", \"nursery\", \"higher\", \"internet\", \"romantic\"]\n",
    "\n",
    "cat_encoder = OneHotEncoder(sparse=False, drop='first')\n",
    "cat_data = cat_encoder.fit_transform(df[categorical_columns])\n",
    "catnewcols = np.concatenate(\n",
    "    [[cat] if len(item) == 2 else [cat + '_' + cn for cn in item[1:]] for cat, item in\n",
    "     zip(categorical_columns, cat_encoder.categories_)]).tolist()\n",
    "\n",
    "cat_df = pd.DataFrame(cat_data, columns=catnewcols)\n",
    "\n",
    "dataset = pd.concat([df[numeric_columns], cat_df], axis=1)\n",
    "\n",
    "# computing the binary outcome\n",
    "dataset['G3_binary'] = dataset['G3'] >= 12\n",
    "dataset['G3_binary'] = dataset['G3_binary'].astype(int)\n",
    "\n",
    "dataset.reset_index(drop=True, inplace=True)\n",
    "dataset.head(10)\n"
   ]
  },
  {
   "cell_type": "code",
   "execution_count": 33,
   "metadata": {
    "pycharm": {
     "name": "#%%\n"
    },
    "ExecuteTime": {
     "end_time": "2024-04-17T10:19:04.265429Z",
     "start_time": "2024-04-17T10:19:04.143992Z"
    }
   },
   "outputs": [
    {
     "data": {
      "text/plain": "age                  0\nMedu                 0\nFedu                 0\ntraveltime           0\nstudytime            0\nfailures             0\nfamrel               0\nfreetime             0\ngoout                0\nDalc                 0\nWalc                 0\nhealth               0\nabsences             0\nG3                   0\nsex                  0\naddress              0\nfamsize              0\nPstatus              0\nMjob_health          0\nMjob_other           0\nMjob_services        0\nMjob_teacher         0\nFjob_health          0\nFjob_other           0\nFjob_services        0\nFjob_teacher         0\nreason_home          0\nreason_other         0\nreason_reputation    0\nguardian_mother      0\nguardian_other       0\nschoolsup            0\nfamsup               0\npaid                 0\nactivities           0\nnursery              0\nhigher               0\ninternet             0\nromantic             0\nG3_binary            0\ndtype: int64"
     },
     "execution_count": 33,
     "metadata": {},
     "output_type": "execute_result"
    }
   ],
   "source": [
    "dataset.isna().sum()"
   ]
  },
  {
   "cell_type": "code",
   "execution_count": 34,
   "metadata": {
    "pycharm": {
     "name": "#%%\n"
    },
    "ExecuteTime": {
     "end_time": "2024-04-17T10:19:06.176408Z",
     "start_time": "2024-04-17T10:19:05.808016Z"
    }
   },
   "outputs": [
    {
     "data": {
      "text/plain": "<AxesSubplot:xlabel='G3'>"
     },
     "execution_count": 34,
     "metadata": {},
     "output_type": "execute_result"
    },
    {
     "data": {
      "text/plain": "<Figure size 432x288 with 1 Axes>",
      "image/png": "[encoded data removed]"
     },
     "metadata": {
      "needs_background": "light"
     },
     "output_type": "display_data"
    }
   ],
   "source": [
    "sns.distplot(dataset['G3'], hist=True, kde=False,\n",
    "             bins=int(10), color = 'blue',\n",
    "             hist_kws={'edgecolor':'black'})\n"
   ]
  },
  {
   "cell_type": "code",
   "execution_count": null,
   "metadata": {
    "pycharm": {
     "name": "#%%\n"
    }
   },
   "outputs": [],
   "source": [
    "dataset['sex'] = dataset['sex'].apply(lambda x: 'Male' if x == 1 else 'Female')\n",
    "sns_plot = sns.displot(data=dataset, x = 'G3', hue='sex',\n",
    "            multiple = 'stack', palette= 'Greys', bins = 10)\n",
    "sns.move_legend(sns_plot, \"upper right\", bbox_to_anchor=( .8, 1))\n",
    "sns_plot.figure.savefig(\"..datasets_figures/student.pdf\", bbox_inches='tight')"
   ]
  },
  {
   "cell_type": "code",
   "execution_count": 35,
   "metadata": {
    "pycharm": {
     "name": "#%%\n"
    },
    "ExecuteTime": {
     "end_time": "2024-04-17T10:19:18.643700Z",
     "start_time": "2024-04-17T10:19:18.594398Z"
    }
   },
   "outputs": [
    {
     "data": {
      "text/plain": "count    649.000000\nmean       0.409861\nstd        0.492187\nmin        0.000000\n25%        0.000000\n50%        0.000000\n75%        1.000000\nmax        1.000000\nName: sex, dtype: float64"
     },
     "execution_count": 35,
     "metadata": {},
     "output_type": "execute_result"
    }
   ],
   "source": [
    "dataset['sex'].describe()"
   ]
  },
  {
   "cell_type": "code",
   "execution_count": 36,
   "outputs": [
    {
     "data": {
      "text/plain": "count    649.000000\nmean      11.906009\nstd        3.230656\nmin        0.000000\n25%       10.000000\n50%       12.000000\n75%       14.000000\nmax       19.000000\nName: G3, dtype: float64"
     },
     "execution_count": 36,
     "metadata": {},
     "output_type": "execute_result"
    }
   ],
   "source": [
    "dataset['G3'].describe()"
   ],
   "metadata": {
    "collapsed": false,
    "ExecuteTime": {
     "end_time": "2024-04-17T10:19:49.829925Z",
     "start_time": "2024-04-17T10:19:49.786410Z"
    }
   }
  },
  {
   "cell_type": "code",
   "execution_count": null,
   "metadata": {
    "pycharm": {
     "name": "#%%\n"
    }
   },
   "outputs": [],
   "source": [
    "df = pd.DataFrame(dataset['sex'].groupby(dataset['sex']).count())\n",
    "df.rename(columns={'sex': 'num_values'}, inplace=True)\n",
    "df.reset_index(inplace=True)\n",
    "df['percent'] = 100 * df['num_values']/df['num_values'].sum()\n",
    "df"
   ]
  },
  {
   "cell_type": "code",
   "execution_count": null,
   "metadata": {
    "pycharm": {
     "name": "#%%\n"
    }
   },
   "outputs": [],
   "source": [
    "df = pd.DataFrame(dataset.groupby(['sex', 'G3_binary']).count())\n",
    "df.rename(columns={'sex': 'num_values'}, inplace=True)\n",
    "df.reset_index(inplace=True)\n",
    "df = df [['sex', 'G3_binary', 'age']]\n",
    "df['percent'] = 100 * df['age']/df['age'].sum()\n",
    "df"
   ]
  },
  {
   "cell_type": "code",
   "execution_count": null,
   "metadata": {
    "pycharm": {
     "name": "#%%\n"
    }
   },
   "outputs": [],
   "source": [
    "explanatory_variables = ['age', 'Medu', 'Fedu', 'traveltime', 'studytime', 'failures', 'famrel',\n",
    "                                       'freetime', 'goout', 'Dalc', 'Walc', 'health', 'absences', 'sex',\n",
    "                                       'address', 'famsize', 'Pstatus', 'Mjob_health', 'Mjob_other',\n",
    "                                       'Mjob_services', 'Mjob_teacher', 'Fjob_health', 'Fjob_other',\n",
    "                                       'Fjob_services', 'Fjob_teacher', 'reason_home', 'reason_other',\n",
    "                                       'reason_reputation', 'guardian_mother', 'guardian_other', 'schoolsup',\n",
    "                                       'famsup', 'paid', 'activities', 'nursery', 'higher', 'internet',\n",
    "                                       'romantic']\n",
    "dataset[explanatory_variables].shape"
   ]
  },
  {
   "cell_type": "markdown",
   "metadata": {},
   "source": [
    "Wine"
   ]
  },
  {
   "cell_type": "code",
   "execution_count": 3,
   "metadata": {
    "pycharm": {
     "name": "#%%\n"
    }
   },
   "outputs": [
    {
     "data": {
      "text/html": [
       "<div>\n",
       "<style scoped>\n",
       "    .dataframe tbody tr th:only-of-type {\n",
       "        vertical-align: middle;\n",
       "    }\n",
       "\n",
       "    .dataframe tbody tr th {\n",
       "        vertical-align: top;\n",
       "    }\n",
       "\n",
       "    .dataframe thead th {\n",
       "        text-align: right;\n",
       "    }\n",
       "</style>\n",
       "<table border=\"1\" class=\"dataframe\">\n",
       "  <thead>\n",
       "    <tr style=\"text-align: right;\">\n",
       "      <th></th>\n",
       "      <th>fixed acidity</th>\n",
       "      <th>volatile acidity</th>\n",
       "      <th>citric acid</th>\n",
       "      <th>residual sugar</th>\n",
       "      <th>chlorides</th>\n",
       "      <th>free sulfur dioxide</th>\n",
       "      <th>total sulfur dioxide</th>\n",
       "      <th>density</th>\n",
       "      <th>pH</th>\n",
       "      <th>sulphates</th>\n",
       "      <th>alcohol</th>\n",
       "      <th>quality</th>\n",
       "      <th>color</th>\n",
       "      <th>quality_binary</th>\n",
       "    </tr>\n",
       "  </thead>\n",
       "  <tbody>\n",
       "    <tr>\n",
       "      <th>0</th>\n",
       "      <td>7.4</td>\n",
       "      <td>0.70</td>\n",
       "      <td>0.00</td>\n",
       "      <td>1.9</td>\n",
       "      <td>0.076</td>\n",
       "      <td>11.0</td>\n",
       "      <td>34.0</td>\n",
       "      <td>0.9978</td>\n",
       "      <td>3.51</td>\n",
       "      <td>0.56</td>\n",
       "      <td>9.4</td>\n",
       "      <td>5</td>\n",
       "      <td>1</td>\n",
       "      <td>0</td>\n",
       "    </tr>\n",
       "    <tr>\n",
       "      <th>1</th>\n",
       "      <td>7.8</td>\n",
       "      <td>0.88</td>\n",
       "      <td>0.00</td>\n",
       "      <td>2.6</td>\n",
       "      <td>0.098</td>\n",
       "      <td>25.0</td>\n",
       "      <td>67.0</td>\n",
       "      <td>0.9968</td>\n",
       "      <td>3.20</td>\n",
       "      <td>0.68</td>\n",
       "      <td>9.8</td>\n",
       "      <td>5</td>\n",
       "      <td>1</td>\n",
       "      <td>0</td>\n",
       "    </tr>\n",
       "    <tr>\n",
       "      <th>2</th>\n",
       "      <td>7.8</td>\n",
       "      <td>0.76</td>\n",
       "      <td>0.04</td>\n",
       "      <td>2.3</td>\n",
       "      <td>0.092</td>\n",
       "      <td>15.0</td>\n",
       "      <td>54.0</td>\n",
       "      <td>0.9970</td>\n",
       "      <td>3.26</td>\n",
       "      <td>0.65</td>\n",
       "      <td>9.8</td>\n",
       "      <td>5</td>\n",
       "      <td>1</td>\n",
       "      <td>0</td>\n",
       "    </tr>\n",
       "    <tr>\n",
       "      <th>3</th>\n",
       "      <td>11.2</td>\n",
       "      <td>0.28</td>\n",
       "      <td>0.56</td>\n",
       "      <td>1.9</td>\n",
       "      <td>0.075</td>\n",
       "      <td>17.0</td>\n",
       "      <td>60.0</td>\n",
       "      <td>0.9980</td>\n",
       "      <td>3.16</td>\n",
       "      <td>0.58</td>\n",
       "      <td>9.8</td>\n",
       "      <td>6</td>\n",
       "      <td>1</td>\n",
       "      <td>1</td>\n",
       "    </tr>\n",
       "    <tr>\n",
       "      <th>4</th>\n",
       "      <td>7.4</td>\n",
       "      <td>0.70</td>\n",
       "      <td>0.00</td>\n",
       "      <td>1.9</td>\n",
       "      <td>0.076</td>\n",
       "      <td>11.0</td>\n",
       "      <td>34.0</td>\n",
       "      <td>0.9978</td>\n",
       "      <td>3.51</td>\n",
       "      <td>0.56</td>\n",
       "      <td>9.4</td>\n",
       "      <td>5</td>\n",
       "      <td>1</td>\n",
       "      <td>0</td>\n",
       "    </tr>\n",
       "    <tr>\n",
       "      <th>5</th>\n",
       "      <td>7.4</td>\n",
       "      <td>0.66</td>\n",
       "      <td>0.00</td>\n",
       "      <td>1.8</td>\n",
       "      <td>0.075</td>\n",
       "      <td>13.0</td>\n",
       "      <td>40.0</td>\n",
       "      <td>0.9978</td>\n",
       "      <td>3.51</td>\n",
       "      <td>0.56</td>\n",
       "      <td>9.4</td>\n",
       "      <td>5</td>\n",
       "      <td>1</td>\n",
       "      <td>0</td>\n",
       "    </tr>\n",
       "    <tr>\n",
       "      <th>6</th>\n",
       "      <td>7.9</td>\n",
       "      <td>0.60</td>\n",
       "      <td>0.06</td>\n",
       "      <td>1.6</td>\n",
       "      <td>0.069</td>\n",
       "      <td>15.0</td>\n",
       "      <td>59.0</td>\n",
       "      <td>0.9964</td>\n",
       "      <td>3.30</td>\n",
       "      <td>0.46</td>\n",
       "      <td>9.4</td>\n",
       "      <td>5</td>\n",
       "      <td>1</td>\n",
       "      <td>0</td>\n",
       "    </tr>\n",
       "    <tr>\n",
       "      <th>7</th>\n",
       "      <td>7.3</td>\n",
       "      <td>0.65</td>\n",
       "      <td>0.00</td>\n",
       "      <td>1.2</td>\n",
       "      <td>0.065</td>\n",
       "      <td>15.0</td>\n",
       "      <td>21.0</td>\n",
       "      <td>0.9946</td>\n",
       "      <td>3.39</td>\n",
       "      <td>0.47</td>\n",
       "      <td>10.0</td>\n",
       "      <td>7</td>\n",
       "      <td>1</td>\n",
       "      <td>1</td>\n",
       "    </tr>\n",
       "    <tr>\n",
       "      <th>8</th>\n",
       "      <td>7.8</td>\n",
       "      <td>0.58</td>\n",
       "      <td>0.02</td>\n",
       "      <td>2.0</td>\n",
       "      <td>0.073</td>\n",
       "      <td>9.0</td>\n",
       "      <td>18.0</td>\n",
       "      <td>0.9968</td>\n",
       "      <td>3.36</td>\n",
       "      <td>0.57</td>\n",
       "      <td>9.5</td>\n",
       "      <td>7</td>\n",
       "      <td>1</td>\n",
       "      <td>1</td>\n",
       "    </tr>\n",
       "    <tr>\n",
       "      <th>9</th>\n",
       "      <td>7.5</td>\n",
       "      <td>0.50</td>\n",
       "      <td>0.36</td>\n",
       "      <td>6.1</td>\n",
       "      <td>0.071</td>\n",
       "      <td>17.0</td>\n",
       "      <td>102.0</td>\n",
       "      <td>0.9978</td>\n",
       "      <td>3.35</td>\n",
       "      <td>0.80</td>\n",
       "      <td>10.5</td>\n",
       "      <td>5</td>\n",
       "      <td>1</td>\n",
       "      <td>0</td>\n",
       "    </tr>\n",
       "  </tbody>\n",
       "</table>\n",
       "</div>"
      ],
      "text/plain": [
       "   fixed acidity  volatile acidity  citric acid  residual sugar  chlorides  \\\n",
       "0            7.4              0.70         0.00             1.9      0.076   \n",
       "1            7.8              0.88         0.00             2.6      0.098   \n",
       "2            7.8              0.76         0.04             2.3      0.092   \n",
       "3           11.2              0.28         0.56             1.9      0.075   \n",
       "4            7.4              0.70         0.00             1.9      0.076   \n",
       "5            7.4              0.66         0.00             1.8      0.075   \n",
       "6            7.9              0.60         0.06             1.6      0.069   \n",
       "7            7.3              0.65         0.00             1.2      0.065   \n",
       "8            7.8              0.58         0.02             2.0      0.073   \n",
       "9            7.5              0.50         0.36             6.1      0.071   \n",
       "\n",
       "   free sulfur dioxide  total sulfur dioxide  density    pH  sulphates  \\\n",
       "0                 11.0                  34.0   0.9978  3.51       0.56   \n",
       "1                 25.0                  67.0   0.9968  3.20       0.68   \n",
       "2                 15.0                  54.0   0.9970  3.26       0.65   \n",
       "3                 17.0                  60.0   0.9980  3.16       0.58   \n",
       "4                 11.0                  34.0   0.9978  3.51       0.56   \n",
       "5                 13.0                  40.0   0.9978  3.51       0.56   \n",
       "6                 15.0                  59.0   0.9964  3.30       0.46   \n",
       "7                 15.0                  21.0   0.9946  3.39       0.47   \n",
       "8                  9.0                  18.0   0.9968  3.36       0.57   \n",
       "9                 17.0                 102.0   0.9978  3.35       0.80   \n",
       "\n",
       "   alcohol  quality  color  quality_binary  \n",
       "0      9.4        5      1               0  \n",
       "1      9.8        5      1               0  \n",
       "2      9.8        5      1               0  \n",
       "3      9.8        6      1               1  \n",
       "4      9.4        5      1               0  \n",
       "5      9.4        5      1               0  \n",
       "6      9.4        5      1               0  \n",
       "7     10.0        7      1               1  \n",
       "8      9.5        7      1               1  \n",
       "9     10.5        5      1               0  "
      ]
     },
     "execution_count": 3,
     "metadata": {},
     "output_type": "execute_result"
    }
   ],
   "source": [
    "df_red = pd.read_csv(\"..datasets/wine/winequality-red.csv\", sep=';')\n",
    "df_white = pd.read_csv(\"..datasets/wine/winequality-white.csv\", sep=';')\n",
    "\n",
    "# red -> 1\n",
    "# white -> 0\n",
    "df_red['color'] = 1\n",
    "df_white['color'] = 0\n",
    "\n",
    "dataset = pd.concat([df_red, df_white], ignore_index=True)\n",
    "\n",
    "# We left out category 9 wine - there only white wines there\n",
    "dataset = dataset.drop(dataset[dataset.quality == 9].index)\n",
    "dataset.reset_index(inplace=True, drop=True)\n",
    "\n",
    "# computing the binary outcome\n",
    "dataset['quality_binary'] = dataset['quality'] > 5\n",
    "dataset['quality_binary'] = dataset['quality_binary'].astype(int)\n",
    "\n",
    "dataset.reset_index(drop=True, inplace=True)\n",
    "\n",
    "dataset.head(10)"
   ]
  },
  {
   "cell_type": "code",
   "execution_count": 4,
   "metadata": {
    "pycharm": {
     "name": "#%%\n"
    }
   },
   "outputs": [
    {
     "data": {
      "text/plain": [
       "fixed acidity           0\n",
       "volatile acidity        0\n",
       "citric acid             0\n",
       "residual sugar          0\n",
       "chlorides               0\n",
       "free sulfur dioxide     0\n",
       "total sulfur dioxide    0\n",
       "density                 0\n",
       "pH                      0\n",
       "sulphates               0\n",
       "alcohol                 0\n",
       "quality                 0\n",
       "color                   0\n",
       "quality_binary          0\n",
       "dtype: int64"
      ]
     },
     "execution_count": 4,
     "metadata": {},
     "output_type": "execute_result"
    }
   ],
   "source": [
    "dataset.isna().sum()"
   ]
  },
  {
   "cell_type": "code",
   "execution_count": null,
   "metadata": {
    "pycharm": {
     "name": "#%%\n"
    }
   },
   "outputs": [],
   "source": []
  },
  {
   "cell_type": "code",
   "execution_count": 5,
   "metadata": {
    "pycharm": {
     "name": "#%%\n"
    }
   },
   "outputs": [
    {
     "data": {
      "image/png": "[encoded data removed]",
      "text/plain": [
       "<Figure size 425.125x360 with 1 Axes>"
      ]
     },
     "metadata": {
      "needs_background": "light"
     },
     "output_type": "display_data"
    }
   ],
   "source": [
    "visual_p = dataset.groupby(['color','quality'])['quality'].count()\n",
    "visual_p_df = pd.DataFrame(visual_p)\n",
    "visual_p_df.rename({\"quality\": \"examples\"}, inplace=True, axis=1)\n",
    "visual_p_df.reset_index(inplace=True)\n",
    "visual_p_df['color'] = visual_p_df['color'].apply(lambda x: 'Red' if x == 1 else 'White')\n",
    "visual_p_df\n",
    "sns_plot = sns.catplot(x = \"quality\",       # x variable name\n",
    "            y = \"examples\",       # y variable name\n",
    "            hue = \"color\",  # group variable name\n",
    "            data = visual_p_df,     # dataframe to plot\n",
    "            kind = \"bar\",\n",
    "            palette= 'Greys',\n",
    "            legend=True)\n",
    "sns.move_legend(sns_plot, \"upper right\", bbox_to_anchor=( .8, 1), )\n",
    "#sns_plot.figure.savefig(\"..datasets_figures/wine.pdf\", bbox_inches='tight')"
   ]
  },
  {
   "cell_type": "code",
   "execution_count": 6,
   "metadata": {
    "pycharm": {
     "name": "#%%\n"
    }
   },
   "outputs": [
    {
     "data": {
      "text/html": [
       "<div>\n",
       "<style scoped>\n",
       "    .dataframe tbody tr th:only-of-type {\n",
       "        vertical-align: middle;\n",
       "    }\n",
       "\n",
       "    .dataframe tbody tr th {\n",
       "        vertical-align: top;\n",
       "    }\n",
       "\n",
       "    .dataframe thead th {\n",
       "        text-align: right;\n",
       "    }\n",
       "</style>\n",
       "<table border=\"1\" class=\"dataframe\">\n",
       "  <thead>\n",
       "    <tr style=\"text-align: right;\">\n",
       "      <th></th>\n",
       "      <th>color</th>\n",
       "      <th>num_values</th>\n",
       "      <th>percent</th>\n",
       "    </tr>\n",
       "  </thead>\n",
       "  <tbody>\n",
       "    <tr>\n",
       "      <th>0</th>\n",
       "      <td>White</td>\n",
       "      <td>4893</td>\n",
       "      <td>75.369686</td>\n",
       "    </tr>\n",
       "    <tr>\n",
       "      <th>1</th>\n",
       "      <td>Red</td>\n",
       "      <td>1599</td>\n",
       "      <td>24.630314</td>\n",
       "    </tr>\n",
       "  </tbody>\n",
       "</table>\n",
       "</div>"
      ],
      "text/plain": [
       "   color  num_values    percent\n",
       "0  White        4893  75.369686\n",
       "1    Red        1599  24.630314"
      ]
     },
     "execution_count": 6,
     "metadata": {},
     "output_type": "execute_result"
    }
   ],
   "source": [
    "df = pd.DataFrame(dataset['color'].groupby(dataset['color']).count())\n",
    "df.rename(columns={'color': 'num_values'}, inplace=True)\n",
    "df.reset_index(inplace=True)\n",
    "df['color'] = df['color'].apply(lambda x: 'Red' if x == 1 else 'White')\n",
    "df['percent'] = 100 * df['num_values']/df['num_values'].sum()\n",
    "df"
   ]
  },
  {
   "cell_type": "code",
   "execution_count": 7,
   "metadata": {
    "pycharm": {
     "name": "#%%\n"
    }
   },
   "outputs": [
    {
     "data": {
      "text/html": [
       "<div>\n",
       "<style scoped>\n",
       "    .dataframe tbody tr th:only-of-type {\n",
       "        vertical-align: middle;\n",
       "    }\n",
       "\n",
       "    .dataframe tbody tr th {\n",
       "        vertical-align: top;\n",
       "    }\n",
       "\n",
       "    .dataframe thead th {\n",
       "        text-align: right;\n",
       "    }\n",
       "</style>\n",
       "<table border=\"1\" class=\"dataframe\">\n",
       "  <thead>\n",
       "    <tr style=\"text-align: right;\">\n",
       "      <th></th>\n",
       "      <th>color</th>\n",
       "      <th>quality_binary</th>\n",
       "      <th>chlorides</th>\n",
       "      <th>percent</th>\n",
       "    </tr>\n",
       "  </thead>\n",
       "  <tbody>\n",
       "    <tr>\n",
       "      <th>0</th>\n",
       "      <td>0</td>\n",
       "      <td>0</td>\n",
       "      <td>1640</td>\n",
       "      <td>25.261861</td>\n",
       "    </tr>\n",
       "    <tr>\n",
       "      <th>1</th>\n",
       "      <td>0</td>\n",
       "      <td>1</td>\n",
       "      <td>3253</td>\n",
       "      <td>50.107825</td>\n",
       "    </tr>\n",
       "    <tr>\n",
       "      <th>2</th>\n",
       "      <td>1</td>\n",
       "      <td>0</td>\n",
       "      <td>744</td>\n",
       "      <td>11.460259</td>\n",
       "    </tr>\n",
       "    <tr>\n",
       "      <th>3</th>\n",
       "      <td>1</td>\n",
       "      <td>1</td>\n",
       "      <td>855</td>\n",
       "      <td>13.170055</td>\n",
       "    </tr>\n",
       "  </tbody>\n",
       "</table>\n",
       "</div>"
      ],
      "text/plain": [
       "   color  quality_binary  chlorides    percent\n",
       "0      0               0       1640  25.261861\n",
       "1      0               1       3253  50.107825\n",
       "2      1               0        744  11.460259\n",
       "3      1               1        855  13.170055"
      ]
     },
     "execution_count": 7,
     "metadata": {},
     "output_type": "execute_result"
    }
   ],
   "source": [
    "df = pd.DataFrame(dataset.groupby(['color', 'quality_binary']).count())\n",
    "df.rename(columns={'color': 'num_values'}, inplace=True)\n",
    "df.reset_index(inplace=True)\n",
    "df = df [['color', 'quality_binary', 'chlorides']]\n",
    "df['percent'] = 100 * df['chlorides']/df['chlorides'].sum()\n",
    "df\n",
    "\n"
   ]
  },
  {
   "cell_type": "markdown",
   "metadata": {},
   "source": [
    "Drug Consumption\n",
    "\n",
    "Gender Female = 1\n",
    "Male 0"
   ]
  },
  {
   "cell_type": "code",
   "execution_count": null,
   "metadata": {
    "pycharm": {
     "name": "#%%\n"
    }
   },
   "outputs": [],
   "source": [
    "Cat = 'cat'\n",
    "Num = 'num'\n",
    "\n",
    "VARIABLES = {'ID': Cat,  # not used for prediction\n",
    "             'Age': Num,\n",
    "             'Gender': Cat,\n",
    "             'Education': Cat,\n",
    "             'Country': Cat,\n",
    "             'Race': Cat,\n",
    "             'Nscore': Num,\n",
    "             'Escore': Num,\n",
    "             'Oscore': Num,\n",
    "             'Ascore': Num,\n",
    "             'Cscore': Num,\n",
    "             'Impulsive': Num,\n",
    "             'SS': Num,\n",
    "             # Drug usage outcomes\n",
    "             'Alcohol': Cat,\n",
    "             'Amphet': Cat,\n",
    "             'Amyl': Cat,\n",
    "             'Benzos': Cat,\n",
    "             'Caff': Cat,\n",
    "             'Cannabis': Cat,\n",
    "             'Choc': Cat,\n",
    "             'Coke': Cat,\n",
    "             'Crack': Cat,\n",
    "             'Ecstasy': Cat,\n",
    "             'Heroin': Cat,\n",
    "             'Ketamine': Cat,\n",
    "             'Legalh': Cat,\n",
    "             'LSD': Cat,\n",
    "             'Meth': Cat,\n",
    "             'Mushrooms': Cat,\n",
    "             'Nicotine': Cat,\n",
    "             'Semer': Cat,\n",
    "             'VSA': Cat\n",
    "             }\n",
    "\n",
    "df = pd.read_csv(\"..datasets/drugs/drug_consumption.data\", names=VARIABLES.keys(),\n",
    "                 sep=',', index_col=0)\n",
    "\n",
    "vars = {'Age': Num,\n",
    "        'Gender': Cat,\n",
    "        'Education': Cat,\n",
    "        'Country': Cat,\n",
    "        'Race': Cat,\n",
    "        'Nscore': Num,\n",
    "        'Escore': Num,\n",
    "        'Oscore': Num,\n",
    "        'Ascore': Num,\n",
    "        'Cscore': Num,\n",
    "        'Impulsive': Num,\n",
    "        'SS': Num,\n",
    "        'Coke': Cat}\n",
    "\n",
    "class_map = {\n",
    "    'CL0': 0,\n",
    "    'CL1': 1,\n",
    "    'CL2': 2,\n",
    "    'CL3': 3,\n",
    "    'CL4': 4,\n",
    "    'CL5': 5,\n",
    "    'CL6': 6\n",
    "}\n",
    "\n",
    "gender_tr = {\n",
    "    0.48246: 'Female',  # 49.97%\n",
    "    -0.48246: 'Male'}  # 50.03%\n",
    "\n",
    "dataset = df[list(vars.keys())]\n",
    "dataset.loc[:, 'Gender'] = (dataset['Gender'] != 0.48246).astype(float)\n",
    "dataset.loc[:, 'Coke'] = [class_map[item] for item in dataset['Coke']]\n",
    "\n",
    "# computing the binary outcome\n",
    "dataset['Coke_binary'] = dataset['Coke'] > 2\n",
    "dataset['Coke_binary'] = dataset['Coke_binary'].astype(int)\n",
    "\n",
    "dataset.reset_index(drop=True, inplace=True)\n",
    "\n",
    "dataset.head(10)"
   ]
  },
  {
   "cell_type": "code",
   "execution_count": null,
   "metadata": {
    "pycharm": {
     "name": "#%%\n"
    }
   },
   "outputs": [],
   "source": [
    "gender_tr = {\n",
    "    0.48246: 'Female',  # 49.97%\n",
    "    -0.48246: 'Male'}  # 50.03%\n",
    "\n",
    "# Not sure if I should transform this into categories\n",
    "education_tr = {\n",
    "    -2.43591: 'Left school before 16',\n",
    "    -1.73790: 'Left school at 16',\n",
    "    -1.43719: 'Left school at 17',\n",
    "    -1.22751: 'Left school at 18',\n",
    "    -0.61113: 'Some college or university, no certificate or degree',\n",
    "    -0.05921: 'Professional certificate / diploma',\n",
    "    0.45468: 'University degree',\n",
    "    1.16365: 'Masters degree',\n",
    "    1.98437: 'Doctorate degree'}\n",
    "\n",
    "country_tr = {\n",
    "    -0.09765: 'Australia',\n",
    "    0.24923: 'Canada',\n",
    "    -0.46841: 'New Zealand',\n",
    "    -0.28519: 'Other',\n",
    "    0.21128: 'Republic of Ireland',\n",
    "    0.96082: 'UK',\n",
    "    -0.57009: 'USA'}\n",
    "\n",
    "race_tr = {\n",
    "    -0.50212: 'Asian',  # 1.38% (  26)\n",
    "    -1.10702: 'Black',  # 1.75% (  33)\n",
    "    1.90725: 'Mixed-Black/Asian',  # 0.16% (   3)\n",
    "    0.12600: 'Mixed-White/Asian',  # 1.06% (  20)\n",
    "    -0.22166: 'Mixed-White/Black',  # 1.06% (  20)\n",
    "    0.11440: 'Other',  # 3.34% (  63)\n",
    "    -0.31685: 'White'}  # 91.25% (1720)\n",
    "\n",
    "# because of the scarcity we may want to try just white vs. others\n",
    "race_bin_tr = {\n",
    "    -0.50212: 'Non-white',  # 1.38% (  26)\n",
    "    -1.10702: 'Non-white',  # 1.75% (  33)\n",
    "    1.90725: 'Non-white',  # 0.16% (   3)\n",
    "    0.12600: 'Non-white',  # 1.06% (  20)\n",
    "    -0.22166: 'Non-white',  # 1.06% (  20)\n",
    "    0.11440: 'Non-white',  # 3.34% (  63)\n",
    "    -0.31685: 'White'}  # 91.25% (1720)\n",
    "\n",
    "class_map = {\n",
    "    'CL0': 0,\n",
    "    'CL1': 1,\n",
    "    'CL2': 2,\n",
    "    'CL3': 3,\n",
    "    'CL4': 4,\n",
    "    'CL5': 5,\n",
    "    'CL6': 6\n",
    "}"
   ]
  },
  {
   "cell_type": "code",
   "execution_count": null,
   "metadata": {
    "pycharm": {
     "name": "#%%\n"
    }
   },
   "outputs": [],
   "source": [
    "vars = {'Age': Num,\n",
    "     'Gender': Cat,\n",
    "     'Education': Cat,\n",
    "     'Country': Cat,\n",
    "     'Race': Cat,\n",
    "     'Nscore': Num,\n",
    "     'Escore': Num,\n",
    "     'Oscore': Num,\n",
    "     'Ascore': Num,\n",
    "     'Cscore': Num,\n",
    "     'Impulsive': Num,\n",
    "     'SS': Num,\n",
    "     'Coke': Cat   }"
   ]
  },
  {
   "cell_type": "code",
   "execution_count": null,
   "metadata": {
    "pycharm": {
     "name": "#%%\n"
    }
   },
   "outputs": [],
   "source": [
    "list(vars.keys())"
   ]
  },
  {
   "cell_type": "code",
   "execution_count": null,
   "metadata": {
    "pycharm": {
     "name": "#%%\n"
    }
   },
   "outputs": [],
   "source": [
    "data = df[list(vars.keys())]\n",
    "data.head()"
   ]
  },
  {
   "cell_type": "code",
   "execution_count": null,
   "metadata": {
    "pycharm": {
     "name": "#%%\n"
    }
   },
   "outputs": [],
   "source": [
    "data.loc[:, 'Gender'] = (data['Gender'] == 0.48246).astype(float)\n",
    "data.loc[:,'Coke'] = [class_map[item] for item in data['Coke']]"
   ]
  },
  {
   "cell_type": "code",
   "execution_count": null,
   "metadata": {
    "pycharm": {
     "name": "#%%\n"
    }
   },
   "outputs": [],
   "source": [
    "data.head()"
   ]
  },
  {
   "cell_type": "code",
   "execution_count": null,
   "metadata": {
    "pycharm": {
     "name": "#%%\n"
    }
   },
   "outputs": [],
   "source": [
    "data.isna().sum()"
   ]
  },
  {
   "cell_type": "code",
   "execution_count": null,
   "metadata": {
    "pycharm": {
     "name": "#%%\n"
    }
   },
   "outputs": [],
   "source": [
    "data.shape"
   ]
  },
  {
   "cell_type": "code",
   "execution_count": null,
   "metadata": {
    "pycharm": {
     "name": "#%%\n"
    }
   },
   "outputs": [],
   "source": [
    "all_df.to_csv(\"/Users/juls/Desktopdatasets/21_drugs_r/drugs.csv\", index=False)\n",
    "all_df.to_csv(\"datasets/drugs.csv\", index=False)"
   ]
  },
  {
   "cell_type": "markdown",
   "metadata": {},
   "source": [
    "Chicago crimes"
   ]
  },
  {
   "cell_type": "code",
   "execution_count": null,
   "metadata": {
    "pycharm": {
     "name": "#%%\n"
    }
   },
   "outputs": [],
   "source": [
    "df = pd.read_csv(\"/Users/juls/Desktopdatasets/18_chicago/crimes.csv\", sep=',')\n",
    "df.head(10)"
   ]
  },
  {
   "cell_type": "markdown",
   "metadata": {},
   "source": [
    "Insurance company"
   ]
  },
  {
   "cell_type": "code",
   "execution_count": null,
   "metadata": {
    "pycharm": {
     "name": "#%%\n"
    }
   },
   "outputs": [],
   "source": [
    "variable_names = ['MOSTYPE', 'MAANTHUI', 'MGEMOMV', 'MGEMLEEF', 'MOSHOOFD', 'MGODRK', 'MGODPR', 'MGODOV', 'MGODGE', 'MRELGE', 'MRELSA', 'MRELOV', 'MFALLEEN', 'MFGEKIND', 'MFWEKIND', 'MOPLHOOG', 'MOPLMIDD', 'MOPLLAAG', 'MBERHOOG', 'MBERZELF', 'MBERBOER', 'MBERMIDD', 'MBERARBG', 'MBERARBO', 'MSKA', 'MSKB1', 'MSKB2', 'MSKC', 'MSKD', 'MHHUUR', 'MHKOOP', 'MAUT1', 'MAUT2', 'MAUT0', 'MZFONDS', 'MZPART', 'MINKM30', 'MINK3045', 'MINK4575', 'MINK7512', 'MINK123M', 'MINKGEM', 'MKOOPKLA', 'PWAPART', 'PWABEDR', 'PWALAND', 'PPERSAUT', 'PBESAUT', 'PMOTSCO', 'PVRAAUT', 'PAANHANG', 'PTRACTOR', 'PWERKT', 'PBROM', 'PLEVEN', 'PPERSONG', 'PGEZONG', 'PWAOREG', 'PBRAND', 'PZEILPL', 'PPLEZIER', 'PFIETS', 'PINBOED', 'PBYSTAND', 'AWAPART', 'AWABEDR', 'AWALAND', 'APERSAUT', 'ABESAUT', 'AMOTSCO', 'AVRAAUT', 'AAANHANG', 'ATRACTOR', 'AWERKT', 'ABROM', 'ALEVEN', 'APERSONG', 'AGEZONG', 'AWAOREG', 'ABRAND', 'AZEILPL', 'APLEZIER', 'AFIETS', 'AINBOED', 'ABYSTAND', 'CARAVAN']\n",
    "\n",
    "df = pd.read_csv(\"/Users/juls/Desktopdatasets/22_insurancenl/tic/ticdata2000.txt\", sep='\\t', names=variable_names)\n",
    "df.head(10)"
   ]
  },
  {
   "cell_type": "code",
   "execution_count": null,
   "metadata": {
    "pycharm": {
     "name": "#%%\n"
    }
   },
   "outputs": [],
   "source": [
    "df.shape"
   ]
  },
  {
   "cell_type": "code",
   "execution_count": null,
   "metadata": {
    "pycharm": {
     "name": "#%%\n"
    }
   },
   "outputs": [],
   "source": [
    "variable_names_tst = ['MOSTYPE', 'MAANTHUI', 'MGEMOMV', 'MGEMLEEF', 'MOSHOOFD', 'MGODRK', 'MGODPR', 'MGODOV', 'MGODGE', 'MRELGE', 'MRELSA', 'MRELOV', 'MFALLEEN', 'MFGEKIND', 'MFWEKIND', 'MOPLHOOG', 'MOPLMIDD', 'MOPLLAAG', 'MBERHOOG', 'MBERZELF', 'MBERBOER', 'MBERMIDD', 'MBERARBG', 'MBERARBO', 'MSKA', 'MSKB1', 'MSKB2', 'MSKC', 'MSKD', 'MHHUUR', 'MHKOOP', 'MAUT1', 'MAUT2', 'MAUT0', 'MZFONDS', 'MZPART', 'MINKM30', 'MINK3045', 'MINK4575', 'MINK7512', 'MINK123M', 'MINKGEM', 'MKOOPKLA', 'PWAPART', 'PWABEDR', 'PWALAND', 'PPERSAUT', 'PBESAUT', 'PMOTSCO', 'PVRAAUT', 'PAANHANG', 'PTRACTOR', 'PWERKT', 'PBROM', 'PLEVEN', 'PPERSONG', 'PGEZONG', 'PWAOREG', 'PBRAND', 'PZEILPL', 'PPLEZIER', 'PFIETS', 'PINBOED', 'PBYSTAND', 'AWAPART', 'AWABEDR', 'AWALAND', 'APERSAUT', 'ABESAUT', 'AMOTSCO', 'AVRAAUT', 'AAANHANG', 'ATRACTOR', 'AWERKT', 'ABROM', 'ALEVEN', 'APERSONG', 'AGEZONG', 'AWAOREG', 'ABRAND', 'AZEILPL', 'APLEZIER', 'AFIETS', 'AINBOED', 'ABYSTAND']\n",
    "df_tst = pd.read_csv(\"/Users/juls/Desktopdatasets/22_insurancenl/tic/ticeval2000.txt\", sep='\\t', names=variable_names_tst)\n",
    "df_tst.head(10)\n"
   ]
  },
  {
   "cell_type": "code",
   "execution_count": null,
   "metadata": {
    "pycharm": {
     "name": "#%%\n"
    }
   },
   "outputs": [],
   "source": [
    "var_obj = ['CARAVAN']\n",
    "df_obj = pd.read_csv(\"/Users/juls/Desktopdatasets/22_insurancenl/tic/tictgts2000.txt\", sep='\\t', names=var_obj)\n",
    "df_obj.head(10)"
   ]
  },
  {
   "cell_type": "code",
   "execution_count": null,
   "metadata": {
    "pycharm": {
     "name": "#%%\n"
    }
   },
   "outputs": [],
   "source": [
    "df_tst_all = pd.concat([df_tst, df_obj], axis=1)\n",
    "df_tst_all.shape"
   ]
  },
  {
   "cell_type": "code",
   "execution_count": null,
   "metadata": {
    "pycharm": {
     "name": "#%%\n"
    }
   },
   "outputs": [],
   "source": [
    "df_all = pd.concat([df, df_tst_all])\n",
    "df_all.reset_index(inplace=True)\n",
    "df_all.drop('index', axis=1, inplace=True)"
   ]
  },
  {
   "cell_type": "code",
   "execution_count": null,
   "metadata": {
    "pycharm": {
     "name": "#%%\n"
    }
   },
   "outputs": [],
   "source": [
    "variable_names_data = ['MOSTYPE', 'MAANTHUI', 'MGEMOMV', 'MGEMLEEF', 'MOSHOOFD', 'MGODRK', 'MGODPR', 'MGODOV', 'MGODGE', 'MRELGE', 'MRELSA', 'MRELOV', 'MFALLEEN', 'MFGEKIND', 'MFWEKIND', 'MOPLHOOG', 'MOPLMIDD', 'MOPLLAAG', 'MBERHOOG', 'MBERZELF', 'MBERBOER', 'MBERMIDD', 'MBERARBG', 'MBERARBO', 'MSKA', 'MSKB1', 'MSKB2', 'MSKC', 'MSKD', 'MHHUUR', 'MHKOOP', 'MAUT1', 'MAUT2', 'MAUT0', 'MZFONDS', 'MZPART', 'MINKM30', 'MINK3045', 'MINK4575', 'MINK7512', 'MINK123M', 'MINKGEM', 'MKOOPKLA']\n",
    "df_all= df_all[variable_names_data]"
   ]
  },
  {
   "cell_type": "markdown",
   "metadata": {},
   "source": [
    "possible predictions"
   ]
  },
  {
   "cell_type": "code",
   "execution_count": null,
   "metadata": {
    "pycharm": {
     "name": "#%%\n"
    }
   },
   "outputs": [],
   "source": [
    "# average income -> MINKGEM\n",
    "# MKOOPKLA Purchasing power class\n",
    "# 37 MINKM30 Income < 30.000\n",
    "# 38 MINK3045 Income 30-45.000\n",
    "# 39 MINK4575 Income 45-75.000\n",
    "# 40 MINK7512 Income 75-122.000\n",
    "# 41 MINK123M Income >123.000\n",
    "# 42 MINKGEM Average income\n",
    "# 43 MKOOPKLA Purchasing power class\n",
    "\n",
    "# L3:\n",
    "# 0 0%\n",
    "# 1 1 - 10%\n",
    "# 2 11 - 23%\n",
    "# 3 24 - 36%\n",
    "# 4 37 - 49%\n",
    "# 5 50 - 62%\n",
    "# 6 63 - 75%\n",
    "# 7 76 - 88%\n",
    "# 8 89 - 99%\n",
    "# 9 100%\n",
    "\n",
    "df_all['MINKGEM'].groupby(df_all['MINKGEM']).count()"
   ]
  },
  {
   "cell_type": "code",
   "execution_count": null,
   "metadata": {
    "pycharm": {
     "name": "#%%\n"
    }
   },
   "outputs": [],
   "source": [
    "# quedarse con la de mayor valor\n",
    "\n",
    "# 6 MGODRK Roman catholic see L3\n",
    "# 7 MGODPR Protestant ...\n",
    "# 8 MGODOV Other religion\n",
    "# 9 MGODGE No religion\n",
    "\n",
    "df_all[['MGODRK', 'MGODPR', 'MGODOV', 'MGODGE']]"
   ]
  },
  {
   "cell_type": "code",
   "execution_count": null,
   "metadata": {
    "pycharm": {
     "name": "#%%\n"
    }
   },
   "outputs": [],
   "source": [
    "max_religion = df_all[['MGODRK', 'MGODPR', 'MGODOV', 'MGODGE']].idxmax(axis=1)\n",
    "max_religion"
   ]
  },
  {
   "cell_type": "code",
   "execution_count": null,
   "metadata": {
    "pycharm": {
     "name": "#%%\n"
    }
   },
   "outputs": [],
   "source": [
    "code_religion = {'MGODRK': 0, 'MGODPR':1, 'MGODOV':2, 'MGODGE':3}\n",
    "max_religion"
   ]
  },
  {
   "cell_type": "code",
   "execution_count": null,
   "metadata": {
    "pycharm": {
     "name": "#%%\n"
    }
   },
   "outputs": [],
   "source": [
    "df_all['religion'] = max_religion\n"
   ]
  },
  {
   "cell_type": "code",
   "execution_count": null,
   "metadata": {
    "pycharm": {
     "name": "#%%\n"
    }
   },
   "outputs": [],
   "source": [
    "df_all.groupby(df_all['religion']).count()"
   ]
  },
  {
   "cell_type": "code",
   "execution_count": null,
   "metadata": {
    "pycharm": {
     "name": "#%%\n"
    }
   },
   "outputs": [],
   "source": [
    "df_all['religion'] = df_all['religion'].apply(lambda x: 0 if x == 'MGODGE' else 1)"
   ]
  },
  {
   "cell_type": "code",
   "execution_count": null,
   "metadata": {
    "pycharm": {
     "name": "#%%\n"
    }
   },
   "outputs": [],
   "source": [
    "df_all.shape"
   ]
  },
  {
   "cell_type": "code",
   "execution_count": null,
   "metadata": {
    "pycharm": {
     "name": "#%%\n"
    }
   },
   "outputs": [],
   "source": [
    "df_all.drop(['MGODRK', 'MGODPR', 'MGODOV', 'MGODGE'], axis=1, inplace=True)\n",
    "df_all.shape"
   ]
  },
  {
   "cell_type": "code",
   "execution_count": null,
   "metadata": {
    "pycharm": {
     "name": "#%%\n"
    }
   },
   "outputs": [],
   "source": [
    "# 37 MINKM30 Income < 30.000\n",
    "# 38 MINK3045 Income 30-45.000\n",
    "# 39 MINK4575 Income 45-75.000\n",
    "# 40 MINK7512 Income 75-122.000\n",
    "# 41 MINK123M Income >123.000\n",
    "# 42 MINKGEM Average income\n",
    "# 43 MKOOPKLA Purchasing power class\n",
    "\n",
    "df_all[['MINKM30', 'MINK3045', 'MINK4575', 'MINK7512', 'MINK123M', 'MINKGEM', 'MKOOPKLA']]"
   ]
  },
  {
   "cell_type": "code",
   "execution_count": null,
   "metadata": {
    "pycharm": {
     "name": "#%%\n"
    }
   },
   "outputs": [],
   "source": [
    "df_all['max_income'] = df_all[['MINKM30', 'MINK3045', 'MINK4575', 'MINK7512', 'MINK123M']].max(axis=1)\n",
    "#df_all.drop(['MINKM30', 'MINK3045', 'MINK4575', 'MINK7512', 'MINK123M', 'MINKGEM', 'MKOOPKLA'], axis=1, inplace=True)\n",
    "df_all.shape"
   ]
  },
  {
   "cell_type": "code",
   "execution_count": null,
   "metadata": {
    "pycharm": {
     "name": "#%%\n"
    }
   },
   "outputs": [],
   "source": [
    "df_all"
   ]
  },
  {
   "cell_type": "code",
   "execution_count": null,
   "metadata": {
    "pycharm": {
     "name": "#%%\n"
    }
   },
   "outputs": [],
   "source": [
    "all_df.to_csv(\"/Users/juls/Desktopdatasets/22_insurancenl/insurancenl.csv\", index=False)\n",
    "all_df.to_csv(\"datasets/insurancenl.csv\", index=False)"
   ]
  },
  {
   "cell_type": "code",
   "execution_count": null,
   "metadata": {
    "pycharm": {
     "name": "#%%\n"
    }
   },
   "outputs": [],
   "source": [
    "df = pd.read_csv(\"datasets/wine.csv\")\n",
    "df.head()"
   ]
  }
 ],
 "metadata": {
  "kernelspec": {
   "display_name": "Python 3 (ipykernel)",
   "language": "python",
   "name": "python3"
  },
  "language_info": {
   "codemirror_mode": {
    "name": "ipython",
    "version": 3
   },
   "file_extension": ".py",
   "mimetype": "text/x-python",
   "name": "python",
   "nbconvert_exporter": "python",
   "pygments_lexer": "ipython3",
   "version": "3.8.2"
  }
 },
 "nbformat": 4,
 "nbformat_minor": 1
}
